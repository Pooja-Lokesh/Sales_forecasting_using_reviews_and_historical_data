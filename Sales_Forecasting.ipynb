{
  "nbformat": 4,
  "nbformat_minor": 0,
  "metadata": {
    "colab": {
      "name": "Sales_Forecasting.ipynb",
      "provenance": [],
      "collapsed_sections": []
    },
    "kernelspec": {
      "name": "python3",
      "display_name": "Python 3"
    }
  },
  "cells": [
    {
      "cell_type": "markdown",
      "metadata": {
        "id": "av38u6RvWjqs"
      },
      "source": [
        "# Basic"
      ]
    },
    {
      "cell_type": "code",
      "metadata": {
        "id": "t5BwyJJf8u7h"
      },
      "source": [
        "import pandas as pd\n",
        "import numpy as np"
      ],
      "execution_count": null,
      "outputs": []
    },
    {
      "cell_type": "code",
      "metadata": {
        "id": "hjBUf6RzBzvO"
      },
      "source": [
        "# Importing sales pipeline dataset \n",
        "\n",
        "df1 = pd.read_excel(\"/content/drive/My Drive/sales-pipeline.xlsx\")"
      ],
      "execution_count": null,
      "outputs": []
    },
    {
      "cell_type": "code",
      "metadata": {
        "id": "B4ueB-Tk9Cr9",
        "colab": {
          "base_uri": "https://localhost:8080/",
          "height": 389
        },
        "outputId": "08ed89dc-89f9-4898-fd4f-726072656fb3"
      },
      "source": [
        "df1.head()"
      ],
      "execution_count": null,
      "outputs": [
        {
          "output_type": "execute_result",
          "data": {
            "text/html": [
              "<div>\n",
              "<style scoped>\n",
              "    .dataframe tbody tr th:only-of-type {\n",
              "        vertical-align: middle;\n",
              "    }\n",
              "\n",
              "    .dataframe tbody tr th {\n",
              "        vertical-align: top;\n",
              "    }\n",
              "\n",
              "    .dataframe thead th {\n",
              "        text-align: right;\n",
              "    }\n",
              "</style>\n",
              "<table border=\"1\" class=\"dataframe\">\n",
              "  <thead>\n",
              "    <tr style=\"text-align: right;\">\n",
              "      <th></th>\n",
              "      <th>Account</th>\n",
              "      <th>Opportunity_ID</th>\n",
              "      <th>Sales_Agent</th>\n",
              "      <th>SalesAgentEmailID</th>\n",
              "      <th>ContactEmailID</th>\n",
              "      <th>Deal_Stage</th>\n",
              "      <th>Product</th>\n",
              "      <th>Close_Value</th>\n",
              "      <th>Created Date</th>\n",
              "      <th>Close Date</th>\n",
              "      <th>DateDiff</th>\n",
              "    </tr>\n",
              "  </thead>\n",
              "  <tbody>\n",
              "    <tr>\n",
              "      <th>0</th>\n",
              "      <td>Konex</td>\n",
              "      <td>3KR50X38</td>\n",
              "      <td>Corliss Cosme</td>\n",
              "      <td>corliss@piedpiper.com</td>\n",
              "      <td>delila@konex.com</td>\n",
              "      <td>Won</td>\n",
              "      <td>GTX Plus Basic</td>\n",
              "      <td>1255</td>\n",
              "      <td>2016-01-04</td>\n",
              "      <td>2016-05-24</td>\n",
              "      <td>141</td>\n",
              "    </tr>\n",
              "    <tr>\n",
              "      <th>1</th>\n",
              "      <td>Finjob</td>\n",
              "      <td>YFS5KLJJ</td>\n",
              "      <td>Rosalina Dieter</td>\n",
              "      <td>rosalina@piedpiper.com</td>\n",
              "      <td>belinda@finjob.com</td>\n",
              "      <td>Won</td>\n",
              "      <td>MG Special</td>\n",
              "      <td>45</td>\n",
              "      <td>2016-01-04</td>\n",
              "      <td>2016-11-02</td>\n",
              "      <td>303</td>\n",
              "    </tr>\n",
              "    <tr>\n",
              "      <th>2</th>\n",
              "      <td>Kinnamplus</td>\n",
              "      <td>N0ONCYVZ</td>\n",
              "      <td>Donn Cantrell</td>\n",
              "      <td>donn@piedpiper.com</td>\n",
              "      <td>monte@kinnamplus.com</td>\n",
              "      <td>Lost</td>\n",
              "      <td>MG Special</td>\n",
              "      <td>1054</td>\n",
              "      <td>2016-01-06</td>\n",
              "      <td>2016-12-07</td>\n",
              "      <td>336</td>\n",
              "    </tr>\n",
              "    <tr>\n",
              "      <th>3</th>\n",
              "      <td>Genco Pura Olive Oil Company</td>\n",
              "      <td>IBEUTCSW</td>\n",
              "      <td>James Ascencio</td>\n",
              "      <td>james@piedpiper.com</td>\n",
              "      <td>karole@gencopuraoliveoilcompany.com</td>\n",
              "      <td>In Progress</td>\n",
              "      <td>MG Advanced</td>\n",
              "      <td>1054</td>\n",
              "      <td>2016-01-06</td>\n",
              "      <td>2016-09-11</td>\n",
              "      <td>249</td>\n",
              "    </tr>\n",
              "    <tr>\n",
              "      <th>4</th>\n",
              "      <td>Initech</td>\n",
              "      <td>G8AO5FA2</td>\n",
              "      <td>Wilburn Farren</td>\n",
              "      <td>wilburn@piedpiper.com</td>\n",
              "      <td>alejandro@initech.com</td>\n",
              "      <td>Lost</td>\n",
              "      <td>MG Advanced</td>\n",
              "      <td>517</td>\n",
              "      <td>2016-01-06</td>\n",
              "      <td>2016-09-18</td>\n",
              "      <td>256</td>\n",
              "    </tr>\n",
              "  </tbody>\n",
              "</table>\n",
              "</div>"
            ],
            "text/plain": [
              "                        Account Opportunity_ID  ... Close Date DateDiff\n",
              "0                         Konex       3KR50X38  ... 2016-05-24      141\n",
              "1                        Finjob       YFS5KLJJ  ... 2016-11-02      303\n",
              "2                    Kinnamplus       N0ONCYVZ  ... 2016-12-07      336\n",
              "3  Genco Pura Olive Oil Company       IBEUTCSW  ... 2016-09-11      249\n",
              "4                       Initech       G8AO5FA2  ... 2016-09-18      256\n",
              "\n",
              "[5 rows x 11 columns]"
            ]
          },
          "metadata": {
            "tags": []
          },
          "execution_count": 3
        }
      ]
    },
    {
      "cell_type": "code",
      "metadata": {
        "id": "7EHhhq5XRmFU"
      },
      "source": [
        "# Converting the Close Date feature to date format\n",
        "\n",
        "df1['year_month'] = df1['Close Date'].dt.strftime('%Y-%m')"
      ],
      "execution_count": null,
      "outputs": []
    },
    {
      "cell_type": "code",
      "metadata": {
        "id": "SQ9awXOxRzpQ",
        "colab": {
          "base_uri": "https://localhost:8080/",
          "height": 389
        },
        "outputId": "63b88b7a-f2d2-46dc-bb1e-cb6628691275"
      },
      "source": [
        "df1.head()"
      ],
      "execution_count": null,
      "outputs": [
        {
          "output_type": "execute_result",
          "data": {
            "text/html": [
              "<div>\n",
              "<style scoped>\n",
              "    .dataframe tbody tr th:only-of-type {\n",
              "        vertical-align: middle;\n",
              "    }\n",
              "\n",
              "    .dataframe tbody tr th {\n",
              "        vertical-align: top;\n",
              "    }\n",
              "\n",
              "    .dataframe thead th {\n",
              "        text-align: right;\n",
              "    }\n",
              "</style>\n",
              "<table border=\"1\" class=\"dataframe\">\n",
              "  <thead>\n",
              "    <tr style=\"text-align: right;\">\n",
              "      <th></th>\n",
              "      <th>Account</th>\n",
              "      <th>Opportunity_ID</th>\n",
              "      <th>Sales_Agent</th>\n",
              "      <th>SalesAgentEmailID</th>\n",
              "      <th>ContactEmailID</th>\n",
              "      <th>Deal_Stage</th>\n",
              "      <th>Product</th>\n",
              "      <th>Close_Value</th>\n",
              "      <th>Created Date</th>\n",
              "      <th>Close Date</th>\n",
              "      <th>DateDiff</th>\n",
              "      <th>year_month</th>\n",
              "    </tr>\n",
              "  </thead>\n",
              "  <tbody>\n",
              "    <tr>\n",
              "      <th>0</th>\n",
              "      <td>Konex</td>\n",
              "      <td>3KR50X38</td>\n",
              "      <td>Corliss Cosme</td>\n",
              "      <td>corliss@piedpiper.com</td>\n",
              "      <td>delila@konex.com</td>\n",
              "      <td>Won</td>\n",
              "      <td>GTX Plus Basic</td>\n",
              "      <td>1255</td>\n",
              "      <td>2016-01-04</td>\n",
              "      <td>2016-05-24</td>\n",
              "      <td>141</td>\n",
              "      <td>2016-05</td>\n",
              "    </tr>\n",
              "    <tr>\n",
              "      <th>1</th>\n",
              "      <td>Finjob</td>\n",
              "      <td>YFS5KLJJ</td>\n",
              "      <td>Rosalina Dieter</td>\n",
              "      <td>rosalina@piedpiper.com</td>\n",
              "      <td>belinda@finjob.com</td>\n",
              "      <td>Won</td>\n",
              "      <td>MG Special</td>\n",
              "      <td>45</td>\n",
              "      <td>2016-01-04</td>\n",
              "      <td>2016-11-02</td>\n",
              "      <td>303</td>\n",
              "      <td>2016-11</td>\n",
              "    </tr>\n",
              "    <tr>\n",
              "      <th>2</th>\n",
              "      <td>Kinnamplus</td>\n",
              "      <td>N0ONCYVZ</td>\n",
              "      <td>Donn Cantrell</td>\n",
              "      <td>donn@piedpiper.com</td>\n",
              "      <td>monte@kinnamplus.com</td>\n",
              "      <td>Lost</td>\n",
              "      <td>MG Special</td>\n",
              "      <td>1054</td>\n",
              "      <td>2016-01-06</td>\n",
              "      <td>2016-12-07</td>\n",
              "      <td>336</td>\n",
              "      <td>2016-12</td>\n",
              "    </tr>\n",
              "    <tr>\n",
              "      <th>3</th>\n",
              "      <td>Genco Pura Olive Oil Company</td>\n",
              "      <td>IBEUTCSW</td>\n",
              "      <td>James Ascencio</td>\n",
              "      <td>james@piedpiper.com</td>\n",
              "      <td>karole@gencopuraoliveoilcompany.com</td>\n",
              "      <td>In Progress</td>\n",
              "      <td>MG Advanced</td>\n",
              "      <td>1054</td>\n",
              "      <td>2016-01-06</td>\n",
              "      <td>2016-09-11</td>\n",
              "      <td>249</td>\n",
              "      <td>2016-09</td>\n",
              "    </tr>\n",
              "    <tr>\n",
              "      <th>4</th>\n",
              "      <td>Initech</td>\n",
              "      <td>G8AO5FA2</td>\n",
              "      <td>Wilburn Farren</td>\n",
              "      <td>wilburn@piedpiper.com</td>\n",
              "      <td>alejandro@initech.com</td>\n",
              "      <td>Lost</td>\n",
              "      <td>MG Advanced</td>\n",
              "      <td>517</td>\n",
              "      <td>2016-01-06</td>\n",
              "      <td>2016-09-18</td>\n",
              "      <td>256</td>\n",
              "      <td>2016-09</td>\n",
              "    </tr>\n",
              "  </tbody>\n",
              "</table>\n",
              "</div>"
            ],
            "text/plain": [
              "                        Account Opportunity_ID  ... DateDiff year_month\n",
              "0                         Konex       3KR50X38  ...      141    2016-05\n",
              "1                        Finjob       YFS5KLJJ  ...      303    2016-11\n",
              "2                    Kinnamplus       N0ONCYVZ  ...      336    2016-12\n",
              "3  Genco Pura Olive Oil Company       IBEUTCSW  ...      249    2016-09\n",
              "4                       Initech       G8AO5FA2  ...      256    2016-09\n",
              "\n",
              "[5 rows x 12 columns]"
            ]
          },
          "metadata": {
            "tags": []
          },
          "execution_count": 5
        }
      ]
    },
    {
      "cell_type": "code",
      "metadata": {
        "id": "pLDHQ7ww952f"
      },
      "source": [
        "# Importing interactions dataset \n",
        "\n",
        "df2 = pd.read_excel(\"/content/drive/My Drive/interactions.xlsx\")"
      ],
      "execution_count": null,
      "outputs": []
    },
    {
      "cell_type": "code",
      "metadata": {
        "id": "r-tXWqdT-FDO",
        "colab": {
          "base_uri": "https://localhost:8080/",
          "height": 485
        },
        "outputId": "2fd6947f-0bab-41e3-de3c-e31b81105f7a"
      },
      "source": [
        "df2.head()"
      ],
      "execution_count": null,
      "outputs": [
        {
          "output_type": "execute_result",
          "data": {
            "text/html": [
              "<div>\n",
              "<style scoped>\n",
              "    .dataframe tbody tr th:only-of-type {\n",
              "        vertical-align: middle;\n",
              "    }\n",
              "\n",
              "    .dataframe tbody tr th {\n",
              "        vertical-align: top;\n",
              "    }\n",
              "\n",
              "    .dataframe thead th {\n",
              "        text-align: right;\n",
              "    }\n",
              "</style>\n",
              "<table border=\"1\" class=\"dataframe\">\n",
              "  <thead>\n",
              "    <tr style=\"text-align: right;\">\n",
              "      <th></th>\n",
              "      <th>interactionID</th>\n",
              "      <th>fromEmailId</th>\n",
              "      <th>toEmailId</th>\n",
              "      <th>InteractionDate</th>\n",
              "      <th>InteractionType(Call/Email/SMS)</th>\n",
              "      <th>Extracted Interaction Text</th>\n",
              "    </tr>\n",
              "  </thead>\n",
              "  <tbody>\n",
              "    <tr>\n",
              "      <th>0</th>\n",
              "      <td>8842411</td>\n",
              "      <td>gladys@piedpiper.com</td>\n",
              "      <td>kristle@dontechi.com</td>\n",
              "      <td>2016-01-04</td>\n",
              "      <td>Call</td>\n",
              "      <td>I thoroughly enjoyed your presentation yesterd...</td>\n",
              "    </tr>\n",
              "    <tr>\n",
              "      <th>1</th>\n",
              "      <td>8015509</td>\n",
              "      <td>donn@piedpiper.com</td>\n",
              "      <td>orpha@umbrellacorporation.com</td>\n",
              "      <td>2016-01-04</td>\n",
              "      <td>Call</td>\n",
              "      <td>speaking with you and your staff will be a tre...</td>\n",
              "    </tr>\n",
              "    <tr>\n",
              "      <th>2</th>\n",
              "      <td>5976842</td>\n",
              "      <td>kary@piedpiper.com</td>\n",
              "      <td>claribel@goodsilron.com</td>\n",
              "      <td>2016-01-04</td>\n",
              "      <td>Email</td>\n",
              "      <td>However, I am unable to join because of my fam...</td>\n",
              "    </tr>\n",
              "    <tr>\n",
              "      <th>3</th>\n",
              "      <td>1471794</td>\n",
              "      <td>boris@piedpiper.com</td>\n",
              "      <td>gordon@scotfind.com</td>\n",
              "      <td>2016-01-04</td>\n",
              "      <td>Call</td>\n",
              "      <td>We are extremely sorry to inform you that we h...</td>\n",
              "    </tr>\n",
              "    <tr>\n",
              "      <th>4</th>\n",
              "      <td>4330320</td>\n",
              "      <td>darcel@piedpiper.com</td>\n",
              "      <td>benny@treequote.com</td>\n",
              "      <td>2016-01-04</td>\n",
              "      <td>Call</td>\n",
              "      <td>I don't think it's possible for me to meet you</td>\n",
              "    </tr>\n",
              "  </tbody>\n",
              "</table>\n",
              "</div>"
            ],
            "text/plain": [
              "   interactionID  ...                         Extracted Interaction Text\n",
              "0        8842411  ...  I thoroughly enjoyed your presentation yesterd...\n",
              "1        8015509  ...  speaking with you and your staff will be a tre...\n",
              "2        5976842  ...  However, I am unable to join because of my fam...\n",
              "3        1471794  ...  We are extremely sorry to inform you that we h...\n",
              "4        4330320  ...     I don't think it's possible for me to meet you\n",
              "\n",
              "[5 rows x 6 columns]"
            ]
          },
          "metadata": {
            "tags": []
          },
          "execution_count": 7
        }
      ]
    },
    {
      "cell_type": "markdown",
      "metadata": {
        "id": "nOrwYjX3H-YD"
      },
      "source": [
        "# Sales_pipeline dataset cleaning "
      ]
    },
    {
      "cell_type": "code",
      "metadata": {
        "id": "LkEJksFcGONK",
        "colab": {
          "base_uri": "https://localhost:8080/",
          "height": 350
        },
        "outputId": "0e6de145-f6e4-413d-9075-ae9db41fc0a3"
      },
      "source": [
        "# Filtering all the sales proposals which are won\n",
        "\n",
        "df1 = df1[df1['Deal_Stage']==\"Won\"]\n",
        "df1.head()"
      ],
      "execution_count": null,
      "outputs": [
        {
          "output_type": "execute_result",
          "data": {
            "text/html": [
              "<div>\n",
              "<style scoped>\n",
              "    .dataframe tbody tr th:only-of-type {\n",
              "        vertical-align: middle;\n",
              "    }\n",
              "\n",
              "    .dataframe tbody tr th {\n",
              "        vertical-align: top;\n",
              "    }\n",
              "\n",
              "    .dataframe thead th {\n",
              "        text-align: right;\n",
              "    }\n",
              "</style>\n",
              "<table border=\"1\" class=\"dataframe\">\n",
              "  <thead>\n",
              "    <tr style=\"text-align: right;\">\n",
              "      <th></th>\n",
              "      <th>Account</th>\n",
              "      <th>Opportunity_ID</th>\n",
              "      <th>Sales_Agent</th>\n",
              "      <th>SalesAgentEmailID</th>\n",
              "      <th>ContactEmailID</th>\n",
              "      <th>Deal_Stage</th>\n",
              "      <th>Product</th>\n",
              "      <th>Close_Value</th>\n",
              "      <th>Created Date</th>\n",
              "      <th>Close Date</th>\n",
              "      <th>DateDiff</th>\n",
              "      <th>year_month</th>\n",
              "    </tr>\n",
              "  </thead>\n",
              "  <tbody>\n",
              "    <tr>\n",
              "      <th>0</th>\n",
              "      <td>Konex</td>\n",
              "      <td>3KR50X38</td>\n",
              "      <td>Corliss Cosme</td>\n",
              "      <td>corliss@piedpiper.com</td>\n",
              "      <td>delila@konex.com</td>\n",
              "      <td>Won</td>\n",
              "      <td>GTX Plus Basic</td>\n",
              "      <td>1255</td>\n",
              "      <td>2016-01-04</td>\n",
              "      <td>2016-05-24</td>\n",
              "      <td>141</td>\n",
              "      <td>2016-05</td>\n",
              "    </tr>\n",
              "    <tr>\n",
              "      <th>1</th>\n",
              "      <td>Finjob</td>\n",
              "      <td>YFS5KLJJ</td>\n",
              "      <td>Rosalina Dieter</td>\n",
              "      <td>rosalina@piedpiper.com</td>\n",
              "      <td>belinda@finjob.com</td>\n",
              "      <td>Won</td>\n",
              "      <td>MG Special</td>\n",
              "      <td>45</td>\n",
              "      <td>2016-01-04</td>\n",
              "      <td>2016-11-02</td>\n",
              "      <td>303</td>\n",
              "      <td>2016-11</td>\n",
              "    </tr>\n",
              "    <tr>\n",
              "      <th>5</th>\n",
              "      <td>Stanredtax</td>\n",
              "      <td>2V848WZD</td>\n",
              "      <td>Lajuana Vencill</td>\n",
              "      <td>lajuana@piedpiper.com</td>\n",
              "      <td>candice@stanredtax.com</td>\n",
              "      <td>Won</td>\n",
              "      <td>MG Advanced</td>\n",
              "      <td>3180</td>\n",
              "      <td>2016-01-07</td>\n",
              "      <td>2016-01-31</td>\n",
              "      <td>24</td>\n",
              "      <td>2016-01</td>\n",
              "    </tr>\n",
              "    <tr>\n",
              "      <th>6</th>\n",
              "      <td>Hatfan</td>\n",
              "      <td>PE84CX4O</td>\n",
              "      <td>Zane Levy</td>\n",
              "      <td>zane@piedpiper.com</td>\n",
              "      <td>tyron@hatfan.com</td>\n",
              "      <td>Won</td>\n",
              "      <td>GTX Basic</td>\n",
              "      <td>517</td>\n",
              "      <td>2016-01-08</td>\n",
              "      <td>2016-12-08</td>\n",
              "      <td>335</td>\n",
              "      <td>2016-12</td>\n",
              "    </tr>\n",
              "    <tr>\n",
              "      <th>7</th>\n",
              "      <td>Y-corporation</td>\n",
              "      <td>GIUUTBXM</td>\n",
              "      <td>Kary Hendrixson</td>\n",
              "      <td>kary@piedpiper.com</td>\n",
              "      <td>rosanne@y-corporation.com</td>\n",
              "      <td>Won</td>\n",
              "      <td>GTXPro</td>\n",
              "      <td>5539</td>\n",
              "      <td>2016-01-10</td>\n",
              "      <td>2016-12-03</td>\n",
              "      <td>328</td>\n",
              "      <td>2016-12</td>\n",
              "    </tr>\n",
              "  </tbody>\n",
              "</table>\n",
              "</div>"
            ],
            "text/plain": [
              "         Account Opportunity_ID  ... DateDiff year_month\n",
              "0          Konex       3KR50X38  ...      141    2016-05\n",
              "1         Finjob       YFS5KLJJ  ...      303    2016-11\n",
              "5     Stanredtax       2V848WZD  ...       24    2016-01\n",
              "6         Hatfan       PE84CX4O  ...      335    2016-12\n",
              "7  Y-corporation       GIUUTBXM  ...      328    2016-12\n",
              "\n",
              "[5 rows x 12 columns]"
            ]
          },
          "metadata": {
            "tags": []
          },
          "execution_count": 8
        }
      ]
    },
    {
      "cell_type": "code",
      "metadata": {
        "id": "V-siUyUOHPWS"
      },
      "source": [
        "# Assuming that no matter how soon the sales proposal is made, the companies buy the product only when required\n",
        "# therfore keeping only closed dates, since that is when the products are bought\n",
        "# And dropping columns which dont add value \n",
        "\n",
        "df1.drop(['Account', 'Opportunity_ID','Sales_Agent','Deal_Stage','Created Date','DateDiff','Close Date'], axis='columns', inplace=True) "
      ],
      "execution_count": null,
      "outputs": []
    },
    {
      "cell_type": "code",
      "metadata": {
        "id": "OAVenMUzSgwX",
        "colab": {
          "base_uri": "https://localhost:8080/",
          "height": 214
        },
        "outputId": "cd2e2db5-bacb-4eb3-c34d-549f0c90b8be"
      },
      "source": [
        "df1.head()"
      ],
      "execution_count": null,
      "outputs": [
        {
          "output_type": "execute_result",
          "data": {
            "text/html": [
              "<div>\n",
              "<style scoped>\n",
              "    .dataframe tbody tr th:only-of-type {\n",
              "        vertical-align: middle;\n",
              "    }\n",
              "\n",
              "    .dataframe tbody tr th {\n",
              "        vertical-align: top;\n",
              "    }\n",
              "\n",
              "    .dataframe thead th {\n",
              "        text-align: right;\n",
              "    }\n",
              "</style>\n",
              "<table border=\"1\" class=\"dataframe\">\n",
              "  <thead>\n",
              "    <tr style=\"text-align: right;\">\n",
              "      <th></th>\n",
              "      <th>SalesAgentEmailID</th>\n",
              "      <th>ContactEmailID</th>\n",
              "      <th>Product</th>\n",
              "      <th>Close_Value</th>\n",
              "      <th>year_month</th>\n",
              "    </tr>\n",
              "  </thead>\n",
              "  <tbody>\n",
              "    <tr>\n",
              "      <th>0</th>\n",
              "      <td>corliss@piedpiper.com</td>\n",
              "      <td>delila@konex.com</td>\n",
              "      <td>GTX Plus Basic</td>\n",
              "      <td>1255</td>\n",
              "      <td>2016-05</td>\n",
              "    </tr>\n",
              "    <tr>\n",
              "      <th>1</th>\n",
              "      <td>rosalina@piedpiper.com</td>\n",
              "      <td>belinda@finjob.com</td>\n",
              "      <td>MG Special</td>\n",
              "      <td>45</td>\n",
              "      <td>2016-11</td>\n",
              "    </tr>\n",
              "    <tr>\n",
              "      <th>5</th>\n",
              "      <td>lajuana@piedpiper.com</td>\n",
              "      <td>candice@stanredtax.com</td>\n",
              "      <td>MG Advanced</td>\n",
              "      <td>3180</td>\n",
              "      <td>2016-01</td>\n",
              "    </tr>\n",
              "    <tr>\n",
              "      <th>6</th>\n",
              "      <td>zane@piedpiper.com</td>\n",
              "      <td>tyron@hatfan.com</td>\n",
              "      <td>GTX Basic</td>\n",
              "      <td>517</td>\n",
              "      <td>2016-12</td>\n",
              "    </tr>\n",
              "    <tr>\n",
              "      <th>7</th>\n",
              "      <td>kary@piedpiper.com</td>\n",
              "      <td>rosanne@y-corporation.com</td>\n",
              "      <td>GTXPro</td>\n",
              "      <td>5539</td>\n",
              "      <td>2016-12</td>\n",
              "    </tr>\n",
              "  </tbody>\n",
              "</table>\n",
              "</div>"
            ],
            "text/plain": [
              "        SalesAgentEmailID             ContactEmailID  ... Close_Value  year_month\n",
              "0   corliss@piedpiper.com           delila@konex.com  ...        1255     2016-05\n",
              "1  rosalina@piedpiper.com         belinda@finjob.com  ...          45     2016-11\n",
              "5   lajuana@piedpiper.com     candice@stanredtax.com  ...        3180     2016-01\n",
              "6      zane@piedpiper.com           tyron@hatfan.com  ...         517     2016-12\n",
              "7      kary@piedpiper.com  rosanne@y-corporation.com  ...        5539     2016-12\n",
              "\n",
              "[5 rows x 5 columns]"
            ]
          },
          "metadata": {
            "tags": []
          },
          "execution_count": 10
        }
      ]
    },
    {
      "cell_type": "markdown",
      "metadata": {
        "id": "SMoHog83ILxv"
      },
      "source": [
        "# Interactions dataset cleaning"
      ]
    },
    {
      "cell_type": "code",
      "metadata": {
        "id": "5yLk9AbjITCr"
      },
      "source": [
        "# The interations data has interactions between the people from pied piper which adds no value since these are not sales interations \n",
        "# Therfore remove these interactions \n",
        "\n",
        "df2 = df2[~df2.toEmailId.str.contains(\"@piedpiper.com\")]"
      ],
      "execution_count": null,
      "outputs": []
    },
    {
      "cell_type": "code",
      "metadata": {
        "id": "tyH8oDboRYwe"
      },
      "source": [
        "# Dropping the interation type since the average of all the interactions adds more value irrespective of the type of interaction\n",
        "\n",
        "df2.drop(['interactionID', 'InteractionDate','InteractionType(Call/Email/SMS)'], axis='columns', inplace=True) "
      ],
      "execution_count": null,
      "outputs": []
    },
    {
      "cell_type": "code",
      "metadata": {
        "id": "BAdXjIypLxX6",
        "colab": {
          "base_uri": "https://localhost:8080/",
          "height": 214
        },
        "outputId": "11bcf9ba-d860-4b09-c3b0-4fe1a0e2ad7d"
      },
      "source": [
        "df2.head()"
      ],
      "execution_count": null,
      "outputs": [
        {
          "output_type": "execute_result",
          "data": {
            "text/html": [
              "<div>\n",
              "<style scoped>\n",
              "    .dataframe tbody tr th:only-of-type {\n",
              "        vertical-align: middle;\n",
              "    }\n",
              "\n",
              "    .dataframe tbody tr th {\n",
              "        vertical-align: top;\n",
              "    }\n",
              "\n",
              "    .dataframe thead th {\n",
              "        text-align: right;\n",
              "    }\n",
              "</style>\n",
              "<table border=\"1\" class=\"dataframe\">\n",
              "  <thead>\n",
              "    <tr style=\"text-align: right;\">\n",
              "      <th></th>\n",
              "      <th>fromEmailId</th>\n",
              "      <th>toEmailId</th>\n",
              "      <th>Extracted Interaction Text</th>\n",
              "    </tr>\n",
              "  </thead>\n",
              "  <tbody>\n",
              "    <tr>\n",
              "      <th>0</th>\n",
              "      <td>gladys@piedpiper.com</td>\n",
              "      <td>kristle@dontechi.com</td>\n",
              "      <td>I thoroughly enjoyed your presentation yesterd...</td>\n",
              "    </tr>\n",
              "    <tr>\n",
              "      <th>1</th>\n",
              "      <td>donn@piedpiper.com</td>\n",
              "      <td>orpha@umbrellacorporation.com</td>\n",
              "      <td>speaking with you and your staff will be a tre...</td>\n",
              "    </tr>\n",
              "    <tr>\n",
              "      <th>2</th>\n",
              "      <td>kary@piedpiper.com</td>\n",
              "      <td>claribel@goodsilron.com</td>\n",
              "      <td>However, I am unable to join because of my fam...</td>\n",
              "    </tr>\n",
              "    <tr>\n",
              "      <th>3</th>\n",
              "      <td>boris@piedpiper.com</td>\n",
              "      <td>gordon@scotfind.com</td>\n",
              "      <td>We are extremely sorry to inform you that we h...</td>\n",
              "    </tr>\n",
              "    <tr>\n",
              "      <th>4</th>\n",
              "      <td>darcel@piedpiper.com</td>\n",
              "      <td>benny@treequote.com</td>\n",
              "      <td>I don't think it's possible for me to meet you</td>\n",
              "    </tr>\n",
              "  </tbody>\n",
              "</table>\n",
              "</div>"
            ],
            "text/plain": [
              "            fromEmailId  ...                         Extracted Interaction Text\n",
              "0  gladys@piedpiper.com  ...  I thoroughly enjoyed your presentation yesterd...\n",
              "1    donn@piedpiper.com  ...  speaking with you and your staff will be a tre...\n",
              "2    kary@piedpiper.com  ...  However, I am unable to join because of my fam...\n",
              "3   boris@piedpiper.com  ...  We are extremely sorry to inform you that we h...\n",
              "4  darcel@piedpiper.com  ...     I don't think it's possible for me to meet you\n",
              "\n",
              "[5 rows x 3 columns]"
            ]
          },
          "metadata": {
            "tags": []
          },
          "execution_count": 13
        }
      ]
    },
    {
      "cell_type": "markdown",
      "metadata": {
        "id": "LfUWF0HnS7wI"
      },
      "source": [
        "# Scoring sentiment "
      ]
    },
    {
      "cell_type": "code",
      "metadata": {
        "id": "eEpm9-j_TENp"
      },
      "source": [
        "cols = [5]\n",
        "df_interactions = pd.read_excel(\"/content/drive/My Drive/interactions.xlsx\", usecols = cols )"
      ],
      "execution_count": null,
      "outputs": []
    },
    {
      "cell_type": "code",
      "metadata": {
        "id": "zBsTkfwdXy8u",
        "colab": {
          "base_uri": "https://localhost:8080/",
          "height": 214
        },
        "outputId": "6f6cb94f-8293-4e1c-f1be-410c60d57b60"
      },
      "source": [
        "df_interactions.head()"
      ],
      "execution_count": null,
      "outputs": [
        {
          "output_type": "execute_result",
          "data": {
            "text/html": [
              "<div>\n",
              "<style scoped>\n",
              "    .dataframe tbody tr th:only-of-type {\n",
              "        vertical-align: middle;\n",
              "    }\n",
              "\n",
              "    .dataframe tbody tr th {\n",
              "        vertical-align: top;\n",
              "    }\n",
              "\n",
              "    .dataframe thead th {\n",
              "        text-align: right;\n",
              "    }\n",
              "</style>\n",
              "<table border=\"1\" class=\"dataframe\">\n",
              "  <thead>\n",
              "    <tr style=\"text-align: right;\">\n",
              "      <th></th>\n",
              "      <th>Extracted Interaction Text</th>\n",
              "    </tr>\n",
              "  </thead>\n",
              "  <tbody>\n",
              "    <tr>\n",
              "      <th>0</th>\n",
              "      <td>I thoroughly enjoyed your presentation yesterd...</td>\n",
              "    </tr>\n",
              "    <tr>\n",
              "      <th>1</th>\n",
              "      <td>speaking with you and your staff will be a tre...</td>\n",
              "    </tr>\n",
              "    <tr>\n",
              "      <th>2</th>\n",
              "      <td>However, I am unable to join because of my fam...</td>\n",
              "    </tr>\n",
              "    <tr>\n",
              "      <th>3</th>\n",
              "      <td>We are extremely sorry to inform you that we h...</td>\n",
              "    </tr>\n",
              "    <tr>\n",
              "      <th>4</th>\n",
              "      <td>I don't think it's possible for me to meet you</td>\n",
              "    </tr>\n",
              "  </tbody>\n",
              "</table>\n",
              "</div>"
            ],
            "text/plain": [
              "                          Extracted Interaction Text\n",
              "0  I thoroughly enjoyed your presentation yesterd...\n",
              "1  speaking with you and your staff will be a tre...\n",
              "2  However, I am unable to join because of my fam...\n",
              "3  We are extremely sorry to inform you that we h...\n",
              "4     I don't think it's possible for me to meet you"
            ]
          },
          "metadata": {
            "tags": []
          },
          "execution_count": 15
        }
      ]
    },
    {
      "cell_type": "code",
      "metadata": {
        "id": "ALuwbKj4qJuL",
        "colab": {
          "base_uri": "https://localhost:8080/"
        },
        "outputId": "f285a4c9-2951-4efe-dcfc-8fe29114d189"
      },
      "source": [
        "# Since we dont have a labeled dataset of positive and negative interations, we will score these interations based on the word in them \n",
        "# This is an unsupervised learning method which scores the interations\n",
        "# The algorithm used is Affin\n",
        "\n",
        "!pip install afinn\n",
        "\n",
        "from afinn import Afinn\n",
        "af = Afinn()"
      ],
      "execution_count": null,
      "outputs": [
        {
          "output_type": "stream",
          "text": [
            "Collecting afinn\n",
            "\u001b[?25l  Downloading https://files.pythonhosted.org/packages/86/e5/ffbb7ee3cca21ac6d310ac01944fb163c20030b45bda25421d725d8a859a/afinn-0.1.tar.gz (52kB)\n",
            "\r\u001b[K     |██████▎                         | 10kB 15.6MB/s eta 0:00:01\r\u001b[K     |████████████▌                   | 20kB 12.5MB/s eta 0:00:01\r\u001b[K     |██████████████████▊             | 30kB 6.0MB/s eta 0:00:01\r\u001b[K     |█████████████████████████       | 40kB 5.5MB/s eta 0:00:01\r\u001b[K     |███████████████████████████████▏| 51kB 3.2MB/s eta 0:00:01\r\u001b[K     |████████████████████████████████| 61kB 2.6MB/s \n",
            "\u001b[?25hBuilding wheels for collected packages: afinn\n",
            "  Building wheel for afinn (setup.py) ... \u001b[?25l\u001b[?25hdone\n",
            "  Created wheel for afinn: filename=afinn-0.1-cp36-none-any.whl size=53453 sha256=3911ab6a562d1a238ce1e7ff00cbeb771c5219f84193668c4fd9dffb7d591d75\n",
            "  Stored in directory: /root/.cache/pip/wheels/b5/1c/de/428301f3333ca509dcf20ff358690eb23a1388fbcbbde008b2\n",
            "Successfully built afinn\n",
            "Installing collected packages: afinn\n",
            "Successfully installed afinn-0.1\n"
          ],
          "name": "stdout"
        }
      ]
    },
    {
      "cell_type": "code",
      "metadata": {
        "id": "aC1cMFL4q-Mq"
      },
      "source": [
        "interactions_list = df2[\"Extracted Interaction Text\"].tolist()"
      ],
      "execution_count": null,
      "outputs": []
    },
    {
      "cell_type": "code",
      "metadata": {
        "id": "d0DQQIw7rKQD",
        "colab": {
          "base_uri": "https://localhost:8080/"
        },
        "outputId": "1e59cfdd-9bd0-4628-d516-7c08cf8c2eea"
      },
      "source": [
        "print(interactions_list[1:10])"
      ],
      "execution_count": null,
      "outputs": [
        {
          "output_type": "stream",
          "text": [
            "['speaking with you and your staff will be a tremendous opportunity for me to present our product line. i sincerely thank you for extending this offer and expect to meet with you, as requested in your invitation, on friday, may 9, at 3:00 p.m. in your conference room.', \"However, I am unable to join because of my family obligations. I'm not sure I can handle another commitment in addition to raising my young children. \", \"We are extremely sorry to inform you that we have decided to accept a competitor's bid instead of the one you submitted. \", \"I don't think it's possible for me to meet you\", \"I have'nt heard from you regarding the status of the project. If you don't send me any report by tomorrow, I will be forced to cancel our deal\", 'I am very pleased to accept your invitation to meet with your marketing team. We have much to discuss. See you then.', \"Congratulations! Your work group achieved the highest quality production of the whole factory last month. This is particularly impressive since our overall quality figures were up for all departments for the month. The diligence and dedication demonstrated by your team have been mentioned by your supervisors and your colleagues. We have all noticed the enthusiasm and extra hours each of you put in this last month. Thank you for your significant contribution to our division's success.\", 'I am sorry that I will be unable to schedule a time to meet with you next Thursday to discuss your career plans. ', 'Unfortunately we cannot approve the proposal that you sent us last week. Sorry for the decision that we took.']\n"
          ],
          "name": "stdout"
        }
      ]
    },
    {
      "cell_type": "code",
      "metadata": {
        "id": "jKMlmUvzrUWw"
      },
      "source": [
        "# Getting the scores\n",
        "\n",
        "sentiment_scores = [af.score(interaction) for interaction in interactions_list]"
      ],
      "execution_count": null,
      "outputs": []
    },
    {
      "cell_type": "code",
      "metadata": {
        "id": "1wZHoXG0s61S",
        "colab": {
          "base_uri": "https://localhost:8080/"
        },
        "outputId": "0f2767e1-7701-49ba-ae86-22a9d904af31"
      },
      "source": [
        "print(sentiment_scores[1:5])"
      ],
      "execution_count": null,
      "outputs": [
        {
          "output_type": "stream",
          "text": [
            "[6.0, 1.0, 0.0, 0.0]\n"
          ],
          "name": "stdout"
        }
      ]
    },
    {
      "cell_type": "code",
      "metadata": {
        "id": "z3eRDOZFtzBP"
      },
      "source": [
        "df2['sentiment_scores'] = sentiment_scores"
      ],
      "execution_count": null,
      "outputs": []
    },
    {
      "cell_type": "code",
      "metadata": {
        "id": "DttReKIkwe1r",
        "colab": {
          "base_uri": "https://localhost:8080/",
          "height": 214
        },
        "outputId": "d0a93554-3853-49b5-c9ca-a3cd13244169"
      },
      "source": [
        "df2.head()"
      ],
      "execution_count": null,
      "outputs": [
        {
          "output_type": "execute_result",
          "data": {
            "text/html": [
              "<div>\n",
              "<style scoped>\n",
              "    .dataframe tbody tr th:only-of-type {\n",
              "        vertical-align: middle;\n",
              "    }\n",
              "\n",
              "    .dataframe tbody tr th {\n",
              "        vertical-align: top;\n",
              "    }\n",
              "\n",
              "    .dataframe thead th {\n",
              "        text-align: right;\n",
              "    }\n",
              "</style>\n",
              "<table border=\"1\" class=\"dataframe\">\n",
              "  <thead>\n",
              "    <tr style=\"text-align: right;\">\n",
              "      <th></th>\n",
              "      <th>fromEmailId</th>\n",
              "      <th>toEmailId</th>\n",
              "      <th>Extracted Interaction Text</th>\n",
              "      <th>sentiment_scores</th>\n",
              "    </tr>\n",
              "  </thead>\n",
              "  <tbody>\n",
              "    <tr>\n",
              "      <th>0</th>\n",
              "      <td>gladys@piedpiper.com</td>\n",
              "      <td>kristle@dontechi.com</td>\n",
              "      <td>I thoroughly enjoyed your presentation yesterd...</td>\n",
              "      <td>6.0</td>\n",
              "    </tr>\n",
              "    <tr>\n",
              "      <th>1</th>\n",
              "      <td>donn@piedpiper.com</td>\n",
              "      <td>orpha@umbrellacorporation.com</td>\n",
              "      <td>speaking with you and your staff will be a tre...</td>\n",
              "      <td>6.0</td>\n",
              "    </tr>\n",
              "    <tr>\n",
              "      <th>2</th>\n",
              "      <td>kary@piedpiper.com</td>\n",
              "      <td>claribel@goodsilron.com</td>\n",
              "      <td>However, I am unable to join because of my fam...</td>\n",
              "      <td>1.0</td>\n",
              "    </tr>\n",
              "    <tr>\n",
              "      <th>3</th>\n",
              "      <td>boris@piedpiper.com</td>\n",
              "      <td>gordon@scotfind.com</td>\n",
              "      <td>We are extremely sorry to inform you that we h...</td>\n",
              "      <td>0.0</td>\n",
              "    </tr>\n",
              "    <tr>\n",
              "      <th>4</th>\n",
              "      <td>darcel@piedpiper.com</td>\n",
              "      <td>benny@treequote.com</td>\n",
              "      <td>I don't think it's possible for me to meet you</td>\n",
              "      <td>0.0</td>\n",
              "    </tr>\n",
              "  </tbody>\n",
              "</table>\n",
              "</div>"
            ],
            "text/plain": [
              "            fromEmailId  ... sentiment_scores\n",
              "0  gladys@piedpiper.com  ...              6.0\n",
              "1    donn@piedpiper.com  ...              6.0\n",
              "2    kary@piedpiper.com  ...              1.0\n",
              "3   boris@piedpiper.com  ...              0.0\n",
              "4  darcel@piedpiper.com  ...              0.0\n",
              "\n",
              "[5 rows x 4 columns]"
            ]
          },
          "metadata": {
            "tags": []
          },
          "execution_count": 24
        }
      ]
    },
    {
      "cell_type": "code",
      "metadata": {
        "id": "WMfYs8UBxQiF"
      },
      "source": [
        "# Retaining only the scores\n",
        "\n",
        "df2.drop(['Extracted Interaction Text'], axis='columns', inplace=True) "
      ],
      "execution_count": null,
      "outputs": []
    },
    {
      "cell_type": "code",
      "metadata": {
        "id": "g5SJr-NVxWf3",
        "colab": {
          "base_uri": "https://localhost:8080/",
          "height": 214
        },
        "outputId": "6234e03b-cc41-4220-dca8-8a0d2d5f9ce4"
      },
      "source": [
        "df2.head()"
      ],
      "execution_count": null,
      "outputs": [
        {
          "output_type": "execute_result",
          "data": {
            "text/html": [
              "<div>\n",
              "<style scoped>\n",
              "    .dataframe tbody tr th:only-of-type {\n",
              "        vertical-align: middle;\n",
              "    }\n",
              "\n",
              "    .dataframe tbody tr th {\n",
              "        vertical-align: top;\n",
              "    }\n",
              "\n",
              "    .dataframe thead th {\n",
              "        text-align: right;\n",
              "    }\n",
              "</style>\n",
              "<table border=\"1\" class=\"dataframe\">\n",
              "  <thead>\n",
              "    <tr style=\"text-align: right;\">\n",
              "      <th></th>\n",
              "      <th>fromEmailId</th>\n",
              "      <th>toEmailId</th>\n",
              "      <th>sentiment_scores</th>\n",
              "    </tr>\n",
              "  </thead>\n",
              "  <tbody>\n",
              "    <tr>\n",
              "      <th>0</th>\n",
              "      <td>gladys@piedpiper.com</td>\n",
              "      <td>kristle@dontechi.com</td>\n",
              "      <td>6.0</td>\n",
              "    </tr>\n",
              "    <tr>\n",
              "      <th>1</th>\n",
              "      <td>donn@piedpiper.com</td>\n",
              "      <td>orpha@umbrellacorporation.com</td>\n",
              "      <td>6.0</td>\n",
              "    </tr>\n",
              "    <tr>\n",
              "      <th>2</th>\n",
              "      <td>kary@piedpiper.com</td>\n",
              "      <td>claribel@goodsilron.com</td>\n",
              "      <td>1.0</td>\n",
              "    </tr>\n",
              "    <tr>\n",
              "      <th>3</th>\n",
              "      <td>boris@piedpiper.com</td>\n",
              "      <td>gordon@scotfind.com</td>\n",
              "      <td>0.0</td>\n",
              "    </tr>\n",
              "    <tr>\n",
              "      <th>4</th>\n",
              "      <td>darcel@piedpiper.com</td>\n",
              "      <td>benny@treequote.com</td>\n",
              "      <td>0.0</td>\n",
              "    </tr>\n",
              "  </tbody>\n",
              "</table>\n",
              "</div>"
            ],
            "text/plain": [
              "            fromEmailId                      toEmailId  sentiment_scores\n",
              "0  gladys@piedpiper.com           kristle@dontechi.com               6.0\n",
              "1    donn@piedpiper.com  orpha@umbrellacorporation.com               6.0\n",
              "2    kary@piedpiper.com        claribel@goodsilron.com               1.0\n",
              "3   boris@piedpiper.com            gordon@scotfind.com               0.0\n",
              "4  darcel@piedpiper.com            benny@treequote.com               0.0"
            ]
          },
          "metadata": {
            "tags": []
          },
          "execution_count": 32
        }
      ]
    },
    {
      "cell_type": "code",
      "metadata": {
        "id": "_hKv80T80g2x",
        "colab": {
          "base_uri": "https://localhost:8080/",
          "height": 247
        },
        "outputId": "bfc50459-2775-4bc1-b980-fc8a9a5e5249"
      },
      "source": [
        "# Grouping the sentiment scores on the basis of two unique from and to email ids, and performing average operation on them\n",
        "\n",
        "s = df2.groupby(['fromEmailId','toEmailId'])['sentiment_scores'].mean()\n",
        "\n",
        "df = s.to_frame()\n",
        "\n",
        "df.head()\n"
      ],
      "execution_count": null,
      "outputs": [
        {
          "output_type": "execute_result",
          "data": {
            "text/html": [
              "<div>\n",
              "<style scoped>\n",
              "    .dataframe tbody tr th:only-of-type {\n",
              "        vertical-align: middle;\n",
              "    }\n",
              "\n",
              "    .dataframe tbody tr th {\n",
              "        vertical-align: top;\n",
              "    }\n",
              "\n",
              "    .dataframe thead th {\n",
              "        text-align: right;\n",
              "    }\n",
              "</style>\n",
              "<table border=\"1\" class=\"dataframe\">\n",
              "  <thead>\n",
              "    <tr style=\"text-align: right;\">\n",
              "      <th></th>\n",
              "      <th></th>\n",
              "      <th>sentiment_scores</th>\n",
              "    </tr>\n",
              "    <tr>\n",
              "      <th>fromEmailId</th>\n",
              "      <th>toEmailId</th>\n",
              "      <th></th>\n",
              "    </tr>\n",
              "  </thead>\n",
              "  <tbody>\n",
              "    <tr>\n",
              "      <th rowspan=\"5\" valign=\"top\">anna@piedpiper.com</th>\n",
              "      <th>alejandro@initech.com</th>\n",
              "      <td>3.927711</td>\n",
              "    </tr>\n",
              "    <tr>\n",
              "      <th>antionette@bluthcompany.com</th>\n",
              "      <td>3.975000</td>\n",
              "    </tr>\n",
              "    <tr>\n",
              "      <th>ashlie@sonron.com</th>\n",
              "      <td>4.186047</td>\n",
              "    </tr>\n",
              "    <tr>\n",
              "      <th>belinda@finjob.com</th>\n",
              "      <td>4.337838</td>\n",
              "    </tr>\n",
              "    <tr>\n",
              "      <th>benny@treequote.com</th>\n",
              "      <td>4.118012</td>\n",
              "    </tr>\n",
              "  </tbody>\n",
              "</table>\n",
              "</div>"
            ],
            "text/plain": [
              "                                                sentiment_scores\n",
              "fromEmailId        toEmailId                                    \n",
              "anna@piedpiper.com alejandro@initech.com                3.927711\n",
              "                   antionette@bluthcompany.com          3.975000\n",
              "                   ashlie@sonron.com                    4.186047\n",
              "                   belinda@finjob.com                   4.337838\n",
              "                   benny@treequote.com                  4.118012"
            ]
          },
          "metadata": {
            "tags": []
          },
          "execution_count": 26
        }
      ]
    },
    {
      "cell_type": "code",
      "metadata": {
        "id": "gSYLed5_9RUM"
      },
      "source": [
        "df.reset_index(level='fromEmailId',inplace=True)"
      ],
      "execution_count": null,
      "outputs": []
    },
    {
      "cell_type": "code",
      "metadata": {
        "id": "frqGUssT9XcV"
      },
      "source": [
        "df.reset_index(level='toEmailId',inplace=True)"
      ],
      "execution_count": null,
      "outputs": []
    },
    {
      "cell_type": "code",
      "metadata": {
        "id": "Ob0PaQH69yE8",
        "colab": {
          "base_uri": "https://localhost:8080/",
          "height": 214
        },
        "outputId": "30386ad4-66d5-46a1-b98d-d2f091eae5bc"
      },
      "source": [
        "df.head()"
      ],
      "execution_count": null,
      "outputs": [
        {
          "output_type": "execute_result",
          "data": {
            "text/html": [
              "<div>\n",
              "<style scoped>\n",
              "    .dataframe tbody tr th:only-of-type {\n",
              "        vertical-align: middle;\n",
              "    }\n",
              "\n",
              "    .dataframe tbody tr th {\n",
              "        vertical-align: top;\n",
              "    }\n",
              "\n",
              "    .dataframe thead th {\n",
              "        text-align: right;\n",
              "    }\n",
              "</style>\n",
              "<table border=\"1\" class=\"dataframe\">\n",
              "  <thead>\n",
              "    <tr style=\"text-align: right;\">\n",
              "      <th></th>\n",
              "      <th>toEmailId</th>\n",
              "      <th>fromEmailId</th>\n",
              "      <th>sentiment_scores</th>\n",
              "    </tr>\n",
              "  </thead>\n",
              "  <tbody>\n",
              "    <tr>\n",
              "      <th>0</th>\n",
              "      <td>alejandro@initech.com</td>\n",
              "      <td>anna@piedpiper.com</td>\n",
              "      <td>3.927711</td>\n",
              "    </tr>\n",
              "    <tr>\n",
              "      <th>1</th>\n",
              "      <td>antionette@bluthcompany.com</td>\n",
              "      <td>anna@piedpiper.com</td>\n",
              "      <td>3.975000</td>\n",
              "    </tr>\n",
              "    <tr>\n",
              "      <th>2</th>\n",
              "      <td>ashlie@sonron.com</td>\n",
              "      <td>anna@piedpiper.com</td>\n",
              "      <td>4.186047</td>\n",
              "    </tr>\n",
              "    <tr>\n",
              "      <th>3</th>\n",
              "      <td>belinda@finjob.com</td>\n",
              "      <td>anna@piedpiper.com</td>\n",
              "      <td>4.337838</td>\n",
              "    </tr>\n",
              "    <tr>\n",
              "      <th>4</th>\n",
              "      <td>benny@treequote.com</td>\n",
              "      <td>anna@piedpiper.com</td>\n",
              "      <td>4.118012</td>\n",
              "    </tr>\n",
              "  </tbody>\n",
              "</table>\n",
              "</div>"
            ],
            "text/plain": [
              "                     toEmailId         fromEmailId  sentiment_scores\n",
              "0        alejandro@initech.com  anna@piedpiper.com          3.927711\n",
              "1  antionette@bluthcompany.com  anna@piedpiper.com          3.975000\n",
              "2            ashlie@sonron.com  anna@piedpiper.com          4.186047\n",
              "3           belinda@finjob.com  anna@piedpiper.com          4.337838\n",
              "4          benny@treequote.com  anna@piedpiper.com          4.118012"
            ]
          },
          "metadata": {
            "tags": []
          },
          "execution_count": 29
        }
      ]
    },
    {
      "cell_type": "markdown",
      "metadata": {
        "id": "-kigQWxSx4L4"
      },
      "source": [
        "# Merge "
      ]
    },
    {
      "cell_type": "code",
      "metadata": {
        "id": "KKjk51IMx6LY"
      },
      "source": [
        "# Merging the sales_pipelines and sentiment scores on the basis on sales and contact email id\n",
        "\n",
        "new_df = pd.merge(df1, df,  how='left', left_on=['SalesAgentEmailID', 'ContactEmailID'], right_on = ['fromEmailId','toEmailId'])"
      ],
      "execution_count": null,
      "outputs": []
    },
    {
      "cell_type": "code",
      "metadata": {
        "id": "iWkZ_3SZyprs",
        "colab": {
          "base_uri": "https://localhost:8080/",
          "height": 331
        },
        "outputId": "387dbf24-6940-4c84-9aea-cb7792441382"
      },
      "source": [
        "new_df.head()"
      ],
      "execution_count": null,
      "outputs": [
        {
          "output_type": "execute_result",
          "data": {
            "text/html": [
              "<div>\n",
              "<style scoped>\n",
              "    .dataframe tbody tr th:only-of-type {\n",
              "        vertical-align: middle;\n",
              "    }\n",
              "\n",
              "    .dataframe tbody tr th {\n",
              "        vertical-align: top;\n",
              "    }\n",
              "\n",
              "    .dataframe thead th {\n",
              "        text-align: right;\n",
              "    }\n",
              "</style>\n",
              "<table border=\"1\" class=\"dataframe\">\n",
              "  <thead>\n",
              "    <tr style=\"text-align: right;\">\n",
              "      <th></th>\n",
              "      <th>SalesAgentEmailID</th>\n",
              "      <th>ContactEmailID</th>\n",
              "      <th>Product</th>\n",
              "      <th>Close_Value</th>\n",
              "      <th>year_month</th>\n",
              "      <th>toEmailId</th>\n",
              "      <th>fromEmailId</th>\n",
              "      <th>sentiment_scores</th>\n",
              "    </tr>\n",
              "  </thead>\n",
              "  <tbody>\n",
              "    <tr>\n",
              "      <th>0</th>\n",
              "      <td>corliss@piedpiper.com</td>\n",
              "      <td>delila@konex.com</td>\n",
              "      <td>GTX Plus Basic</td>\n",
              "      <td>1255</td>\n",
              "      <td>2016-05</td>\n",
              "      <td>delila@konex.com</td>\n",
              "      <td>corliss@piedpiper.com</td>\n",
              "      <td>4.148387</td>\n",
              "    </tr>\n",
              "    <tr>\n",
              "      <th>1</th>\n",
              "      <td>rosalina@piedpiper.com</td>\n",
              "      <td>belinda@finjob.com</td>\n",
              "      <td>MG Special</td>\n",
              "      <td>45</td>\n",
              "      <td>2016-11</td>\n",
              "      <td>belinda@finjob.com</td>\n",
              "      <td>rosalina@piedpiper.com</td>\n",
              "      <td>4.041667</td>\n",
              "    </tr>\n",
              "    <tr>\n",
              "      <th>2</th>\n",
              "      <td>lajuana@piedpiper.com</td>\n",
              "      <td>candice@stanredtax.com</td>\n",
              "      <td>MG Advanced</td>\n",
              "      <td>3180</td>\n",
              "      <td>2016-01</td>\n",
              "      <td>candice@stanredtax.com</td>\n",
              "      <td>lajuana@piedpiper.com</td>\n",
              "      <td>3.387500</td>\n",
              "    </tr>\n",
              "    <tr>\n",
              "      <th>3</th>\n",
              "      <td>zane@piedpiper.com</td>\n",
              "      <td>tyron@hatfan.com</td>\n",
              "      <td>GTX Basic</td>\n",
              "      <td>517</td>\n",
              "      <td>2016-12</td>\n",
              "      <td>tyron@hatfan.com</td>\n",
              "      <td>zane@piedpiper.com</td>\n",
              "      <td>4.405660</td>\n",
              "    </tr>\n",
              "    <tr>\n",
              "      <th>4</th>\n",
              "      <td>kary@piedpiper.com</td>\n",
              "      <td>rosanne@y-corporation.com</td>\n",
              "      <td>GTXPro</td>\n",
              "      <td>5539</td>\n",
              "      <td>2016-12</td>\n",
              "      <td>rosanne@y-corporation.com</td>\n",
              "      <td>kary@piedpiper.com</td>\n",
              "      <td>3.875776</td>\n",
              "    </tr>\n",
              "  </tbody>\n",
              "</table>\n",
              "</div>"
            ],
            "text/plain": [
              "        SalesAgentEmailID  ... sentiment_scores\n",
              "0   corliss@piedpiper.com  ...         4.148387\n",
              "1  rosalina@piedpiper.com  ...         4.041667\n",
              "2   lajuana@piedpiper.com  ...         3.387500\n",
              "3      zane@piedpiper.com  ...         4.405660\n",
              "4      kary@piedpiper.com  ...         3.875776\n",
              "\n",
              "[5 rows x 8 columns]"
            ]
          },
          "metadata": {
            "tags": []
          },
          "execution_count": 77
        }
      ]
    },
    {
      "cell_type": "code",
      "metadata": {
        "id": "CbkPt7Yj-LNw",
        "colab": {
          "base_uri": "https://localhost:8080/",
          "height": 312
        },
        "outputId": "5dd83f63-6699-4fce-f355-d9a82c5e5ca3"
      },
      "source": [
        "new_df.describe()"
      ],
      "execution_count": null,
      "outputs": [
        {
          "output_type": "execute_result",
          "data": {
            "text/html": [
              "<div>\n",
              "<style scoped>\n",
              "    .dataframe tbody tr th:only-of-type {\n",
              "        vertical-align: middle;\n",
              "    }\n",
              "\n",
              "    .dataframe tbody tr th {\n",
              "        vertical-align: top;\n",
              "    }\n",
              "\n",
              "    .dataframe thead th {\n",
              "        text-align: right;\n",
              "    }\n",
              "</style>\n",
              "<table border=\"1\" class=\"dataframe\">\n",
              "  <thead>\n",
              "    <tr style=\"text-align: right;\">\n",
              "      <th></th>\n",
              "      <th>Close_Value</th>\n",
              "      <th>sentiment_scores</th>\n",
              "    </tr>\n",
              "  </thead>\n",
              "  <tbody>\n",
              "    <tr>\n",
              "      <th>count</th>\n",
              "      <td>4238.000000</td>\n",
              "      <td>4238.000000</td>\n",
              "    </tr>\n",
              "    <tr>\n",
              "      <th>mean</th>\n",
              "      <td>2360.909391</td>\n",
              "      <td>3.873664</td>\n",
              "    </tr>\n",
              "    <tr>\n",
              "      <th>std</th>\n",
              "      <td>2544.484463</td>\n",
              "      <td>0.596642</td>\n",
              "    </tr>\n",
              "    <tr>\n",
              "      <th>min</th>\n",
              "      <td>38.000000</td>\n",
              "      <td>1.894737</td>\n",
              "    </tr>\n",
              "    <tr>\n",
              "      <th>25%</th>\n",
              "      <td>518.000000</td>\n",
              "      <td>3.500000</td>\n",
              "    </tr>\n",
              "    <tr>\n",
              "      <th>50%</th>\n",
              "      <td>1117.000000</td>\n",
              "      <td>3.857143</td>\n",
              "    </tr>\n",
              "    <tr>\n",
              "      <th>75%</th>\n",
              "      <td>4429.500000</td>\n",
              "      <td>4.258961</td>\n",
              "    </tr>\n",
              "    <tr>\n",
              "      <th>max</th>\n",
              "      <td>30288.000000</td>\n",
              "      <td>6.413793</td>\n",
              "    </tr>\n",
              "  </tbody>\n",
              "</table>\n",
              "</div>"
            ],
            "text/plain": [
              "        Close_Value  sentiment_scores\n",
              "count   4238.000000       4238.000000\n",
              "mean    2360.909391          3.873664\n",
              "std     2544.484463          0.596642\n",
              "min       38.000000          1.894737\n",
              "25%      518.000000          3.500000\n",
              "50%     1117.000000          3.857143\n",
              "75%     4429.500000          4.258961\n",
              "max    30288.000000          6.413793"
            ]
          },
          "metadata": {
            "tags": []
          },
          "execution_count": 78
        }
      ]
    },
    {
      "cell_type": "code",
      "metadata": {
        "id": "58443iNE-WOE"
      },
      "source": [
        "new_df.drop(['toEmailId', 'fromEmailId'], axis='columns', inplace=True) "
      ],
      "execution_count": null,
      "outputs": []
    },
    {
      "cell_type": "code",
      "metadata": {
        "id": "3L4CDBe1_E0v",
        "colab": {
          "base_uri": "https://localhost:8080/",
          "height": 214
        },
        "outputId": "d094c738-21ac-468c-f8e6-cecbf3bcbdc7"
      },
      "source": [
        "new_df.head()"
      ],
      "execution_count": null,
      "outputs": [
        {
          "output_type": "execute_result",
          "data": {
            "text/html": [
              "<div>\n",
              "<style scoped>\n",
              "    .dataframe tbody tr th:only-of-type {\n",
              "        vertical-align: middle;\n",
              "    }\n",
              "\n",
              "    .dataframe tbody tr th {\n",
              "        vertical-align: top;\n",
              "    }\n",
              "\n",
              "    .dataframe thead th {\n",
              "        text-align: right;\n",
              "    }\n",
              "</style>\n",
              "<table border=\"1\" class=\"dataframe\">\n",
              "  <thead>\n",
              "    <tr style=\"text-align: right;\">\n",
              "      <th></th>\n",
              "      <th>SalesAgentEmailID</th>\n",
              "      <th>ContactEmailID</th>\n",
              "      <th>Product</th>\n",
              "      <th>Close_Value</th>\n",
              "      <th>year_month</th>\n",
              "      <th>sentiment_scores</th>\n",
              "    </tr>\n",
              "  </thead>\n",
              "  <tbody>\n",
              "    <tr>\n",
              "      <th>0</th>\n",
              "      <td>corliss@piedpiper.com</td>\n",
              "      <td>delila@konex.com</td>\n",
              "      <td>GTX Plus Basic</td>\n",
              "      <td>1255</td>\n",
              "      <td>2016-05</td>\n",
              "      <td>4.148387</td>\n",
              "    </tr>\n",
              "    <tr>\n",
              "      <th>1</th>\n",
              "      <td>rosalina@piedpiper.com</td>\n",
              "      <td>belinda@finjob.com</td>\n",
              "      <td>MG Special</td>\n",
              "      <td>45</td>\n",
              "      <td>2016-11</td>\n",
              "      <td>4.041667</td>\n",
              "    </tr>\n",
              "    <tr>\n",
              "      <th>2</th>\n",
              "      <td>lajuana@piedpiper.com</td>\n",
              "      <td>candice@stanredtax.com</td>\n",
              "      <td>MG Advanced</td>\n",
              "      <td>3180</td>\n",
              "      <td>2016-01</td>\n",
              "      <td>3.387500</td>\n",
              "    </tr>\n",
              "    <tr>\n",
              "      <th>3</th>\n",
              "      <td>zane@piedpiper.com</td>\n",
              "      <td>tyron@hatfan.com</td>\n",
              "      <td>GTX Basic</td>\n",
              "      <td>517</td>\n",
              "      <td>2016-12</td>\n",
              "      <td>4.405660</td>\n",
              "    </tr>\n",
              "    <tr>\n",
              "      <th>4</th>\n",
              "      <td>kary@piedpiper.com</td>\n",
              "      <td>rosanne@y-corporation.com</td>\n",
              "      <td>GTXPro</td>\n",
              "      <td>5539</td>\n",
              "      <td>2016-12</td>\n",
              "      <td>3.875776</td>\n",
              "    </tr>\n",
              "  </tbody>\n",
              "</table>\n",
              "</div>"
            ],
            "text/plain": [
              "        SalesAgentEmailID  ... sentiment_scores\n",
              "0   corliss@piedpiper.com  ...         4.148387\n",
              "1  rosalina@piedpiper.com  ...         4.041667\n",
              "2   lajuana@piedpiper.com  ...         3.387500\n",
              "3      zane@piedpiper.com  ...         4.405660\n",
              "4      kary@piedpiper.com  ...         3.875776\n",
              "\n",
              "[5 rows x 6 columns]"
            ]
          },
          "metadata": {
            "tags": []
          },
          "execution_count": 86
        }
      ]
    },
    {
      "cell_type": "code",
      "metadata": {
        "id": "98thNERuAtHN"
      },
      "source": [
        "new_df.to_csv(\"/content/drive/My Drive/merged.csv\")"
      ],
      "execution_count": null,
      "outputs": []
    },
    {
      "cell_type": "markdown",
      "metadata": {
        "id": "DjbWNkHJAL6J"
      },
      "source": [
        "# Pre-processing"
      ]
    },
    {
      "cell_type": "code",
      "metadata": {
        "id": "SCqZG4raBgdI"
      },
      "source": [
        "data = pd.read_csv(\"/content/drive/My Drive/merged.csv\")  "
      ],
      "execution_count": null,
      "outputs": []
    },
    {
      "cell_type": "code",
      "metadata": {
        "id": "FYuvSs4tB4tV",
        "colab": {
          "base_uri": "https://localhost:8080/",
          "height": 214
        },
        "outputId": "887c0423-7fc1-459d-fb73-370cdccf525c"
      },
      "source": [
        "data.head()"
      ],
      "execution_count": null,
      "outputs": [
        {
          "output_type": "execute_result",
          "data": {
            "text/html": [
              "<div>\n",
              "<style scoped>\n",
              "    .dataframe tbody tr th:only-of-type {\n",
              "        vertical-align: middle;\n",
              "    }\n",
              "\n",
              "    .dataframe tbody tr th {\n",
              "        vertical-align: top;\n",
              "    }\n",
              "\n",
              "    .dataframe thead th {\n",
              "        text-align: right;\n",
              "    }\n",
              "</style>\n",
              "<table border=\"1\" class=\"dataframe\">\n",
              "  <thead>\n",
              "    <tr style=\"text-align: right;\">\n",
              "      <th></th>\n",
              "      <th>Unnamed: 0</th>\n",
              "      <th>SalesAgentEmailID</th>\n",
              "      <th>ContactEmailID</th>\n",
              "      <th>Product</th>\n",
              "      <th>Close_Value</th>\n",
              "      <th>year_month</th>\n",
              "      <th>sentiment_scores</th>\n",
              "    </tr>\n",
              "  </thead>\n",
              "  <tbody>\n",
              "    <tr>\n",
              "      <th>0</th>\n",
              "      <td>0</td>\n",
              "      <td>corliss@piedpiper.com</td>\n",
              "      <td>delila@konex.com</td>\n",
              "      <td>GTX Plus Basic</td>\n",
              "      <td>1255</td>\n",
              "      <td>2016-05</td>\n",
              "      <td>4.148387</td>\n",
              "    </tr>\n",
              "    <tr>\n",
              "      <th>1</th>\n",
              "      <td>1</td>\n",
              "      <td>rosalina@piedpiper.com</td>\n",
              "      <td>belinda@finjob.com</td>\n",
              "      <td>MG Special</td>\n",
              "      <td>45</td>\n",
              "      <td>2016-11</td>\n",
              "      <td>4.041667</td>\n",
              "    </tr>\n",
              "    <tr>\n",
              "      <th>2</th>\n",
              "      <td>2</td>\n",
              "      <td>lajuana@piedpiper.com</td>\n",
              "      <td>candice@stanredtax.com</td>\n",
              "      <td>MG Advanced</td>\n",
              "      <td>3180</td>\n",
              "      <td>2016-01</td>\n",
              "      <td>3.387500</td>\n",
              "    </tr>\n",
              "    <tr>\n",
              "      <th>3</th>\n",
              "      <td>3</td>\n",
              "      <td>zane@piedpiper.com</td>\n",
              "      <td>tyron@hatfan.com</td>\n",
              "      <td>GTX Basic</td>\n",
              "      <td>517</td>\n",
              "      <td>2016-12</td>\n",
              "      <td>4.405660</td>\n",
              "    </tr>\n",
              "    <tr>\n",
              "      <th>4</th>\n",
              "      <td>4</td>\n",
              "      <td>kary@piedpiper.com</td>\n",
              "      <td>rosanne@y-corporation.com</td>\n",
              "      <td>GTXPro</td>\n",
              "      <td>5539</td>\n",
              "      <td>2016-12</td>\n",
              "      <td>3.875776</td>\n",
              "    </tr>\n",
              "  </tbody>\n",
              "</table>\n",
              "</div>"
            ],
            "text/plain": [
              "   Unnamed: 0       SalesAgentEmailID  ... year_month sentiment_scores\n",
              "0           0   corliss@piedpiper.com  ...    2016-05         4.148387\n",
              "1           1  rosalina@piedpiper.com  ...    2016-11         4.041667\n",
              "2           2   lajuana@piedpiper.com  ...    2016-01         3.387500\n",
              "3           3      zane@piedpiper.com  ...    2016-12         4.405660\n",
              "4           4      kary@piedpiper.com  ...    2016-12         3.875776\n",
              "\n",
              "[5 rows x 7 columns]"
            ]
          },
          "metadata": {
            "tags": []
          },
          "execution_count": 34
        }
      ]
    },
    {
      "cell_type": "code",
      "metadata": {
        "id": "RWLJ8Vv5CCwl"
      },
      "source": [
        "data.drop(['Unnamed: 0'], axis='columns', inplace=True)  "
      ],
      "execution_count": null,
      "outputs": []
    },
    {
      "cell_type": "code",
      "metadata": {
        "id": "HnNCO3AZCLNY",
        "colab": {
          "base_uri": "https://localhost:8080/",
          "height": 214
        },
        "outputId": "1a8ee7fc-bcad-4f3c-d5fa-ce554ead5f23"
      },
      "source": [
        "data.head()"
      ],
      "execution_count": null,
      "outputs": [
        {
          "output_type": "execute_result",
          "data": {
            "text/html": [
              "<div>\n",
              "<style scoped>\n",
              "    .dataframe tbody tr th:only-of-type {\n",
              "        vertical-align: middle;\n",
              "    }\n",
              "\n",
              "    .dataframe tbody tr th {\n",
              "        vertical-align: top;\n",
              "    }\n",
              "\n",
              "    .dataframe thead th {\n",
              "        text-align: right;\n",
              "    }\n",
              "</style>\n",
              "<table border=\"1\" class=\"dataframe\">\n",
              "  <thead>\n",
              "    <tr style=\"text-align: right;\">\n",
              "      <th></th>\n",
              "      <th>SalesAgentEmailID</th>\n",
              "      <th>ContactEmailID</th>\n",
              "      <th>Product</th>\n",
              "      <th>Close_Value</th>\n",
              "      <th>year_month</th>\n",
              "      <th>sentiment_scores</th>\n",
              "    </tr>\n",
              "  </thead>\n",
              "  <tbody>\n",
              "    <tr>\n",
              "      <th>0</th>\n",
              "      <td>corliss@piedpiper.com</td>\n",
              "      <td>delila@konex.com</td>\n",
              "      <td>GTX Plus Basic</td>\n",
              "      <td>1255</td>\n",
              "      <td>2016-05</td>\n",
              "      <td>4.148387</td>\n",
              "    </tr>\n",
              "    <tr>\n",
              "      <th>1</th>\n",
              "      <td>rosalina@piedpiper.com</td>\n",
              "      <td>belinda@finjob.com</td>\n",
              "      <td>MG Special</td>\n",
              "      <td>45</td>\n",
              "      <td>2016-11</td>\n",
              "      <td>4.041667</td>\n",
              "    </tr>\n",
              "    <tr>\n",
              "      <th>2</th>\n",
              "      <td>lajuana@piedpiper.com</td>\n",
              "      <td>candice@stanredtax.com</td>\n",
              "      <td>MG Advanced</td>\n",
              "      <td>3180</td>\n",
              "      <td>2016-01</td>\n",
              "      <td>3.387500</td>\n",
              "    </tr>\n",
              "    <tr>\n",
              "      <th>3</th>\n",
              "      <td>zane@piedpiper.com</td>\n",
              "      <td>tyron@hatfan.com</td>\n",
              "      <td>GTX Basic</td>\n",
              "      <td>517</td>\n",
              "      <td>2016-12</td>\n",
              "      <td>4.405660</td>\n",
              "    </tr>\n",
              "    <tr>\n",
              "      <th>4</th>\n",
              "      <td>kary@piedpiper.com</td>\n",
              "      <td>rosanne@y-corporation.com</td>\n",
              "      <td>GTXPro</td>\n",
              "      <td>5539</td>\n",
              "      <td>2016-12</td>\n",
              "      <td>3.875776</td>\n",
              "    </tr>\n",
              "  </tbody>\n",
              "</table>\n",
              "</div>"
            ],
            "text/plain": [
              "        SalesAgentEmailID  ... sentiment_scores\n",
              "0   corliss@piedpiper.com  ...         4.148387\n",
              "1  rosalina@piedpiper.com  ...         4.041667\n",
              "2   lajuana@piedpiper.com  ...         3.387500\n",
              "3      zane@piedpiper.com  ...         4.405660\n",
              "4      kary@piedpiper.com  ...         3.875776\n",
              "\n",
              "[5 rows x 6 columns]"
            ]
          },
          "metadata": {
            "tags": []
          },
          "execution_count": 36
        }
      ]
    },
    {
      "cell_type": "code",
      "metadata": {
        "id": "N15sHmwyCZtH",
        "colab": {
          "base_uri": "https://localhost:8080/",
          "height": 214
        },
        "outputId": "82a626a7-4724-4e10-b67b-22fcf2f0ef5a"
      },
      "source": [
        "data.tail()"
      ],
      "execution_count": null,
      "outputs": [
        {
          "output_type": "execute_result",
          "data": {
            "text/html": [
              "<div>\n",
              "<style scoped>\n",
              "    .dataframe tbody tr th:only-of-type {\n",
              "        vertical-align: middle;\n",
              "    }\n",
              "\n",
              "    .dataframe tbody tr th {\n",
              "        vertical-align: top;\n",
              "    }\n",
              "\n",
              "    .dataframe thead th {\n",
              "        text-align: right;\n",
              "    }\n",
              "</style>\n",
              "<table border=\"1\" class=\"dataframe\">\n",
              "  <thead>\n",
              "    <tr style=\"text-align: right;\">\n",
              "      <th></th>\n",
              "      <th>SalesAgentEmailID</th>\n",
              "      <th>ContactEmailID</th>\n",
              "      <th>Product</th>\n",
              "      <th>Close_Value</th>\n",
              "      <th>year_month</th>\n",
              "      <th>sentiment_scores</th>\n",
              "    </tr>\n",
              "  </thead>\n",
              "  <tbody>\n",
              "    <tr>\n",
              "      <th>4233</th>\n",
              "      <td>moses@piedpiper.com</td>\n",
              "      <td>bryan@bioholding.com</td>\n",
              "      <td>GTX Plus Pro</td>\n",
              "      <td>5018</td>\n",
              "      <td>2019-03</td>\n",
              "      <td>3.290323</td>\n",
              "    </tr>\n",
              "    <tr>\n",
              "      <th>4234</th>\n",
              "      <td>darcel@piedpiper.com</td>\n",
              "      <td>benny@treequote.com</td>\n",
              "      <td>GTXPro</td>\n",
              "      <td>5085</td>\n",
              "      <td>2018-01</td>\n",
              "      <td>3.577273</td>\n",
              "    </tr>\n",
              "    <tr>\n",
              "      <th>4235</th>\n",
              "      <td>reed@piedpiper.com</td>\n",
              "      <td>somer@ganjaflex.com</td>\n",
              "      <td>GTX Basic</td>\n",
              "      <td>555</td>\n",
              "      <td>2018-08</td>\n",
              "      <td>4.338710</td>\n",
              "    </tr>\n",
              "    <tr>\n",
              "      <th>4236</th>\n",
              "      <td>darcel@piedpiper.com</td>\n",
              "      <td>palmira@inity.com</td>\n",
              "      <td>GTX Plus Pro</td>\n",
              "      <td>4880</td>\n",
              "      <td>2018-02</td>\n",
              "      <td>3.928889</td>\n",
              "    </tr>\n",
              "    <tr>\n",
              "      <th>4237</th>\n",
              "      <td>rosalina@piedpiper.com</td>\n",
              "      <td>winston@j-texon.com</td>\n",
              "      <td>MG Special</td>\n",
              "      <td>54</td>\n",
              "      <td>2019-12</td>\n",
              "      <td>3.581395</td>\n",
              "    </tr>\n",
              "  </tbody>\n",
              "</table>\n",
              "</div>"
            ],
            "text/plain": [
              "           SalesAgentEmailID        ContactEmailID  ... year_month  sentiment_scores\n",
              "4233     moses@piedpiper.com  bryan@bioholding.com  ...    2019-03          3.290323\n",
              "4234    darcel@piedpiper.com   benny@treequote.com  ...    2018-01          3.577273\n",
              "4235      reed@piedpiper.com   somer@ganjaflex.com  ...    2018-08          4.338710\n",
              "4236    darcel@piedpiper.com     palmira@inity.com  ...    2018-02          3.928889\n",
              "4237  rosalina@piedpiper.com   winston@j-texon.com  ...    2019-12          3.581395\n",
              "\n",
              "[5 rows x 6 columns]"
            ]
          },
          "metadata": {
            "tags": []
          },
          "execution_count": 8
        }
      ]
    },
    {
      "cell_type": "code",
      "metadata": {
        "id": "7EVGPgxZEAXE"
      },
      "source": [
        "# Sorting the rows on the basis on year_month and sales\n",
        "\n",
        "data.sort_values([\"year_month\", \"Close_Value\"],inplace=True)"
      ],
      "execution_count": null,
      "outputs": []
    },
    {
      "cell_type": "code",
      "metadata": {
        "id": "RHIoSa8VEPfh",
        "colab": {
          "base_uri": "https://localhost:8080/",
          "height": 214
        },
        "outputId": "b6e727a7-d258-4947-c4a5-e0dd0dea9655"
      },
      "source": [
        "data.head()"
      ],
      "execution_count": null,
      "outputs": [
        {
          "output_type": "execute_result",
          "data": {
            "text/html": [
              "<div>\n",
              "<style scoped>\n",
              "    .dataframe tbody tr th:only-of-type {\n",
              "        vertical-align: middle;\n",
              "    }\n",
              "\n",
              "    .dataframe tbody tr th {\n",
              "        vertical-align: top;\n",
              "    }\n",
              "\n",
              "    .dataframe thead th {\n",
              "        text-align: right;\n",
              "    }\n",
              "</style>\n",
              "<table border=\"1\" class=\"dataframe\">\n",
              "  <thead>\n",
              "    <tr style=\"text-align: right;\">\n",
              "      <th></th>\n",
              "      <th>SalesAgentEmailID</th>\n",
              "      <th>ContactEmailID</th>\n",
              "      <th>Product</th>\n",
              "      <th>Close_Value</th>\n",
              "      <th>year_month</th>\n",
              "      <th>sentiment_scores</th>\n",
              "    </tr>\n",
              "  </thead>\n",
              "  <tbody>\n",
              "    <tr>\n",
              "      <th>2</th>\n",
              "      <td>lajuana@piedpiper.com</td>\n",
              "      <td>candice@stanredtax.com</td>\n",
              "      <td>MG Advanced</td>\n",
              "      <td>3180</td>\n",
              "      <td>2016-01</td>\n",
              "      <td>3.387500</td>\n",
              "    </tr>\n",
              "    <tr>\n",
              "      <th>5</th>\n",
              "      <td>darcel@piedpiper.com</td>\n",
              "      <td>salina@gogozoom.com</td>\n",
              "      <td>GTXPro</td>\n",
              "      <td>4359</td>\n",
              "      <td>2016-01</td>\n",
              "      <td>3.783251</td>\n",
              "    </tr>\n",
              "    <tr>\n",
              "      <th>13</th>\n",
              "      <td>maureen@piedpiper.com</td>\n",
              "      <td>tambra@singletechno.com</td>\n",
              "      <td>GTX Plus Basic</td>\n",
              "      <td>1070</td>\n",
              "      <td>2016-02</td>\n",
              "      <td>4.297297</td>\n",
              "    </tr>\n",
              "    <tr>\n",
              "      <th>9</th>\n",
              "      <td>elease@piedpiper.com</td>\n",
              "      <td>gordon@scotfind.com</td>\n",
              "      <td>GTX Plus Basic</td>\n",
              "      <td>1164</td>\n",
              "      <td>2016-02</td>\n",
              "      <td>3.041667</td>\n",
              "    </tr>\n",
              "    <tr>\n",
              "      <th>41</th>\n",
              "      <td>reed@piedpiper.com</td>\n",
              "      <td>loise@mathtouch.com</td>\n",
              "      <td>GTX Basic</td>\n",
              "      <td>493</td>\n",
              "      <td>2016-03</td>\n",
              "      <td>4.225225</td>\n",
              "    </tr>\n",
              "  </tbody>\n",
              "</table>\n",
              "</div>"
            ],
            "text/plain": [
              "        SalesAgentEmailID           ContactEmailID  ... year_month  sentiment_scores\n",
              "2   lajuana@piedpiper.com   candice@stanredtax.com  ...    2016-01          3.387500\n",
              "5    darcel@piedpiper.com      salina@gogozoom.com  ...    2016-01          3.783251\n",
              "13  maureen@piedpiper.com  tambra@singletechno.com  ...    2016-02          4.297297\n",
              "9    elease@piedpiper.com      gordon@scotfind.com  ...    2016-02          3.041667\n",
              "41     reed@piedpiper.com      loise@mathtouch.com  ...    2016-03          4.225225\n",
              "\n",
              "[5 rows x 6 columns]"
            ]
          },
          "metadata": {
            "tags": []
          },
          "execution_count": 38
        }
      ]
    },
    {
      "cell_type": "code",
      "metadata": {
        "id": "3zBvHKNXER8G",
        "colab": {
          "base_uri": "https://localhost:8080/",
          "height": 214
        },
        "outputId": "3b7fb67e-d1cd-4d0c-820e-3c3d31dbbedb"
      },
      "source": [
        "data.tail()"
      ],
      "execution_count": null,
      "outputs": [
        {
          "output_type": "execute_result",
          "data": {
            "text/html": [
              "<div>\n",
              "<style scoped>\n",
              "    .dataframe tbody tr th:only-of-type {\n",
              "        vertical-align: middle;\n",
              "    }\n",
              "\n",
              "    .dataframe tbody tr th {\n",
              "        vertical-align: top;\n",
              "    }\n",
              "\n",
              "    .dataframe thead th {\n",
              "        text-align: right;\n",
              "    }\n",
              "</style>\n",
              "<table border=\"1\" class=\"dataframe\">\n",
              "  <thead>\n",
              "    <tr style=\"text-align: right;\">\n",
              "      <th></th>\n",
              "      <th>SalesAgentEmailID</th>\n",
              "      <th>ContactEmailID</th>\n",
              "      <th>Product</th>\n",
              "      <th>Close_Value</th>\n",
              "      <th>year_month</th>\n",
              "      <th>sentiment_scores</th>\n",
              "    </tr>\n",
              "  </thead>\n",
              "  <tbody>\n",
              "    <tr>\n",
              "      <th>2827</th>\n",
              "      <td>corliss@piedpiper.com</td>\n",
              "      <td>orpha@umbrellacorporation.com</td>\n",
              "      <td>GTXPro</td>\n",
              "      <td>5868</td>\n",
              "      <td>2019-12</td>\n",
              "      <td>3.648649</td>\n",
              "    </tr>\n",
              "    <tr>\n",
              "      <th>2551</th>\n",
              "      <td>cassey@piedpiper.com</td>\n",
              "      <td>cuc@acmecorporation.com</td>\n",
              "      <td>GTX Plus Pro</td>\n",
              "      <td>5881</td>\n",
              "      <td>2019-12</td>\n",
              "      <td>3.962500</td>\n",
              "    </tr>\n",
              "    <tr>\n",
              "      <th>3923</th>\n",
              "      <td>anna@piedpiper.com</td>\n",
              "      <td>benny@treequote.com</td>\n",
              "      <td>GTX Plus Pro</td>\n",
              "      <td>6038</td>\n",
              "      <td>2019-12</td>\n",
              "      <td>4.118012</td>\n",
              "    </tr>\n",
              "    <tr>\n",
              "      <th>3883</th>\n",
              "      <td>niesha@piedpiper.com</td>\n",
              "      <td>ying@funholding.com</td>\n",
              "      <td>GTX Plus Pro</td>\n",
              "      <td>6141</td>\n",
              "      <td>2019-12</td>\n",
              "      <td>4.275362</td>\n",
              "    </tr>\n",
              "    <tr>\n",
              "      <th>2090</th>\n",
              "      <td>gladys@piedpiper.com</td>\n",
              "      <td>ivory@conecom.com</td>\n",
              "      <td>GTX Plus Pro</td>\n",
              "      <td>6719</td>\n",
              "      <td>2019-12</td>\n",
              "      <td>4.252747</td>\n",
              "    </tr>\n",
              "  </tbody>\n",
              "</table>\n",
              "</div>"
            ],
            "text/plain": [
              "          SalesAgentEmailID  ... sentiment_scores\n",
              "2827  corliss@piedpiper.com  ...         3.648649\n",
              "2551   cassey@piedpiper.com  ...         3.962500\n",
              "3923     anna@piedpiper.com  ...         4.118012\n",
              "3883   niesha@piedpiper.com  ...         4.275362\n",
              "2090   gladys@piedpiper.com  ...         4.252747\n",
              "\n",
              "[5 rows x 6 columns]"
            ]
          },
          "metadata": {
            "tags": []
          },
          "execution_count": 11
        }
      ]
    },
    {
      "cell_type": "code",
      "metadata": {
        "id": "d7eiRaXfapXz",
        "colab": {
          "base_uri": "https://localhost:8080/"
        },
        "outputId": "bd818c03-96ba-4d80-a798-ea155f09b18a"
      },
      "source": [
        "data.dtypes"
      ],
      "execution_count": null,
      "outputs": [
        {
          "output_type": "execute_result",
          "data": {
            "text/plain": [
              "SalesAgentEmailID     object\n",
              "ContactEmailID        object\n",
              "Product               object\n",
              "Close_Value            int64\n",
              "year_month            object\n",
              "sentiment_scores     float64\n",
              "dtype: object"
            ]
          },
          "metadata": {
            "tags": []
          },
          "execution_count": 12
        }
      ]
    },
    {
      "cell_type": "code",
      "metadata": {
        "id": "XhPV2iHcbDLP"
      },
      "source": [
        "data['year_month'] = pd.to_datetime(data.year_month) "
      ],
      "execution_count": null,
      "outputs": []
    },
    {
      "cell_type": "code",
      "metadata": {
        "id": "KeCB7EWlcLyd",
        "colab": {
          "base_uri": "https://localhost:8080/"
        },
        "outputId": "5fffa303-8318-4ba8-cfb4-4eb1f7f35ecf"
      },
      "source": [
        "data.dtypes"
      ],
      "execution_count": null,
      "outputs": [
        {
          "output_type": "execute_result",
          "data": {
            "text/plain": [
              "SalesAgentEmailID            object\n",
              "ContactEmailID               object\n",
              "Product                      object\n",
              "Close_Value                   int64\n",
              "year_month           datetime64[ns]\n",
              "sentiment_scores            float64\n",
              "dtype: object"
            ]
          },
          "metadata": {
            "tags": []
          },
          "execution_count": 15
        }
      ]
    },
    {
      "cell_type": "code",
      "metadata": {
        "id": "s59soI3IdFye"
      },
      "source": [
        "# Performing label encoding on three categorical variables : Product, SalesAgentEmailID, ContactEmailID\n",
        "\n",
        "from sklearn.preprocessing import LabelEncoder\n",
        "encoder = LabelEncoder()\n",
        "\n",
        "data['Product'] = encoder.fit_transform(data['Product'])"
      ],
      "execution_count": null,
      "outputs": []
    },
    {
      "cell_type": "code",
      "metadata": {
        "id": "BKvryUNjfo9T"
      },
      "source": [
        "data['SalesAgentEmailID'] = encoder.fit_transform(data['SalesAgentEmailID'])"
      ],
      "execution_count": null,
      "outputs": []
    },
    {
      "cell_type": "code",
      "metadata": {
        "id": "dgvuQ_jvfpQp"
      },
      "source": [
        "data['ContactEmailID'] = encoder.fit_transform(data['ContactEmailID'])"
      ],
      "execution_count": null,
      "outputs": []
    },
    {
      "cell_type": "code",
      "metadata": {
        "id": "B3yJHY-zfXnd",
        "colab": {
          "base_uri": "https://localhost:8080/",
          "height": 214
        },
        "outputId": "57a53650-9c99-4e61-c661-4cac675283e0"
      },
      "source": [
        "data.head()"
      ],
      "execution_count": null,
      "outputs": [
        {
          "output_type": "execute_result",
          "data": {
            "text/html": [
              "<div>\n",
              "<style scoped>\n",
              "    .dataframe tbody tr th:only-of-type {\n",
              "        vertical-align: middle;\n",
              "    }\n",
              "\n",
              "    .dataframe tbody tr th {\n",
              "        vertical-align: top;\n",
              "    }\n",
              "\n",
              "    .dataframe thead th {\n",
              "        text-align: right;\n",
              "    }\n",
              "</style>\n",
              "<table border=\"1\" class=\"dataframe\">\n",
              "  <thead>\n",
              "    <tr style=\"text-align: right;\">\n",
              "      <th></th>\n",
              "      <th>SalesAgentEmailID</th>\n",
              "      <th>ContactEmailID</th>\n",
              "      <th>Product</th>\n",
              "      <th>Close_Value</th>\n",
              "      <th>year_month</th>\n",
              "      <th>sentiment_scores</th>\n",
              "    </tr>\n",
              "  </thead>\n",
              "  <tbody>\n",
              "    <tr>\n",
              "      <th>2</th>\n",
              "      <td>16</td>\n",
              "      <td>6</td>\n",
              "      <td>5</td>\n",
              "      <td>3180</td>\n",
              "      <td>2016-01-01</td>\n",
              "      <td>3.387500</td>\n",
              "    </tr>\n",
              "    <tr>\n",
              "      <th>5</th>\n",
              "      <td>6</td>\n",
              "      <td>66</td>\n",
              "      <td>4</td>\n",
              "      <td>4359</td>\n",
              "      <td>2016-01-01</td>\n",
              "      <td>3.783251</td>\n",
              "    </tr>\n",
              "    <tr>\n",
              "      <th>13</th>\n",
              "      <td>19</td>\n",
              "      <td>71</td>\n",
              "      <td>2</td>\n",
              "      <td>1070</td>\n",
              "      <td>2016-02-01</td>\n",
              "      <td>4.297297</td>\n",
              "    </tr>\n",
              "    <tr>\n",
              "      <th>9</th>\n",
              "      <td>8</td>\n",
              "      <td>27</td>\n",
              "      <td>2</td>\n",
              "      <td>1164</td>\n",
              "      <td>2016-02-01</td>\n",
              "      <td>3.041667</td>\n",
              "    </tr>\n",
              "    <tr>\n",
              "      <th>41</th>\n",
              "      <td>22</td>\n",
              "      <td>47</td>\n",
              "      <td>1</td>\n",
              "      <td>493</td>\n",
              "      <td>2016-03-01</td>\n",
              "      <td>4.225225</td>\n",
              "    </tr>\n",
              "  </tbody>\n",
              "</table>\n",
              "</div>"
            ],
            "text/plain": [
              "    SalesAgentEmailID  ContactEmailID  ...  year_month  sentiment_scores\n",
              "2                  16               6  ...  2016-01-01          3.387500\n",
              "5                   6              66  ...  2016-01-01          3.783251\n",
              "13                 19              71  ...  2016-02-01          4.297297\n",
              "9                   8              27  ...  2016-02-01          3.041667\n",
              "41                 22              47  ...  2016-03-01          4.225225\n",
              "\n",
              "[5 rows x 6 columns]"
            ]
          },
          "metadata": {
            "tags": []
          },
          "execution_count": 43
        }
      ]
    },
    {
      "cell_type": "code",
      "metadata": {
        "id": "qx4VPAW4f8CH",
        "colab": {
          "base_uri": "https://localhost:8080/"
        },
        "outputId": "c03d934c-e824-4d5c-80b8-069d788eabd1"
      },
      "source": [
        "data.dtypes"
      ],
      "execution_count": null,
      "outputs": [
        {
          "output_type": "execute_result",
          "data": {
            "text/plain": [
              "SalesAgentEmailID             int64\n",
              "ContactEmailID                int64\n",
              "Product                       int64\n",
              "Close_Value                   int64\n",
              "year_month           datetime64[ns]\n",
              "sentiment_scores            float64\n",
              "dtype: object"
            ]
          },
          "metadata": {
            "tags": []
          },
          "execution_count": 26
        }
      ]
    },
    {
      "cell_type": "code",
      "metadata": {
        "id": "AplUlfQbgQ24",
        "colab": {
          "base_uri": "https://localhost:8080/"
        },
        "outputId": "df8458df-7d49-4e14-9a53-51b4b20972bb"
      },
      "source": [
        "unique_value_1 = data[\"SalesAgentEmailID\"].nunique() \n",
        "unique_value_2 = data[\"ContactEmailID\"].nunique() \n",
        "unique_value_3 = data[\"Product\"].nunique() \n",
        "\n",
        "print(unique_value_1)\n",
        "print(unique_value_2)\n",
        "print(unique_value_3)"
      ],
      "execution_count": null,
      "outputs": [
        {
          "output_type": "stream",
          "text": [
            "30\n",
            "85\n",
            "7\n"
          ],
          "name": "stdout"
        }
      ]
    },
    {
      "cell_type": "code",
      "metadata": {
        "id": "23Zes6bqxt5h"
      },
      "source": [
        "data.to_csv(\"/content/drive/My Drive/encoded_data.csv\")"
      ],
      "execution_count": null,
      "outputs": []
    },
    {
      "cell_type": "markdown",
      "metadata": {
        "id": "bSNvkfBNuBzf"
      },
      "source": [
        "# Rearranging data"
      ]
    },
    {
      "cell_type": "code",
      "metadata": {
        "id": "kbr3zq9nyV7-"
      },
      "source": [
        "final = pd.read_csv('/content/drive/My Drive/encoded_data.csv')"
      ],
      "execution_count": null,
      "outputs": []
    },
    {
      "cell_type": "code",
      "metadata": {
        "id": "1vbdOMq6ygaM",
        "colab": {
          "base_uri": "https://localhost:8080/",
          "height": 214
        },
        "outputId": "da53c7c9-3823-4d14-d8ab-ef1bf3be6557"
      },
      "source": [
        "final.head()"
      ],
      "execution_count": null,
      "outputs": [
        {
          "output_type": "execute_result",
          "data": {
            "text/html": [
              "<div>\n",
              "<style scoped>\n",
              "    .dataframe tbody tr th:only-of-type {\n",
              "        vertical-align: middle;\n",
              "    }\n",
              "\n",
              "    .dataframe tbody tr th {\n",
              "        vertical-align: top;\n",
              "    }\n",
              "\n",
              "    .dataframe thead th {\n",
              "        text-align: right;\n",
              "    }\n",
              "</style>\n",
              "<table border=\"1\" class=\"dataframe\">\n",
              "  <thead>\n",
              "    <tr style=\"text-align: right;\">\n",
              "      <th></th>\n",
              "      <th>Unnamed: 0</th>\n",
              "      <th>SalesAgentEmailID</th>\n",
              "      <th>ContactEmailID</th>\n",
              "      <th>Product</th>\n",
              "      <th>Close_Value</th>\n",
              "      <th>year_month</th>\n",
              "      <th>sentiment_scores</th>\n",
              "    </tr>\n",
              "  </thead>\n",
              "  <tbody>\n",
              "    <tr>\n",
              "      <th>0</th>\n",
              "      <td>2</td>\n",
              "      <td>16</td>\n",
              "      <td>6</td>\n",
              "      <td>5</td>\n",
              "      <td>3180</td>\n",
              "      <td>2016-01-01</td>\n",
              "      <td>3.387500</td>\n",
              "    </tr>\n",
              "    <tr>\n",
              "      <th>1</th>\n",
              "      <td>5</td>\n",
              "      <td>6</td>\n",
              "      <td>66</td>\n",
              "      <td>4</td>\n",
              "      <td>4359</td>\n",
              "      <td>2016-01-01</td>\n",
              "      <td>3.783251</td>\n",
              "    </tr>\n",
              "    <tr>\n",
              "      <th>2</th>\n",
              "      <td>13</td>\n",
              "      <td>19</td>\n",
              "      <td>71</td>\n",
              "      <td>2</td>\n",
              "      <td>1070</td>\n",
              "      <td>2016-02-01</td>\n",
              "      <td>4.297297</td>\n",
              "    </tr>\n",
              "    <tr>\n",
              "      <th>3</th>\n",
              "      <td>9</td>\n",
              "      <td>8</td>\n",
              "      <td>27</td>\n",
              "      <td>2</td>\n",
              "      <td>1164</td>\n",
              "      <td>2016-02-01</td>\n",
              "      <td>3.041667</td>\n",
              "    </tr>\n",
              "    <tr>\n",
              "      <th>4</th>\n",
              "      <td>41</td>\n",
              "      <td>22</td>\n",
              "      <td>47</td>\n",
              "      <td>1</td>\n",
              "      <td>493</td>\n",
              "      <td>2016-03-01</td>\n",
              "      <td>4.225225</td>\n",
              "    </tr>\n",
              "  </tbody>\n",
              "</table>\n",
              "</div>"
            ],
            "text/plain": [
              "   Unnamed: 0  SalesAgentEmailID  ...  year_month  sentiment_scores\n",
              "0           2                 16  ...  2016-01-01          3.387500\n",
              "1           5                  6  ...  2016-01-01          3.783251\n",
              "2          13                 19  ...  2016-02-01          4.297297\n",
              "3           9                  8  ...  2016-02-01          3.041667\n",
              "4          41                 22  ...  2016-03-01          4.225225\n",
              "\n",
              "[5 rows x 7 columns]"
            ]
          },
          "metadata": {
            "tags": []
          },
          "execution_count": 5
        }
      ]
    },
    {
      "cell_type": "code",
      "metadata": {
        "id": "-uzUKUSdysL6"
      },
      "source": [
        "final.drop(['Unnamed: 0'], axis='columns', inplace=True)  "
      ],
      "execution_count": null,
      "outputs": []
    },
    {
      "cell_type": "code",
      "metadata": {
        "id": "nsSv0LLhyvIn",
        "colab": {
          "base_uri": "https://localhost:8080/",
          "height": 214
        },
        "outputId": "68824d5f-d78b-467f-e7ab-64d4eb41471c"
      },
      "source": [
        "final.head()"
      ],
      "execution_count": null,
      "outputs": [
        {
          "output_type": "execute_result",
          "data": {
            "text/html": [
              "<div>\n",
              "<style scoped>\n",
              "    .dataframe tbody tr th:only-of-type {\n",
              "        vertical-align: middle;\n",
              "    }\n",
              "\n",
              "    .dataframe tbody tr th {\n",
              "        vertical-align: top;\n",
              "    }\n",
              "\n",
              "    .dataframe thead th {\n",
              "        text-align: right;\n",
              "    }\n",
              "</style>\n",
              "<table border=\"1\" class=\"dataframe\">\n",
              "  <thead>\n",
              "    <tr style=\"text-align: right;\">\n",
              "      <th></th>\n",
              "      <th>SalesAgentEmailID</th>\n",
              "      <th>ContactEmailID</th>\n",
              "      <th>Product</th>\n",
              "      <th>Close_Value</th>\n",
              "      <th>year_month</th>\n",
              "      <th>sentiment_scores</th>\n",
              "    </tr>\n",
              "  </thead>\n",
              "  <tbody>\n",
              "    <tr>\n",
              "      <th>0</th>\n",
              "      <td>16</td>\n",
              "      <td>6</td>\n",
              "      <td>5</td>\n",
              "      <td>3180</td>\n",
              "      <td>2016-01-01</td>\n",
              "      <td>3.387500</td>\n",
              "    </tr>\n",
              "    <tr>\n",
              "      <th>1</th>\n",
              "      <td>6</td>\n",
              "      <td>66</td>\n",
              "      <td>4</td>\n",
              "      <td>4359</td>\n",
              "      <td>2016-01-01</td>\n",
              "      <td>3.783251</td>\n",
              "    </tr>\n",
              "    <tr>\n",
              "      <th>2</th>\n",
              "      <td>19</td>\n",
              "      <td>71</td>\n",
              "      <td>2</td>\n",
              "      <td>1070</td>\n",
              "      <td>2016-02-01</td>\n",
              "      <td>4.297297</td>\n",
              "    </tr>\n",
              "    <tr>\n",
              "      <th>3</th>\n",
              "      <td>8</td>\n",
              "      <td>27</td>\n",
              "      <td>2</td>\n",
              "      <td>1164</td>\n",
              "      <td>2016-02-01</td>\n",
              "      <td>3.041667</td>\n",
              "    </tr>\n",
              "    <tr>\n",
              "      <th>4</th>\n",
              "      <td>22</td>\n",
              "      <td>47</td>\n",
              "      <td>1</td>\n",
              "      <td>493</td>\n",
              "      <td>2016-03-01</td>\n",
              "      <td>4.225225</td>\n",
              "    </tr>\n",
              "  </tbody>\n",
              "</table>\n",
              "</div>"
            ],
            "text/plain": [
              "   SalesAgentEmailID  ContactEmailID  ...  year_month  sentiment_scores\n",
              "0                 16               6  ...  2016-01-01          3.387500\n",
              "1                  6              66  ...  2016-01-01          3.783251\n",
              "2                 19              71  ...  2016-02-01          4.297297\n",
              "3                  8              27  ...  2016-02-01          3.041667\n",
              "4                 22              47  ...  2016-03-01          4.225225\n",
              "\n",
              "[5 rows x 6 columns]"
            ]
          },
          "metadata": {
            "tags": []
          },
          "execution_count": 5
        }
      ]
    },
    {
      "cell_type": "code",
      "metadata": {
        "id": "RuPAlLq5i4pB"
      },
      "source": [
        "column_titles = ['SalesAgentEmailID','ContactEmailID','sentiment_scores','Product','year_month','Close_Value']\n",
        "\n",
        "data = final.reindex(columns=column_titles)"
      ],
      "execution_count": null,
      "outputs": []
    },
    {
      "cell_type": "code",
      "metadata": {
        "id": "rjc-ID-Eo3x_"
      },
      "source": [
        "data.to_csv(\"/content/drive/My Drive/rearranged_data.csv\")"
      ],
      "execution_count": null,
      "outputs": []
    },
    {
      "cell_type": "code",
      "metadata": {
        "id": "QJofTQuspBfH"
      },
      "source": [
        "data = pd.read_csv('/content/drive/My Drive/rearranged_data.csv')"
      ],
      "execution_count": null,
      "outputs": []
    },
    {
      "cell_type": "code",
      "metadata": {
        "id": "CV6CZiQJpMZi"
      },
      "source": [
        "data.drop(['Unnamed: 0'], axis='columns', inplace=True)  "
      ],
      "execution_count": null,
      "outputs": []
    },
    {
      "cell_type": "markdown",
      "metadata": {
        "id": "K62BYoOKogNE"
      },
      "source": [
        "\n",
        "# Data visualization"
      ]
    },
    {
      "cell_type": "code",
      "metadata": {
        "id": "Dqs9swm2jTgj",
        "colab": {
          "base_uri": "https://localhost:8080/",
          "height": 214
        },
        "outputId": "acce10e1-0fea-43c6-adb9-b55390309f63"
      },
      "source": [
        "data.head()"
      ],
      "execution_count": null,
      "outputs": [
        {
          "output_type": "execute_result",
          "data": {
            "text/html": [
              "<div>\n",
              "<style scoped>\n",
              "    .dataframe tbody tr th:only-of-type {\n",
              "        vertical-align: middle;\n",
              "    }\n",
              "\n",
              "    .dataframe tbody tr th {\n",
              "        vertical-align: top;\n",
              "    }\n",
              "\n",
              "    .dataframe thead th {\n",
              "        text-align: right;\n",
              "    }\n",
              "</style>\n",
              "<table border=\"1\" class=\"dataframe\">\n",
              "  <thead>\n",
              "    <tr style=\"text-align: right;\">\n",
              "      <th></th>\n",
              "      <th>SalesAgentEmailID</th>\n",
              "      <th>ContactEmailID</th>\n",
              "      <th>sentiment_scores</th>\n",
              "      <th>Product</th>\n",
              "      <th>year_month</th>\n",
              "      <th>Close_Value</th>\n",
              "    </tr>\n",
              "  </thead>\n",
              "  <tbody>\n",
              "    <tr>\n",
              "      <th>0</th>\n",
              "      <td>16</td>\n",
              "      <td>6</td>\n",
              "      <td>3.387500</td>\n",
              "      <td>5</td>\n",
              "      <td>2016-01-01</td>\n",
              "      <td>3180</td>\n",
              "    </tr>\n",
              "    <tr>\n",
              "      <th>1</th>\n",
              "      <td>6</td>\n",
              "      <td>66</td>\n",
              "      <td>3.783251</td>\n",
              "      <td>4</td>\n",
              "      <td>2016-01-01</td>\n",
              "      <td>4359</td>\n",
              "    </tr>\n",
              "    <tr>\n",
              "      <th>2</th>\n",
              "      <td>19</td>\n",
              "      <td>71</td>\n",
              "      <td>4.297297</td>\n",
              "      <td>2</td>\n",
              "      <td>2016-02-01</td>\n",
              "      <td>1070</td>\n",
              "    </tr>\n",
              "    <tr>\n",
              "      <th>3</th>\n",
              "      <td>8</td>\n",
              "      <td>27</td>\n",
              "      <td>3.041667</td>\n",
              "      <td>2</td>\n",
              "      <td>2016-02-01</td>\n",
              "      <td>1164</td>\n",
              "    </tr>\n",
              "    <tr>\n",
              "      <th>4</th>\n",
              "      <td>22</td>\n",
              "      <td>47</td>\n",
              "      <td>4.225225</td>\n",
              "      <td>1</td>\n",
              "      <td>2016-03-01</td>\n",
              "      <td>493</td>\n",
              "    </tr>\n",
              "  </tbody>\n",
              "</table>\n",
              "</div>"
            ],
            "text/plain": [
              "   SalesAgentEmailID  ContactEmailID  ...  year_month  Close_Value\n",
              "0                 16               6  ...  2016-01-01         3180\n",
              "1                  6              66  ...  2016-01-01         4359\n",
              "2                 19              71  ...  2016-02-01         1070\n",
              "3                  8              27  ...  2016-02-01         1164\n",
              "4                 22              47  ...  2016-03-01          493\n",
              "\n",
              "[5 rows x 6 columns]"
            ]
          },
          "metadata": {
            "tags": []
          },
          "execution_count": 52
        }
      ]
    },
    {
      "cell_type": "code",
      "metadata": {
        "id": "cJFn6UaxFcAh"
      },
      "source": [
        "import matplotlib.pyplot as plt\n",
        "import seaborn as sns"
      ],
      "execution_count": null,
      "outputs": []
    },
    {
      "cell_type": "code",
      "metadata": {
        "id": "v7NG6NGikyOE",
        "colab": {
          "base_uri": "https://localhost:8080/",
          "height": 643
        },
        "outputId": "12e2a100-fd5a-45fb-a13d-0c6341a1acf2"
      },
      "source": [
        "# First let us simply plot the total sales over time as a timeseries \n",
        "\n",
        "data.plot.line(x='year_month',y='Close_Value',figsize=(90,50),fontsize=40);"
      ],
      "execution_count": null,
      "outputs": [
        {
          "output_type": "display_data",
          "data": {
            "image/png": "[encoded data removed]",
            "text/plain": [
              "<Figure size 6480x3600 with 1 Axes>"
            ]
          },
          "metadata": {
            "tags": [],
            "needs_background": "light"
          }
        }
      ]
    },
    {
      "cell_type": "code",
      "metadata": {
        "id": "l9hraQjZk4AM",
        "colab": {
          "base_uri": "https://localhost:8080/",
          "height": 211
        },
        "outputId": "bfb4ac73-b725-4dfb-bb8c-24d585613786"
      },
      "source": [
        "# Now let us break down the avg sales to each individual product (bar chart)\n",
        "\n",
        "fig, (axis1) = plt.subplots(1,1,figsize=(30,4))\n",
        "sns.barplot(x='Product', y='Close_Value', data=data, ax=axis1)"
      ],
      "execution_count": null,
      "outputs": [
        {
          "output_type": "execute_result",
          "data": {
            "text/plain": [
              "<matplotlib.axes._subplots.AxesSubplot at 0x7f27ab793470>"
            ]
          },
          "metadata": {
            "tags": []
          },
          "execution_count": 55
        },
        {
          "output_type": "display_data",
          "data": {
            "image/png": "[encoded data removed]",
            "text/plain": [
              "<Figure size 2160x288 with 1 Axes>"
            ]
          },
          "metadata": {
            "tags": [],
            "needs_background": "light"
          }
        }
      ]
    },
    {
      "cell_type": "code",
      "metadata": {
        "id": "FK2Jn3lFoRxg",
        "colab": {
          "base_uri": "https://localhost:8080/",
          "height": 410
        },
        "outputId": "767b6186-be61-489d-a40c-989eb271a774"
      },
      "source": [
        "# Now let us break down the sales to each individual SalesAgentEmailID\t \n",
        "\n",
        "fig, (axis1) = plt.subplots(1,1,figsize=(30,10))\n",
        "sns.barplot(x='SalesAgentEmailID', y='Close_Value', data=data, ax=axis1);"
      ],
      "execution_count": null,
      "outputs": [
        {
          "output_type": "display_data",
          "data": {
            "image/png": "[encoded data removed]",
            "text/plain": [
              "<Figure size 2160x720 with 1 Axes>"
            ]
          },
          "metadata": {
            "tags": [],
            "needs_background": "light"
          }
        }
      ]
    },
    {
      "cell_type": "code",
      "metadata": {
        "id": "QG8h3fX3oVq0",
        "colab": {
          "base_uri": "https://localhost:8080/",
          "height": 410
        },
        "outputId": "e5268755-9e53-4a21-ee0a-01087f9b7a91"
      },
      "source": [
        "# Now let us break down the sales to each individual ContactEmailID \n",
        "\n",
        "fig, (axis1) = plt.subplots(1,1,figsize=(30,10))\n",
        "sns.barplot(x='ContactEmailID', y='Close_Value', data=data, ax=axis1);"
      ],
      "execution_count": null,
      "outputs": [
        {
          "output_type": "display_data",
          "data": {
            "image/png": "[encoded data removed]",
            "text/plain": [
              "<Figure size 2160x720 with 1 Axes>"
            ]
          },
          "metadata": {
            "tags": [],
            "needs_background": "light"
          }
        }
      ]
    },
    {
      "cell_type": "markdown",
      "metadata": {
        "id": "UnwWkaT9t-r5"
      },
      "source": [
        "# Feature engineering "
      ]
    },
    {
      "cell_type": "code",
      "metadata": {
        "id": "MYwcJEIKqeK7",
        "colab": {
          "base_uri": "https://localhost:8080/",
          "height": 214
        },
        "outputId": "7a20b3ad-84cb-44bd-ad38-ae0b61decb97"
      },
      "source": [
        "# Create month and year feature \n",
        "\n",
        "data['month'] = pd.DatetimeIndex(data['year_month']).month\n",
        "data['year'] = pd.to_datetime(data['year_month']).dt.strftime('%Y')\n",
        "\n",
        "data.head()"
      ],
      "execution_count": null,
      "outputs": [
        {
          "output_type": "execute_result",
          "data": {
            "text/html": [
              "<div>\n",
              "<style scoped>\n",
              "    .dataframe tbody tr th:only-of-type {\n",
              "        vertical-align: middle;\n",
              "    }\n",
              "\n",
              "    .dataframe tbody tr th {\n",
              "        vertical-align: top;\n",
              "    }\n",
              "\n",
              "    .dataframe thead th {\n",
              "        text-align: right;\n",
              "    }\n",
              "</style>\n",
              "<table border=\"1\" class=\"dataframe\">\n",
              "  <thead>\n",
              "    <tr style=\"text-align: right;\">\n",
              "      <th></th>\n",
              "      <th>SalesAgentEmailID</th>\n",
              "      <th>ContactEmailID</th>\n",
              "      <th>sentiment_scores</th>\n",
              "      <th>Product</th>\n",
              "      <th>year_month</th>\n",
              "      <th>Close_Value</th>\n",
              "      <th>month</th>\n",
              "      <th>year</th>\n",
              "    </tr>\n",
              "  </thead>\n",
              "  <tbody>\n",
              "    <tr>\n",
              "      <th>0</th>\n",
              "      <td>16</td>\n",
              "      <td>6</td>\n",
              "      <td>3.387500</td>\n",
              "      <td>5</td>\n",
              "      <td>2016-01-01</td>\n",
              "      <td>3180</td>\n",
              "      <td>1</td>\n",
              "      <td>2016</td>\n",
              "    </tr>\n",
              "    <tr>\n",
              "      <th>1</th>\n",
              "      <td>6</td>\n",
              "      <td>66</td>\n",
              "      <td>3.783251</td>\n",
              "      <td>4</td>\n",
              "      <td>2016-01-01</td>\n",
              "      <td>4359</td>\n",
              "      <td>1</td>\n",
              "      <td>2016</td>\n",
              "    </tr>\n",
              "    <tr>\n",
              "      <th>2</th>\n",
              "      <td>19</td>\n",
              "      <td>71</td>\n",
              "      <td>4.297297</td>\n",
              "      <td>2</td>\n",
              "      <td>2016-02-01</td>\n",
              "      <td>1070</td>\n",
              "      <td>2</td>\n",
              "      <td>2016</td>\n",
              "    </tr>\n",
              "    <tr>\n",
              "      <th>3</th>\n",
              "      <td>8</td>\n",
              "      <td>27</td>\n",
              "      <td>3.041667</td>\n",
              "      <td>2</td>\n",
              "      <td>2016-02-01</td>\n",
              "      <td>1164</td>\n",
              "      <td>2</td>\n",
              "      <td>2016</td>\n",
              "    </tr>\n",
              "    <tr>\n",
              "      <th>4</th>\n",
              "      <td>22</td>\n",
              "      <td>47</td>\n",
              "      <td>4.225225</td>\n",
              "      <td>1</td>\n",
              "      <td>2016-03-01</td>\n",
              "      <td>493</td>\n",
              "      <td>3</td>\n",
              "      <td>2016</td>\n",
              "    </tr>\n",
              "  </tbody>\n",
              "</table>\n",
              "</div>"
            ],
            "text/plain": [
              "   SalesAgentEmailID  ContactEmailID  ...  month  year\n",
              "0                 16               6  ...      1  2016\n",
              "1                  6              66  ...      1  2016\n",
              "2                 19              71  ...      2  2016\n",
              "3                  8              27  ...      2  2016\n",
              "4                 22              47  ...      3  2016\n",
              "\n",
              "[5 rows x 8 columns]"
            ]
          },
          "metadata": {
            "tags": []
          },
          "execution_count": 60
        }
      ]
    },
    {
      "cell_type": "code",
      "metadata": {
        "id": "Pn0OI9bPuBSp",
        "colab": {
          "base_uri": "https://localhost:8080/",
          "height": 377
        },
        "outputId": "96cc7d0c-4e05-4f88-8677-9030781470d3"
      },
      "source": [
        "# Lag features \n",
        "\n",
        "data['lag_1'] = data['Close_Value'].shift(1)\n",
        "data['lag_2'] = data['Close_Value'].shift(2)\n",
        "data['lag_3'] = data['Close_Value'].shift(3)\n",
        "data['lag_4'] = data['Close_Value'].shift(4)\n",
        "\n",
        "data.head(10)"
      ],
      "execution_count": null,
      "outputs": [
        {
          "output_type": "execute_result",
          "data": {
            "text/html": [
              "<div>\n",
              "<style scoped>\n",
              "    .dataframe tbody tr th:only-of-type {\n",
              "        vertical-align: middle;\n",
              "    }\n",
              "\n",
              "    .dataframe tbody tr th {\n",
              "        vertical-align: top;\n",
              "    }\n",
              "\n",
              "    .dataframe thead th {\n",
              "        text-align: right;\n",
              "    }\n",
              "</style>\n",
              "<table border=\"1\" class=\"dataframe\">\n",
              "  <thead>\n",
              "    <tr style=\"text-align: right;\">\n",
              "      <th></th>\n",
              "      <th>SalesAgentEmailID</th>\n",
              "      <th>ContactEmailID</th>\n",
              "      <th>sentiment_scores</th>\n",
              "      <th>Product</th>\n",
              "      <th>year_month</th>\n",
              "      <th>Close_Value</th>\n",
              "      <th>month</th>\n",
              "      <th>year</th>\n",
              "      <th>lag_1</th>\n",
              "      <th>lag_2</th>\n",
              "      <th>lag_3</th>\n",
              "      <th>lag_4</th>\n",
              "    </tr>\n",
              "  </thead>\n",
              "  <tbody>\n",
              "    <tr>\n",
              "      <th>0</th>\n",
              "      <td>16</td>\n",
              "      <td>6</td>\n",
              "      <td>3.387500</td>\n",
              "      <td>5</td>\n",
              "      <td>2016-01-01</td>\n",
              "      <td>3180</td>\n",
              "      <td>1</td>\n",
              "      <td>2016</td>\n",
              "      <td>NaN</td>\n",
              "      <td>NaN</td>\n",
              "      <td>NaN</td>\n",
              "      <td>NaN</td>\n",
              "    </tr>\n",
              "    <tr>\n",
              "      <th>1</th>\n",
              "      <td>6</td>\n",
              "      <td>66</td>\n",
              "      <td>3.783251</td>\n",
              "      <td>4</td>\n",
              "      <td>2016-01-01</td>\n",
              "      <td>4359</td>\n",
              "      <td>1</td>\n",
              "      <td>2016</td>\n",
              "      <td>3180.0</td>\n",
              "      <td>NaN</td>\n",
              "      <td>NaN</td>\n",
              "      <td>NaN</td>\n",
              "    </tr>\n",
              "    <tr>\n",
              "      <th>2</th>\n",
              "      <td>19</td>\n",
              "      <td>71</td>\n",
              "      <td>4.297297</td>\n",
              "      <td>2</td>\n",
              "      <td>2016-02-01</td>\n",
              "      <td>1070</td>\n",
              "      <td>2</td>\n",
              "      <td>2016</td>\n",
              "      <td>4359.0</td>\n",
              "      <td>3180.0</td>\n",
              "      <td>NaN</td>\n",
              "      <td>NaN</td>\n",
              "    </tr>\n",
              "    <tr>\n",
              "      <th>3</th>\n",
              "      <td>8</td>\n",
              "      <td>27</td>\n",
              "      <td>3.041667</td>\n",
              "      <td>2</td>\n",
              "      <td>2016-02-01</td>\n",
              "      <td>1164</td>\n",
              "      <td>2</td>\n",
              "      <td>2016</td>\n",
              "      <td>1070.0</td>\n",
              "      <td>4359.0</td>\n",
              "      <td>3180.0</td>\n",
              "      <td>NaN</td>\n",
              "    </tr>\n",
              "    <tr>\n",
              "      <th>4</th>\n",
              "      <td>22</td>\n",
              "      <td>47</td>\n",
              "      <td>4.225225</td>\n",
              "      <td>1</td>\n",
              "      <td>2016-03-01</td>\n",
              "      <td>493</td>\n",
              "      <td>3</td>\n",
              "      <td>2016</td>\n",
              "      <td>1164.0</td>\n",
              "      <td>1070.0</td>\n",
              "      <td>4359.0</td>\n",
              "      <td>3180.0</td>\n",
              "    </tr>\n",
              "    <tr>\n",
              "      <th>5</th>\n",
              "      <td>14</td>\n",
              "      <td>23</td>\n",
              "      <td>3.985075</td>\n",
              "      <td>2</td>\n",
              "      <td>2016-03-01</td>\n",
              "      <td>1059</td>\n",
              "      <td>3</td>\n",
              "      <td>2016</td>\n",
              "      <td>493.0</td>\n",
              "      <td>1164.0</td>\n",
              "      <td>1070.0</td>\n",
              "      <td>4359.0</td>\n",
              "    </tr>\n",
              "    <tr>\n",
              "      <th>6</th>\n",
              "      <td>15</td>\n",
              "      <td>30</td>\n",
              "      <td>4.544379</td>\n",
              "      <td>4</td>\n",
              "      <td>2016-03-01</td>\n",
              "      <td>5149</td>\n",
              "      <td>3</td>\n",
              "      <td>2016</td>\n",
              "      <td>1059.0</td>\n",
              "      <td>493.0</td>\n",
              "      <td>1164.0</td>\n",
              "      <td>1070.0</td>\n",
              "    </tr>\n",
              "    <tr>\n",
              "      <th>7</th>\n",
              "      <td>21</td>\n",
              "      <td>59</td>\n",
              "      <td>4.968750</td>\n",
              "      <td>6</td>\n",
              "      <td>2016-04-01</td>\n",
              "      <td>48</td>\n",
              "      <td>4</td>\n",
              "      <td>2016</td>\n",
              "      <td>5149.0</td>\n",
              "      <td>1059.0</td>\n",
              "      <td>493.0</td>\n",
              "      <td>1164.0</td>\n",
              "    </tr>\n",
              "    <tr>\n",
              "      <th>8</th>\n",
              "      <td>26</td>\n",
              "      <td>27</td>\n",
              "      <td>3.209877</td>\n",
              "      <td>6</td>\n",
              "      <td>2016-04-01</td>\n",
              "      <td>54</td>\n",
              "      <td>4</td>\n",
              "      <td>2016</td>\n",
              "      <td>48.0</td>\n",
              "      <td>5149.0</td>\n",
              "      <td>1059.0</td>\n",
              "      <td>493.0</td>\n",
              "    </tr>\n",
              "    <tr>\n",
              "      <th>9</th>\n",
              "      <td>25</td>\n",
              "      <td>42</td>\n",
              "      <td>3.515625</td>\n",
              "      <td>6</td>\n",
              "      <td>2016-04-01</td>\n",
              "      <td>57</td>\n",
              "      <td>4</td>\n",
              "      <td>2016</td>\n",
              "      <td>54.0</td>\n",
              "      <td>48.0</td>\n",
              "      <td>5149.0</td>\n",
              "      <td>1059.0</td>\n",
              "    </tr>\n",
              "  </tbody>\n",
              "</table>\n",
              "</div>"
            ],
            "text/plain": [
              "   SalesAgentEmailID  ContactEmailID  sentiment_scores  ...   lag_2   lag_3   lag_4\n",
              "0                 16               6          3.387500  ...     NaN     NaN     NaN\n",
              "1                  6              66          3.783251  ...     NaN     NaN     NaN\n",
              "2                 19              71          4.297297  ...  3180.0     NaN     NaN\n",
              "3                  8              27          3.041667  ...  4359.0  3180.0     NaN\n",
              "4                 22              47          4.225225  ...  1070.0  4359.0  3180.0\n",
              "5                 14              23          3.985075  ...  1164.0  1070.0  4359.0\n",
              "6                 15              30          4.544379  ...   493.0  1164.0  1070.0\n",
              "7                 21              59          4.968750  ...  1059.0   493.0  1164.0\n",
              "8                 26              27          3.209877  ...  5149.0  1059.0   493.0\n",
              "9                 25              42          3.515625  ...    48.0  5149.0  1059.0\n",
              "\n",
              "[10 rows x 12 columns]"
            ]
          },
          "metadata": {
            "tags": []
          },
          "execution_count": 61
        }
      ]
    },
    {
      "cell_type": "code",
      "metadata": {
        "id": "qL_60ja-2U4L",
        "colab": {
          "base_uri": "https://localhost:8080/",
          "height": 397
        },
        "outputId": "72d0e47b-dbd1-4bf9-8fff-55b9f654a183"
      },
      "source": [
        "data['lag_(-1)'] = data['Close_Value'].shift(-1)\n",
        "data['lag_(-2)'] = data['Close_Value'].shift(-2)\n",
        "data['lag_(-3)'] = data['Close_Value'].shift(-3)\n",
        "data['lag_(-4)'] = data['Close_Value'].shift(-4)\n",
        "\n",
        "data.head(10)"
      ],
      "execution_count": null,
      "outputs": [
        {
          "output_type": "execute_result",
          "data": {
            "text/html": [
              "<div>\n",
              "<style scoped>\n",
              "    .dataframe tbody tr th:only-of-type {\n",
              "        vertical-align: middle;\n",
              "    }\n",
              "\n",
              "    .dataframe tbody tr th {\n",
              "        vertical-align: top;\n",
              "    }\n",
              "\n",
              "    .dataframe thead th {\n",
              "        text-align: right;\n",
              "    }\n",
              "</style>\n",
              "<table border=\"1\" class=\"dataframe\">\n",
              "  <thead>\n",
              "    <tr style=\"text-align: right;\">\n",
              "      <th></th>\n",
              "      <th>SalesAgentEmailID</th>\n",
              "      <th>ContactEmailID</th>\n",
              "      <th>sentiment_scores</th>\n",
              "      <th>Product</th>\n",
              "      <th>year_month</th>\n",
              "      <th>Close_Value</th>\n",
              "      <th>month</th>\n",
              "      <th>year</th>\n",
              "      <th>lag_1</th>\n",
              "      <th>lag_2</th>\n",
              "      <th>lag_3</th>\n",
              "      <th>lag_4</th>\n",
              "      <th>lag_(-1)</th>\n",
              "      <th>lag_(-2)</th>\n",
              "      <th>lag_(-3)</th>\n",
              "      <th>lag_(-4)</th>\n",
              "    </tr>\n",
              "  </thead>\n",
              "  <tbody>\n",
              "    <tr>\n",
              "      <th>0</th>\n",
              "      <td>16</td>\n",
              "      <td>6</td>\n",
              "      <td>3.387500</td>\n",
              "      <td>5</td>\n",
              "      <td>2016-01-01</td>\n",
              "      <td>3180</td>\n",
              "      <td>1</td>\n",
              "      <td>2016</td>\n",
              "      <td>NaN</td>\n",
              "      <td>NaN</td>\n",
              "      <td>NaN</td>\n",
              "      <td>NaN</td>\n",
              "      <td>4359.0</td>\n",
              "      <td>1070.0</td>\n",
              "      <td>1164.0</td>\n",
              "      <td>493.0</td>\n",
              "    </tr>\n",
              "    <tr>\n",
              "      <th>1</th>\n",
              "      <td>6</td>\n",
              "      <td>66</td>\n",
              "      <td>3.783251</td>\n",
              "      <td>4</td>\n",
              "      <td>2016-01-01</td>\n",
              "      <td>4359</td>\n",
              "      <td>1</td>\n",
              "      <td>2016</td>\n",
              "      <td>3180.0</td>\n",
              "      <td>NaN</td>\n",
              "      <td>NaN</td>\n",
              "      <td>NaN</td>\n",
              "      <td>1070.0</td>\n",
              "      <td>1164.0</td>\n",
              "      <td>493.0</td>\n",
              "      <td>1059.0</td>\n",
              "    </tr>\n",
              "    <tr>\n",
              "      <th>2</th>\n",
              "      <td>19</td>\n",
              "      <td>71</td>\n",
              "      <td>4.297297</td>\n",
              "      <td>2</td>\n",
              "      <td>2016-02-01</td>\n",
              "      <td>1070</td>\n",
              "      <td>2</td>\n",
              "      <td>2016</td>\n",
              "      <td>4359.0</td>\n",
              "      <td>3180.0</td>\n",
              "      <td>NaN</td>\n",
              "      <td>NaN</td>\n",
              "      <td>1164.0</td>\n",
              "      <td>493.0</td>\n",
              "      <td>1059.0</td>\n",
              "      <td>5149.0</td>\n",
              "    </tr>\n",
              "    <tr>\n",
              "      <th>3</th>\n",
              "      <td>8</td>\n",
              "      <td>27</td>\n",
              "      <td>3.041667</td>\n",
              "      <td>2</td>\n",
              "      <td>2016-02-01</td>\n",
              "      <td>1164</td>\n",
              "      <td>2</td>\n",
              "      <td>2016</td>\n",
              "      <td>1070.0</td>\n",
              "      <td>4359.0</td>\n",
              "      <td>3180.0</td>\n",
              "      <td>NaN</td>\n",
              "      <td>493.0</td>\n",
              "      <td>1059.0</td>\n",
              "      <td>5149.0</td>\n",
              "      <td>48.0</td>\n",
              "    </tr>\n",
              "    <tr>\n",
              "      <th>4</th>\n",
              "      <td>22</td>\n",
              "      <td>47</td>\n",
              "      <td>4.225225</td>\n",
              "      <td>1</td>\n",
              "      <td>2016-03-01</td>\n",
              "      <td>493</td>\n",
              "      <td>3</td>\n",
              "      <td>2016</td>\n",
              "      <td>1164.0</td>\n",
              "      <td>1070.0</td>\n",
              "      <td>4359.0</td>\n",
              "      <td>3180.0</td>\n",
              "      <td>1059.0</td>\n",
              "      <td>5149.0</td>\n",
              "      <td>48.0</td>\n",
              "      <td>54.0</td>\n",
              "    </tr>\n",
              "    <tr>\n",
              "      <th>5</th>\n",
              "      <td>14</td>\n",
              "      <td>23</td>\n",
              "      <td>3.985075</td>\n",
              "      <td>2</td>\n",
              "      <td>2016-03-01</td>\n",
              "      <td>1059</td>\n",
              "      <td>3</td>\n",
              "      <td>2016</td>\n",
              "      <td>493.0</td>\n",
              "      <td>1164.0</td>\n",
              "      <td>1070.0</td>\n",
              "      <td>4359.0</td>\n",
              "      <td>5149.0</td>\n",
              "      <td>48.0</td>\n",
              "      <td>54.0</td>\n",
              "      <td>57.0</td>\n",
              "    </tr>\n",
              "    <tr>\n",
              "      <th>6</th>\n",
              "      <td>15</td>\n",
              "      <td>30</td>\n",
              "      <td>4.544379</td>\n",
              "      <td>4</td>\n",
              "      <td>2016-03-01</td>\n",
              "      <td>5149</td>\n",
              "      <td>3</td>\n",
              "      <td>2016</td>\n",
              "      <td>1059.0</td>\n",
              "      <td>493.0</td>\n",
              "      <td>1164.0</td>\n",
              "      <td>1070.0</td>\n",
              "      <td>48.0</td>\n",
              "      <td>54.0</td>\n",
              "      <td>57.0</td>\n",
              "      <td>57.0</td>\n",
              "    </tr>\n",
              "    <tr>\n",
              "      <th>7</th>\n",
              "      <td>21</td>\n",
              "      <td>59</td>\n",
              "      <td>4.968750</td>\n",
              "      <td>6</td>\n",
              "      <td>2016-04-01</td>\n",
              "      <td>48</td>\n",
              "      <td>4</td>\n",
              "      <td>2016</td>\n",
              "      <td>5149.0</td>\n",
              "      <td>1059.0</td>\n",
              "      <td>493.0</td>\n",
              "      <td>1164.0</td>\n",
              "      <td>54.0</td>\n",
              "      <td>57.0</td>\n",
              "      <td>57.0</td>\n",
              "      <td>513.0</td>\n",
              "    </tr>\n",
              "    <tr>\n",
              "      <th>8</th>\n",
              "      <td>26</td>\n",
              "      <td>27</td>\n",
              "      <td>3.209877</td>\n",
              "      <td>6</td>\n",
              "      <td>2016-04-01</td>\n",
              "      <td>54</td>\n",
              "      <td>4</td>\n",
              "      <td>2016</td>\n",
              "      <td>48.0</td>\n",
              "      <td>5149.0</td>\n",
              "      <td>1059.0</td>\n",
              "      <td>493.0</td>\n",
              "      <td>57.0</td>\n",
              "      <td>57.0</td>\n",
              "      <td>513.0</td>\n",
              "      <td>519.0</td>\n",
              "    </tr>\n",
              "    <tr>\n",
              "      <th>9</th>\n",
              "      <td>25</td>\n",
              "      <td>42</td>\n",
              "      <td>3.515625</td>\n",
              "      <td>6</td>\n",
              "      <td>2016-04-01</td>\n",
              "      <td>57</td>\n",
              "      <td>4</td>\n",
              "      <td>2016</td>\n",
              "      <td>54.0</td>\n",
              "      <td>48.0</td>\n",
              "      <td>5149.0</td>\n",
              "      <td>1059.0</td>\n",
              "      <td>57.0</td>\n",
              "      <td>513.0</td>\n",
              "      <td>519.0</td>\n",
              "      <td>559.0</td>\n",
              "    </tr>\n",
              "  </tbody>\n",
              "</table>\n",
              "</div>"
            ],
            "text/plain": [
              "   SalesAgentEmailID  ContactEmailID  ...  lag_(-3)  lag_(-4)\n",
              "0                 16               6  ...    1164.0     493.0\n",
              "1                  6              66  ...     493.0    1059.0\n",
              "2                 19              71  ...    1059.0    5149.0\n",
              "3                  8              27  ...    5149.0      48.0\n",
              "4                 22              47  ...      48.0      54.0\n",
              "5                 14              23  ...      54.0      57.0\n",
              "6                 15              30  ...      57.0      57.0\n",
              "7                 21              59  ...      57.0     513.0\n",
              "8                 26              27  ...     513.0     519.0\n",
              "9                 25              42  ...     519.0     559.0\n",
              "\n",
              "[10 rows x 16 columns]"
            ]
          },
          "metadata": {
            "tags": []
          },
          "execution_count": 62
        }
      ]
    },
    {
      "cell_type": "code",
      "metadata": {
        "id": "0BgRmFif1zSZ",
        "colab": {
          "base_uri": "https://localhost:8080/",
          "height": 234
        },
        "outputId": "b9025bc4-d467-4ea7-e8c3-d8ebdb8096ac"
      },
      "source": [
        "# Rolling Window Statistics\n",
        "\n",
        "data['rolling_avg'] = data['Close_Value'].rolling(window=5).mean()\n",
        "data['rolling_min'] = data['Close_Value'].rolling(window=5).min()\n",
        "data['rolling_max'] = data['Close_Value'].rolling(window=5).max()\n",
        "data.head()"
      ],
      "execution_count": null,
      "outputs": [
        {
          "output_type": "execute_result",
          "data": {
            "text/html": [
              "<div>\n",
              "<style scoped>\n",
              "    .dataframe tbody tr th:only-of-type {\n",
              "        vertical-align: middle;\n",
              "    }\n",
              "\n",
              "    .dataframe tbody tr th {\n",
              "        vertical-align: top;\n",
              "    }\n",
              "\n",
              "    .dataframe thead th {\n",
              "        text-align: right;\n",
              "    }\n",
              "</style>\n",
              "<table border=\"1\" class=\"dataframe\">\n",
              "  <thead>\n",
              "    <tr style=\"text-align: right;\">\n",
              "      <th></th>\n",
              "      <th>SalesAgentEmailID</th>\n",
              "      <th>ContactEmailID</th>\n",
              "      <th>sentiment_scores</th>\n",
              "      <th>Product</th>\n",
              "      <th>year_month</th>\n",
              "      <th>Close_Value</th>\n",
              "      <th>month</th>\n",
              "      <th>year</th>\n",
              "      <th>lag_1</th>\n",
              "      <th>lag_2</th>\n",
              "      <th>lag_3</th>\n",
              "      <th>lag_4</th>\n",
              "      <th>lag_(-1)</th>\n",
              "      <th>lag_(-2)</th>\n",
              "      <th>lag_(-3)</th>\n",
              "      <th>lag_(-4)</th>\n",
              "      <th>rolling_avg</th>\n",
              "      <th>rolling_min</th>\n",
              "      <th>rolling_max</th>\n",
              "    </tr>\n",
              "  </thead>\n",
              "  <tbody>\n",
              "    <tr>\n",
              "      <th>0</th>\n",
              "      <td>16</td>\n",
              "      <td>6</td>\n",
              "      <td>3.387500</td>\n",
              "      <td>5</td>\n",
              "      <td>2016-01-01</td>\n",
              "      <td>3180</td>\n",
              "      <td>1</td>\n",
              "      <td>2016</td>\n",
              "      <td>NaN</td>\n",
              "      <td>NaN</td>\n",
              "      <td>NaN</td>\n",
              "      <td>NaN</td>\n",
              "      <td>4359.0</td>\n",
              "      <td>1070.0</td>\n",
              "      <td>1164.0</td>\n",
              "      <td>493.0</td>\n",
              "      <td>NaN</td>\n",
              "      <td>NaN</td>\n",
              "      <td>NaN</td>\n",
              "    </tr>\n",
              "    <tr>\n",
              "      <th>1</th>\n",
              "      <td>6</td>\n",
              "      <td>66</td>\n",
              "      <td>3.783251</td>\n",
              "      <td>4</td>\n",
              "      <td>2016-01-01</td>\n",
              "      <td>4359</td>\n",
              "      <td>1</td>\n",
              "      <td>2016</td>\n",
              "      <td>3180.0</td>\n",
              "      <td>NaN</td>\n",
              "      <td>NaN</td>\n",
              "      <td>NaN</td>\n",
              "      <td>1070.0</td>\n",
              "      <td>1164.0</td>\n",
              "      <td>493.0</td>\n",
              "      <td>1059.0</td>\n",
              "      <td>NaN</td>\n",
              "      <td>NaN</td>\n",
              "      <td>NaN</td>\n",
              "    </tr>\n",
              "    <tr>\n",
              "      <th>2</th>\n",
              "      <td>19</td>\n",
              "      <td>71</td>\n",
              "      <td>4.297297</td>\n",
              "      <td>2</td>\n",
              "      <td>2016-02-01</td>\n",
              "      <td>1070</td>\n",
              "      <td>2</td>\n",
              "      <td>2016</td>\n",
              "      <td>4359.0</td>\n",
              "      <td>3180.0</td>\n",
              "      <td>NaN</td>\n",
              "      <td>NaN</td>\n",
              "      <td>1164.0</td>\n",
              "      <td>493.0</td>\n",
              "      <td>1059.0</td>\n",
              "      <td>5149.0</td>\n",
              "      <td>NaN</td>\n",
              "      <td>NaN</td>\n",
              "      <td>NaN</td>\n",
              "    </tr>\n",
              "    <tr>\n",
              "      <th>3</th>\n",
              "      <td>8</td>\n",
              "      <td>27</td>\n",
              "      <td>3.041667</td>\n",
              "      <td>2</td>\n",
              "      <td>2016-02-01</td>\n",
              "      <td>1164</td>\n",
              "      <td>2</td>\n",
              "      <td>2016</td>\n",
              "      <td>1070.0</td>\n",
              "      <td>4359.0</td>\n",
              "      <td>3180.0</td>\n",
              "      <td>NaN</td>\n",
              "      <td>493.0</td>\n",
              "      <td>1059.0</td>\n",
              "      <td>5149.0</td>\n",
              "      <td>48.0</td>\n",
              "      <td>NaN</td>\n",
              "      <td>NaN</td>\n",
              "      <td>NaN</td>\n",
              "    </tr>\n",
              "    <tr>\n",
              "      <th>4</th>\n",
              "      <td>22</td>\n",
              "      <td>47</td>\n",
              "      <td>4.225225</td>\n",
              "      <td>1</td>\n",
              "      <td>2016-03-01</td>\n",
              "      <td>493</td>\n",
              "      <td>3</td>\n",
              "      <td>2016</td>\n",
              "      <td>1164.0</td>\n",
              "      <td>1070.0</td>\n",
              "      <td>4359.0</td>\n",
              "      <td>3180.0</td>\n",
              "      <td>1059.0</td>\n",
              "      <td>5149.0</td>\n",
              "      <td>48.0</td>\n",
              "      <td>54.0</td>\n",
              "      <td>2053.2</td>\n",
              "      <td>493.0</td>\n",
              "      <td>4359.0</td>\n",
              "    </tr>\n",
              "  </tbody>\n",
              "</table>\n",
              "</div>"
            ],
            "text/plain": [
              "   SalesAgentEmailID  ContactEmailID  ...  rolling_min  rolling_max\n",
              "0                 16               6  ...          NaN          NaN\n",
              "1                  6              66  ...          NaN          NaN\n",
              "2                 19              71  ...          NaN          NaN\n",
              "3                  8              27  ...          NaN          NaN\n",
              "4                 22              47  ...        493.0       4359.0\n",
              "\n",
              "[5 rows x 19 columns]"
            ]
          },
          "metadata": {
            "tags": []
          },
          "execution_count": 63
        }
      ]
    },
    {
      "cell_type": "code",
      "metadata": {
        "id": "SO6cXdDjceVe"
      },
      "source": [
        "data.dropna(subset = [\"rolling_avg\",\"lag_(-4)\"], inplace=True) "
      ],
      "execution_count": null,
      "outputs": []
    },
    {
      "cell_type": "code",
      "metadata": {
        "id": "ZDGurAvHckFU",
        "colab": {
          "base_uri": "https://localhost:8080/",
          "height": 234
        },
        "outputId": "fe2cebb9-cb50-4235-a6f1-6694235be53e"
      },
      "source": [
        "data.head()"
      ],
      "execution_count": null,
      "outputs": [
        {
          "output_type": "execute_result",
          "data": {
            "text/html": [
              "<div>\n",
              "<style scoped>\n",
              "    .dataframe tbody tr th:only-of-type {\n",
              "        vertical-align: middle;\n",
              "    }\n",
              "\n",
              "    .dataframe tbody tr th {\n",
              "        vertical-align: top;\n",
              "    }\n",
              "\n",
              "    .dataframe thead th {\n",
              "        text-align: right;\n",
              "    }\n",
              "</style>\n",
              "<table border=\"1\" class=\"dataframe\">\n",
              "  <thead>\n",
              "    <tr style=\"text-align: right;\">\n",
              "      <th></th>\n",
              "      <th>SalesAgentEmailID</th>\n",
              "      <th>ContactEmailID</th>\n",
              "      <th>sentiment_scores</th>\n",
              "      <th>Product</th>\n",
              "      <th>year_month</th>\n",
              "      <th>Close_Value</th>\n",
              "      <th>month</th>\n",
              "      <th>year</th>\n",
              "      <th>lag_1</th>\n",
              "      <th>lag_2</th>\n",
              "      <th>lag_3</th>\n",
              "      <th>lag_4</th>\n",
              "      <th>lag_(-1)</th>\n",
              "      <th>lag_(-2)</th>\n",
              "      <th>lag_(-3)</th>\n",
              "      <th>lag_(-4)</th>\n",
              "      <th>rolling_avg</th>\n",
              "      <th>rolling_min</th>\n",
              "      <th>rolling_max</th>\n",
              "    </tr>\n",
              "  </thead>\n",
              "  <tbody>\n",
              "    <tr>\n",
              "      <th>4</th>\n",
              "      <td>22</td>\n",
              "      <td>47</td>\n",
              "      <td>4.225225</td>\n",
              "      <td>1</td>\n",
              "      <td>2016-03-01</td>\n",
              "      <td>493</td>\n",
              "      <td>3</td>\n",
              "      <td>2016</td>\n",
              "      <td>1164.0</td>\n",
              "      <td>1070.0</td>\n",
              "      <td>4359.0</td>\n",
              "      <td>3180.0</td>\n",
              "      <td>1059.0</td>\n",
              "      <td>5149.0</td>\n",
              "      <td>48.0</td>\n",
              "      <td>54.0</td>\n",
              "      <td>2053.2</td>\n",
              "      <td>493.0</td>\n",
              "      <td>4359.0</td>\n",
              "    </tr>\n",
              "    <tr>\n",
              "      <th>5</th>\n",
              "      <td>14</td>\n",
              "      <td>23</td>\n",
              "      <td>3.985075</td>\n",
              "      <td>2</td>\n",
              "      <td>2016-03-01</td>\n",
              "      <td>1059</td>\n",
              "      <td>3</td>\n",
              "      <td>2016</td>\n",
              "      <td>493.0</td>\n",
              "      <td>1164.0</td>\n",
              "      <td>1070.0</td>\n",
              "      <td>4359.0</td>\n",
              "      <td>5149.0</td>\n",
              "      <td>48.0</td>\n",
              "      <td>54.0</td>\n",
              "      <td>57.0</td>\n",
              "      <td>1629.0</td>\n",
              "      <td>493.0</td>\n",
              "      <td>4359.0</td>\n",
              "    </tr>\n",
              "    <tr>\n",
              "      <th>6</th>\n",
              "      <td>15</td>\n",
              "      <td>30</td>\n",
              "      <td>4.544379</td>\n",
              "      <td>4</td>\n",
              "      <td>2016-03-01</td>\n",
              "      <td>5149</td>\n",
              "      <td>3</td>\n",
              "      <td>2016</td>\n",
              "      <td>1059.0</td>\n",
              "      <td>493.0</td>\n",
              "      <td>1164.0</td>\n",
              "      <td>1070.0</td>\n",
              "      <td>48.0</td>\n",
              "      <td>54.0</td>\n",
              "      <td>57.0</td>\n",
              "      <td>57.0</td>\n",
              "      <td>1787.0</td>\n",
              "      <td>493.0</td>\n",
              "      <td>5149.0</td>\n",
              "    </tr>\n",
              "    <tr>\n",
              "      <th>7</th>\n",
              "      <td>21</td>\n",
              "      <td>59</td>\n",
              "      <td>4.968750</td>\n",
              "      <td>6</td>\n",
              "      <td>2016-04-01</td>\n",
              "      <td>48</td>\n",
              "      <td>4</td>\n",
              "      <td>2016</td>\n",
              "      <td>5149.0</td>\n",
              "      <td>1059.0</td>\n",
              "      <td>493.0</td>\n",
              "      <td>1164.0</td>\n",
              "      <td>54.0</td>\n",
              "      <td>57.0</td>\n",
              "      <td>57.0</td>\n",
              "      <td>513.0</td>\n",
              "      <td>1582.6</td>\n",
              "      <td>48.0</td>\n",
              "      <td>5149.0</td>\n",
              "    </tr>\n",
              "    <tr>\n",
              "      <th>8</th>\n",
              "      <td>26</td>\n",
              "      <td>27</td>\n",
              "      <td>3.209877</td>\n",
              "      <td>6</td>\n",
              "      <td>2016-04-01</td>\n",
              "      <td>54</td>\n",
              "      <td>4</td>\n",
              "      <td>2016</td>\n",
              "      <td>48.0</td>\n",
              "      <td>5149.0</td>\n",
              "      <td>1059.0</td>\n",
              "      <td>493.0</td>\n",
              "      <td>57.0</td>\n",
              "      <td>57.0</td>\n",
              "      <td>513.0</td>\n",
              "      <td>519.0</td>\n",
              "      <td>1360.6</td>\n",
              "      <td>48.0</td>\n",
              "      <td>5149.0</td>\n",
              "    </tr>\n",
              "  </tbody>\n",
              "</table>\n",
              "</div>"
            ],
            "text/plain": [
              "   SalesAgentEmailID  ContactEmailID  ...  rolling_min  rolling_max\n",
              "4                 22              47  ...        493.0       4359.0\n",
              "5                 14              23  ...        493.0       4359.0\n",
              "6                 15              30  ...        493.0       5149.0\n",
              "7                 21              59  ...         48.0       5149.0\n",
              "8                 26              27  ...         48.0       5149.0\n",
              "\n",
              "[5 rows x 19 columns]"
            ]
          },
          "metadata": {
            "tags": []
          },
          "execution_count": 65
        }
      ]
    },
    {
      "cell_type": "code",
      "metadata": {
        "colab": {
          "base_uri": "https://localhost:8080/"
        },
        "id": "1_jnWePzXJI-",
        "outputId": "0151f6ad-fb19-48de-a180-dd3711fced9c"
      },
      "source": [
        "# Checking is the dataset is stationary \n",
        "\n",
        "from statsmodels.tsa.stattools import adfuller\n",
        "\n",
        "def ad_test(dataset):\n",
        "     dftest = adfuller(dataset, autolag = 'AIC')\n",
        "     print(\"1. ADF : \",dftest[0])\n",
        "     print(\"2. P-Value : \", dftest[1])\n",
        "     print(\"3. Num Of Lags : \", dftest[2])\n",
        "     print(\"4. Num Of Observations Used For ADF Regression:\",      dftest[3])\n",
        "     print(\"5. Critical Values :\")\n",
        "     for key, val in dftest[4].items():\n",
        "         print(\"\\t\",key, \": \", val)\n",
        "ad_test(data['Close_Value'])\n",
        "\n",
        "# Here we see that the p < 0.05, which says that the data is stationary and we dont have to convert it to a stationary series. "
      ],
      "execution_count": null,
      "outputs": [
        {
          "output_type": "stream",
          "text": [
            "1. ADF :  -10.768535762304225\n",
            "2. P-Value :  2.41742157794445e-19\n",
            "3. Num Of Lags :  6\n",
            "4. Num Of Observations Used For ADF Regression: 4223\n",
            "5. Critical Values :\n",
            "\t 1% :  -3.431899438634489\n",
            "\t 5% :  -2.8622246566066702\n",
            "\t 10% :  -2.567134448299063\n"
          ],
          "name": "stdout"
        }
      ]
    },
    {
      "cell_type": "code",
      "metadata": {
        "id": "QAu-XeFH6sAg"
      },
      "source": [
        "data.to_csv(\"/content/drive/My Drive/feature_engineered.csv\")"
      ],
      "execution_count": null,
      "outputs": []
    },
    {
      "cell_type": "markdown",
      "metadata": {
        "id": "qbMcYVuEJulV"
      },
      "source": [
        "# LSTM"
      ]
    },
    {
      "cell_type": "code",
      "metadata": {
        "id": "1VaXlMhdzJzA"
      },
      "source": [
        "data_lstm = pd.read_csv(\"/content/drive/My Drive/feature_engineered.csv\",parse_dates=['year_month'],index_col=\"year_month\")"
      ],
      "execution_count": null,
      "outputs": []
    },
    {
      "cell_type": "code",
      "metadata": {
        "id": "clznYzFO7Sbw"
      },
      "source": [
        "data_lstm.drop(['Unnamed: 0'], axis='columns', inplace=True)   "
      ],
      "execution_count": null,
      "outputs": []
    },
    {
      "cell_type": "code",
      "metadata": {
        "id": "4YThlXeZ6_A4",
        "colab": {
          "base_uri": "https://localhost:8080/",
          "height": 267
        },
        "outputId": "9314e085-bce9-48dc-963b-2a70599f1732"
      },
      "source": [
        "data_lstm.head()"
      ],
      "execution_count": null,
      "outputs": [
        {
          "output_type": "execute_result",
          "data": {
            "text/html": [
              "<div>\n",
              "<style scoped>\n",
              "    .dataframe tbody tr th:only-of-type {\n",
              "        vertical-align: middle;\n",
              "    }\n",
              "\n",
              "    .dataframe tbody tr th {\n",
              "        vertical-align: top;\n",
              "    }\n",
              "\n",
              "    .dataframe thead th {\n",
              "        text-align: right;\n",
              "    }\n",
              "</style>\n",
              "<table border=\"1\" class=\"dataframe\">\n",
              "  <thead>\n",
              "    <tr style=\"text-align: right;\">\n",
              "      <th></th>\n",
              "      <th>SalesAgentEmailID</th>\n",
              "      <th>ContactEmailID</th>\n",
              "      <th>sentiment_scores</th>\n",
              "      <th>Product</th>\n",
              "      <th>Close_Value</th>\n",
              "      <th>month</th>\n",
              "      <th>year</th>\n",
              "      <th>lag_1</th>\n",
              "      <th>lag_2</th>\n",
              "      <th>lag_3</th>\n",
              "      <th>lag_4</th>\n",
              "      <th>lag_(-1)</th>\n",
              "      <th>lag_(-2)</th>\n",
              "      <th>lag_(-3)</th>\n",
              "      <th>lag_(-4)</th>\n",
              "      <th>rolling_avg</th>\n",
              "      <th>rolling_min</th>\n",
              "      <th>rolling_max</th>\n",
              "    </tr>\n",
              "    <tr>\n",
              "      <th>year_month</th>\n",
              "      <th></th>\n",
              "      <th></th>\n",
              "      <th></th>\n",
              "      <th></th>\n",
              "      <th></th>\n",
              "      <th></th>\n",
              "      <th></th>\n",
              "      <th></th>\n",
              "      <th></th>\n",
              "      <th></th>\n",
              "      <th></th>\n",
              "      <th></th>\n",
              "      <th></th>\n",
              "      <th></th>\n",
              "      <th></th>\n",
              "      <th></th>\n",
              "      <th></th>\n",
              "      <th></th>\n",
              "    </tr>\n",
              "  </thead>\n",
              "  <tbody>\n",
              "    <tr>\n",
              "      <th>2016-03-01</th>\n",
              "      <td>22</td>\n",
              "      <td>47</td>\n",
              "      <td>0.515702</td>\n",
              "      <td>1</td>\n",
              "      <td>0.015041</td>\n",
              "      <td>3</td>\n",
              "      <td>2016</td>\n",
              "      <td>0.037223</td>\n",
              "      <td>0.034116</td>\n",
              "      <td>0.142843</td>\n",
              "      <td>0.103868</td>\n",
              "      <td>0.033752</td>\n",
              "      <td>0.168959</td>\n",
              "      <td>0.000331</td>\n",
              "      <td>0.000529</td>\n",
              "      <td>0.136299</td>\n",
              "      <td>0.073186</td>\n",
              "      <td>0.142560</td>\n",
              "    </tr>\n",
              "    <tr>\n",
              "      <th>2016-03-01</th>\n",
              "      <td>14</td>\n",
              "      <td>23</td>\n",
              "      <td>0.462561</td>\n",
              "      <td>2</td>\n",
              "      <td>0.033752</td>\n",
              "      <td>3</td>\n",
              "      <td>2016</td>\n",
              "      <td>0.015041</td>\n",
              "      <td>0.037223</td>\n",
              "      <td>0.034116</td>\n",
              "      <td>0.142843</td>\n",
              "      <td>0.168959</td>\n",
              "      <td>0.000331</td>\n",
              "      <td>0.000529</td>\n",
              "      <td>0.000628</td>\n",
              "      <td>0.107517</td>\n",
              "      <td>0.073186</td>\n",
              "      <td>0.142560</td>\n",
              "    </tr>\n",
              "    <tr>\n",
              "      <th>2016-03-01</th>\n",
              "      <td>15</td>\n",
              "      <td>30</td>\n",
              "      <td>0.586326</td>\n",
              "      <td>4</td>\n",
              "      <td>0.168959</td>\n",
              "      <td>3</td>\n",
              "      <td>2016</td>\n",
              "      <td>0.033752</td>\n",
              "      <td>0.015041</td>\n",
              "      <td>0.037223</td>\n",
              "      <td>0.034116</td>\n",
              "      <td>0.000331</td>\n",
              "      <td>0.000529</td>\n",
              "      <td>0.000628</td>\n",
              "      <td>0.000628</td>\n",
              "      <td>0.118237</td>\n",
              "      <td>0.073186</td>\n",
              "      <td>0.168684</td>\n",
              "    </tr>\n",
              "    <tr>\n",
              "      <th>2016-04-01</th>\n",
              "      <td>21</td>\n",
              "      <td>59</td>\n",
              "      <td>0.680233</td>\n",
              "      <td>6</td>\n",
              "      <td>0.000331</td>\n",
              "      <td>4</td>\n",
              "      <td>2016</td>\n",
              "      <td>0.168959</td>\n",
              "      <td>0.033752</td>\n",
              "      <td>0.015041</td>\n",
              "      <td>0.037223</td>\n",
              "      <td>0.000529</td>\n",
              "      <td>0.000628</td>\n",
              "      <td>0.000628</td>\n",
              "      <td>0.015702</td>\n",
              "      <td>0.104368</td>\n",
              "      <td>0.001608</td>\n",
              "      <td>0.168684</td>\n",
              "    </tr>\n",
              "    <tr>\n",
              "      <th>2016-04-01</th>\n",
              "      <td>26</td>\n",
              "      <td>27</td>\n",
              "      <td>0.291021</td>\n",
              "      <td>6</td>\n",
              "      <td>0.000529</td>\n",
              "      <td>4</td>\n",
              "      <td>2016</td>\n",
              "      <td>0.000331</td>\n",
              "      <td>0.168959</td>\n",
              "      <td>0.033752</td>\n",
              "      <td>0.015041</td>\n",
              "      <td>0.000628</td>\n",
              "      <td>0.000628</td>\n",
              "      <td>0.015702</td>\n",
              "      <td>0.015901</td>\n",
              "      <td>0.089305</td>\n",
              "      <td>0.001608</td>\n",
              "      <td>0.168684</td>\n",
              "    </tr>\n",
              "  </tbody>\n",
              "</table>\n",
              "</div>"
            ],
            "text/plain": [
              "            SalesAgentEmailID  ContactEmailID  ...  rolling_min  rolling_max\n",
              "year_month                                     ...                          \n",
              "2016-03-01                 22              47  ...     0.073186     0.142560\n",
              "2016-03-01                 14              23  ...     0.073186     0.142560\n",
              "2016-03-01                 15              30  ...     0.073186     0.168684\n",
              "2016-04-01                 21              59  ...     0.001608     0.168684\n",
              "2016-04-01                 26              27  ...     0.001608     0.168684\n",
              "\n",
              "[5 rows x 18 columns]"
            ]
          },
          "metadata": {
            "tags": []
          },
          "execution_count": 122
        }
      ]
    },
    {
      "cell_type": "code",
      "metadata": {
        "id": "_-__ajSR-ESo"
      },
      "source": [
        "# Train data is 90% and test data is 10%\n",
        "\n",
        "train_size = int(len(data_lstm) * 0.9)\n",
        "test_size = len(data_lstm) - train_size"
      ],
      "execution_count": null,
      "outputs": []
    },
    {
      "cell_type": "code",
      "metadata": {
        "id": "LMIfJaie-dNJ",
        "colab": {
          "base_uri": "https://localhost:8080/"
        },
        "outputId": "af3e930f-d39f-4e81-f7c2-f5e12c6df3ae"
      },
      "source": [
        "# Train test split\n",
        "\n",
        "train, test = data_lstm.iloc[0:train_size,:] , data_lstm.iloc[train_size:len(data_lstm),:]\n",
        "\n",
        "print(len(train), len(test))"
      ],
      "execution_count": null,
      "outputs": [
        {
          "output_type": "stream",
          "text": [
            "3807 423\n"
          ],
          "name": "stdout"
        }
      ]
    },
    {
      "cell_type": "code",
      "metadata": {
        "id": "0jsTzsDFWQWk"
      },
      "source": [
        "# Scaling all the variables for a better accuracy\n",
        "\n",
        "from sklearn.preprocessing import RobustScaler"
      ],
      "execution_count": null,
      "outputs": []
    },
    {
      "cell_type": "code",
      "metadata": {
        "id": "c59HkdJuVCKp",
        "colab": {
          "base_uri": "https://localhost:8080/"
        },
        "outputId": "deb98135-0f97-4c88-e5f9-2e939b44d2f3"
      },
      "source": [
        "f_columns = [\"SalesAgentEmailID\",\"ContactEmailID\",\"month\",\"year\",\"Product\",\"sentiment_scores\",\"lag_1\",\"lag_2\",\"lag_3\",\"lag_4\",\"rolling_avg\",\"rolling_min\",\"rolling_max\",\"lag_(-1)\",\"lag_(-2)\",\"lag_(-3)\",\"lag_(-4)\"]\n",
        "f_transformer = RobustScaler()\n",
        "f_transformer = f_transformer.fit(train[f_columns].to_numpy())\n",
        "train.loc[:, f_columns] = f_transformer.transform(\n",
        "  train[f_columns].to_numpy()\n",
        ")\n",
        "test.loc[:, f_columns] = f_transformer.transform(\n",
        "  test[f_columns].to_numpy()\n",
        ")"
      ],
      "execution_count": null,
      "outputs": [
        {
          "output_type": "stream",
          "text": [
            "/usr/local/lib/python3.6/dist-packages/pandas/core/indexing.py:1734: SettingWithCopyWarning: \n",
            "A value is trying to be set on a copy of a slice from a DataFrame.\n",
            "Try using .loc[row_indexer,col_indexer] = value instead\n",
            "\n",
            "See the caveats in the documentation: https://pandas.pydata.org/pandas-docs/stable/user_guide/indexing.html#returning-a-view-versus-a-copy\n",
            "  isetter(loc, value[:, i].tolist())\n",
            "/usr/local/lib/python3.6/dist-packages/pandas/core/indexing.py:1734: SettingWithCopyWarning: \n",
            "A value is trying to be set on a copy of a slice from a DataFrame.\n",
            "Try using .loc[row_indexer,col_indexer] = value instead\n",
            "\n",
            "See the caveats in the documentation: https://pandas.pydata.org/pandas-docs/stable/user_guide/indexing.html#returning-a-view-versus-a-copy\n",
            "  isetter(loc, value[:, i].tolist())\n"
          ],
          "name": "stderr"
        }
      ]
    },
    {
      "cell_type": "code",
      "metadata": {
        "id": "Gbll7lyGWcQm",
        "colab": {
          "base_uri": "https://localhost:8080/"
        },
        "outputId": "ef451be5-4b70-4716-dddd-0d060d5ccc67"
      },
      "source": [
        "cnt_transformer = RobustScaler()\n",
        "\n",
        "cnt_transformer = cnt_transformer.fit(train[['Close_Value']])\n",
        "train['Close_Value'] = cnt_transformer.transform(train[['Close_Value']])\n",
        "test['Close_Value'] = cnt_transformer.transform(test[['Close_Value']])"
      ],
      "execution_count": null,
      "outputs": [
        {
          "output_type": "stream",
          "text": [
            "/usr/local/lib/python3.6/dist-packages/ipykernel_launcher.py:4: SettingWithCopyWarning: \n",
            "A value is trying to be set on a copy of a slice from a DataFrame.\n",
            "Try using .loc[row_indexer,col_indexer] = value instead\n",
            "\n",
            "See the caveats in the documentation: https://pandas.pydata.org/pandas-docs/stable/user_guide/indexing.html#returning-a-view-versus-a-copy\n",
            "  after removing the cwd from sys.path.\n",
            "/usr/local/lib/python3.6/dist-packages/ipykernel_launcher.py:5: SettingWithCopyWarning: \n",
            "A value is trying to be set on a copy of a slice from a DataFrame.\n",
            "Try using .loc[row_indexer,col_indexer] = value instead\n",
            "\n",
            "See the caveats in the documentation: https://pandas.pydata.org/pandas-docs/stable/user_guide/indexing.html#returning-a-view-versus-a-copy\n",
            "  \"\"\"\n"
          ],
          "name": "stderr"
        }
      ]
    },
    {
      "cell_type": "code",
      "metadata": {
        "id": "e2D5ecCnAogL"
      },
      "source": [
        "x_train = train[[\"SalesAgentEmailID\",\"ContactEmailID\",\"month\",\"year\",\"Product\",\"sentiment_scores\",\"lag_1\",\"lag_2\",\"lag_3\",\"lag_4\",\"rolling_avg\",\"rolling_min\",\"rolling_max\",\"lag_(-1)\",\"lag_(-2)\",\"lag_(-3)\",\"lag_(-4)\"]]\n",
        "y_train = train[[\"Close_Value\"]]\n",
        "\n",
        "x_test = test[[\"SalesAgentEmailID\",\"ContactEmailID\",\"month\",\"year\",\"Product\",\"sentiment_scores\",\"lag_1\",\"lag_2\",\"lag_3\",\"lag_4\",\"rolling_avg\",\"rolling_min\",\"rolling_max\",\"lag_(-1)\",\"lag_(-2)\",\"lag_(-3)\",\"lag_(-4)\"]]\n",
        "y_test = test[[\"Close_Value\"]]"
      ],
      "execution_count": null,
      "outputs": []
    },
    {
      "cell_type": "code",
      "metadata": {
        "id": "dcW-0Au0ZBbv"
      },
      "source": [
        "x_train=x_train.values.reshape(x_train.shape[0],x_train.shape[1],1)\n",
        "x_test=x_test.values.reshape(x_test.shape[0],x_test.shape[1],1)"
      ],
      "execution_count": null,
      "outputs": []
    },
    {
      "cell_type": "code",
      "metadata": {
        "id": "Xvq28u-sBdX0",
        "colab": {
          "base_uri": "https://localhost:8080/"
        },
        "outputId": "f71d8166-8d04-4466-c607-4153d9d7fb1b"
      },
      "source": [
        "print(x_train.shape, y_train.shape)\n",
        "print(x_test.shape, y_test.shape)"
      ],
      "execution_count": null,
      "outputs": [
        {
          "output_type": "stream",
          "text": [
            "(3807, 17, 1) (3807, 1)\n",
            "(423, 17, 1) (423, 1)\n"
          ],
          "name": "stdout"
        }
      ]
    },
    {
      "cell_type": "code",
      "metadata": {
        "id": "dzfp0KuHDihE"
      },
      "source": [
        "from tensorflow.keras.models import Sequential\n",
        "from tensorflow import keras"
      ],
      "execution_count": null,
      "outputs": []
    },
    {
      "cell_type": "code",
      "metadata": {
        "id": "oFjJ5HsbNo9w"
      },
      "source": [
        "# Building the LSTM model\n",
        "\n",
        "model = keras.Sequential()\n",
        "model.add(\n",
        "    keras.layers.Bidirectional(\n",
        "        keras.layers.LSTM(\n",
        "            units = 128,\n",
        "            input_shape = (x_train.shape[1],x_train.shape[2])\n",
        "        )\n",
        "    )\n",
        ")\n",
        "\n",
        "model.add(keras.layers.Dropout(rate=0.2))\n",
        "model.add(keras.layers.Dense(units=1))"
      ],
      "execution_count": null,
      "outputs": []
    },
    {
      "cell_type": "code",
      "metadata": {
        "id": "O6aKtFQGQmNQ"
      },
      "source": [
        "model.compile(optimizer=\"adam\",loss=\"mean_squared_error\")"
      ],
      "execution_count": null,
      "outputs": []
    },
    {
      "cell_type": "code",
      "metadata": {
        "id": "P4Mpp7S5Q0YS",
        "colab": {
          "base_uri": "https://localhost:8080/"
        },
        "outputId": "5beb50cd-0b58-4366-b311-9eb9926ddeb7"
      },
      "source": [
        "history = model.fit(\n",
        "    x_train,y_train,\n",
        "    epochs = 30,\n",
        "    batch_size = 32,\n",
        "    validation_split = 0.1,\n",
        "    shuffle = False\n",
        ")"
      ],
      "execution_count": null,
      "outputs": [
        {
          "output_type": "stream",
          "text": [
            "Epoch 1/30\n",
            "108/108 [==============================] - 4s 34ms/step - loss: 0.1609 - val_loss: 0.1671\n",
            "Epoch 2/30\n",
            "108/108 [==============================] - 3s 27ms/step - loss: 0.1266 - val_loss: 0.1311\n",
            "Epoch 3/30\n",
            "108/108 [==============================] - 3s 27ms/step - loss: 0.0871 - val_loss: 0.0703\n",
            "Epoch 4/30\n",
            "108/108 [==============================] - 3s 27ms/step - loss: 0.0452 - val_loss: 0.0747\n",
            "Epoch 5/30\n",
            "108/108 [==============================] - 3s 28ms/step - loss: 0.0372 - val_loss: 0.1145\n",
            "Epoch 6/30\n",
            "108/108 [==============================] - 3s 28ms/step - loss: 0.0355 - val_loss: 0.0296\n",
            "Epoch 7/30\n",
            "108/108 [==============================] - 3s 28ms/step - loss: 0.0180 - val_loss: 0.0321\n",
            "Epoch 8/30\n",
            "108/108 [==============================] - 3s 28ms/step - loss: 0.0193 - val_loss: 0.0165\n",
            "Epoch 9/30\n",
            "108/108 [==============================] - 3s 28ms/step - loss: 0.0150 - val_loss: 0.0158\n",
            "Epoch 10/30\n",
            "108/108 [==============================] - 3s 28ms/step - loss: 0.0152 - val_loss: 0.0110\n",
            "Epoch 11/30\n",
            "108/108 [==============================] - 3s 28ms/step - loss: 0.0154 - val_loss: 0.0126\n",
            "Epoch 12/30\n",
            "108/108 [==============================] - 3s 29ms/step - loss: 0.0125 - val_loss: 0.0181\n",
            "Epoch 13/30\n",
            "108/108 [==============================] - 3s 29ms/step - loss: 0.0121 - val_loss: 0.0112\n",
            "Epoch 14/30\n",
            "108/108 [==============================] - 3s 28ms/step - loss: 0.0123 - val_loss: 0.0099\n",
            "Epoch 15/30\n",
            "108/108 [==============================] - 3s 27ms/step - loss: 0.0114 - val_loss: 0.0127\n",
            "Epoch 16/30\n",
            "108/108 [==============================] - 3s 28ms/step - loss: 0.0101 - val_loss: 0.0086\n",
            "Epoch 17/30\n",
            "108/108 [==============================] - 3s 29ms/step - loss: 0.0106 - val_loss: 0.0103\n",
            "Epoch 18/30\n",
            "108/108 [==============================] - 3s 27ms/step - loss: 0.0123 - val_loss: 0.0073\n",
            "Epoch 19/30\n",
            "108/108 [==============================] - 3s 27ms/step - loss: 0.0106 - val_loss: 0.0113\n",
            "Epoch 20/30\n",
            "108/108 [==============================] - 3s 27ms/step - loss: 0.0108 - val_loss: 0.0113\n",
            "Epoch 21/30\n",
            "108/108 [==============================] - 3s 27ms/step - loss: 0.0124 - val_loss: 0.0109\n",
            "Epoch 22/30\n",
            "108/108 [==============================] - 3s 28ms/step - loss: 0.0104 - val_loss: 0.0066\n",
            "Epoch 23/30\n",
            "108/108 [==============================] - 3s 27ms/step - loss: 0.0111 - val_loss: 0.0069\n",
            "Epoch 24/30\n",
            "108/108 [==============================] - 3s 27ms/step - loss: 0.0098 - val_loss: 0.0068\n",
            "Epoch 25/30\n",
            "108/108 [==============================] - 3s 28ms/step - loss: 0.0099 - val_loss: 0.0096\n",
            "Epoch 26/30\n",
            "108/108 [==============================] - 3s 27ms/step - loss: 0.0087 - val_loss: 0.0144\n",
            "Epoch 27/30\n",
            "108/108 [==============================] - 3s 27ms/step - loss: 0.0114 - val_loss: 0.0087\n",
            "Epoch 28/30\n",
            "108/108 [==============================] - 3s 27ms/step - loss: 0.0110 - val_loss: 0.0051\n",
            "Epoch 29/30\n",
            "108/108 [==============================] - 3s 27ms/step - loss: 0.0092 - val_loss: 0.0087\n",
            "Epoch 30/30\n",
            "108/108 [==============================] - 3s 27ms/step - loss: 0.0092 - val_loss: 0.0215\n"
          ],
          "name": "stdout"
        }
      ]
    },
    {
      "cell_type": "code",
      "metadata": {
        "id": "IUoS3kJCaw9_",
        "colab": {
          "base_uri": "https://localhost:8080/",
          "height": 265
        },
        "outputId": "794a3465-2c2b-4bbc-d4a4-8be5b6743aaf"
      },
      "source": [
        "# Loss vs validation\n",
        "\n",
        "plt.plot(history.history[\"loss\"],label=\"train\")\n",
        "plt.plot(history.history[\"val_loss\"],label=\"validation\")\n",
        "plt.legend();"
      ],
      "execution_count": null,
      "outputs": [
        {
          "output_type": "display_data",
          "data": {
            "image/png": "[encoded data removed]",
            "text/plain": [
              "<Figure size 432x288 with 1 Axes>"
            ]
          },
          "metadata": {
            "tags": [],
            "needs_background": "light"
          }
        }
      ]
    },
    {
      "cell_type": "code",
      "metadata": {
        "id": "jQZ3D4h8bTg6"
      },
      "source": [
        "# Predicting \n",
        "\n",
        "y_pred = model.predict(x_test)"
      ],
      "execution_count": null,
      "outputs": []
    },
    {
      "cell_type": "code",
      "metadata": {
        "id": "N8YMC-cAgFuG"
      },
      "source": [
        "y_train_inv = cnt_transformer.inverse_transform(y_train.values.reshape(1,-1))\n",
        "y_test_inv = cnt_transformer.inverse_transform(y_test.values.reshape(1,-1))\n",
        "y_pred_inv = cnt_transformer.inverse_transform(y_pred)"
      ],
      "execution_count": null,
      "outputs": []
    },
    {
      "cell_type": "code",
      "metadata": {
        "id": "_S5FgGvhgp21",
        "colab": {
          "base_uri": "https://localhost:8080/",
          "height": 265
        },
        "outputId": "04966677-3494-4940-e6aa-e77bb96e3dc8"
      },
      "source": [
        "plt.plot(y_test_inv.flatten(),label = 'true')\n",
        "plt.plot(y_pred_inv.flatten(), 'r',label = 'predicted')\n",
        "plt.legend();"
      ],
      "execution_count": null,
      "outputs": [
        {
          "output_type": "display_data",
          "data": {
            "image/png": "[encoded data removed]",
            "text/plain": [
              "<Figure size 432x288 with 1 Axes>"
            ]
          },
          "metadata": {
            "tags": [],
            "needs_background": "light"
          }
        }
      ]
    },
    {
      "cell_type": "code",
      "metadata": {
        "id": "c4Hw1IilhyR0",
        "colab": {
          "base_uri": "https://localhost:8080/"
        },
        "outputId": "4377dc1f-5e23-4a41-dd38-90af38b46ece"
      },
      "source": [
        "def rmse(predictions, targets):\n",
        "    return np.sqrt(((predictions - targets) ** 2).mean())\n",
        "\n",
        "rmse_val = rmse(np.array(y_pred), np.array(y_test))\n",
        "print(\"rmse error is: \" + str(rmse_val))"
      ],
      "execution_count": null,
      "outputs": [
        {
          "output_type": "stream",
          "text": [
            "rmse error is: 0.07736091422113742\n"
          ],
          "name": "stdout"
        }
      ]
    },
    {
      "cell_type": "markdown",
      "metadata": {
        "id": "5AAZ0IdGkdzB"
      },
      "source": [
        "# XGBoost"
      ]
    },
    {
      "cell_type": "code",
      "metadata": {
        "id": "pwB2LCvFkgLP"
      },
      "source": [
        "data_xgboost =  pd.read_csv(\"/content/drive/My Drive/feature_engineered.csv\",parse_dates=['year_month'],index_col=\"year_month\")"
      ],
      "execution_count": null,
      "outputs": []
    },
    {
      "cell_type": "code",
      "metadata": {
        "id": "FQH5Bw2-tQye"
      },
      "source": [
        "data_xgboost.drop(['Unnamed: 0'], axis='columns', inplace=True)   "
      ],
      "execution_count": null,
      "outputs": []
    },
    {
      "cell_type": "code",
      "metadata": {
        "id": "a5oYwf9QlHCe",
        "colab": {
          "base_uri": "https://localhost:8080/",
          "height": 267
        },
        "outputId": "3ef7b7f3-ebce-4543-c4e5-cfbd31185953"
      },
      "source": [
        "data_xgboost.head()"
      ],
      "execution_count": null,
      "outputs": [
        {
          "output_type": "execute_result",
          "data": {
            "text/html": [
              "<div>\n",
              "<style scoped>\n",
              "    .dataframe tbody tr th:only-of-type {\n",
              "        vertical-align: middle;\n",
              "    }\n",
              "\n",
              "    .dataframe tbody tr th {\n",
              "        vertical-align: top;\n",
              "    }\n",
              "\n",
              "    .dataframe thead th {\n",
              "        text-align: right;\n",
              "    }\n",
              "</style>\n",
              "<table border=\"1\" class=\"dataframe\">\n",
              "  <thead>\n",
              "    <tr style=\"text-align: right;\">\n",
              "      <th></th>\n",
              "      <th>SalesAgentEmailID</th>\n",
              "      <th>ContactEmailID</th>\n",
              "      <th>sentiment_scores</th>\n",
              "      <th>Product</th>\n",
              "      <th>Close_Value</th>\n",
              "      <th>month</th>\n",
              "      <th>year</th>\n",
              "      <th>lag_1</th>\n",
              "      <th>lag_2</th>\n",
              "      <th>lag_3</th>\n",
              "      <th>lag_4</th>\n",
              "      <th>lag_(-1)</th>\n",
              "      <th>lag_(-2)</th>\n",
              "      <th>lag_(-3)</th>\n",
              "      <th>lag_(-4)</th>\n",
              "      <th>rolling_avg</th>\n",
              "      <th>rolling_min</th>\n",
              "      <th>rolling_max</th>\n",
              "    </tr>\n",
              "    <tr>\n",
              "      <th>year_month</th>\n",
              "      <th></th>\n",
              "      <th></th>\n",
              "      <th></th>\n",
              "      <th></th>\n",
              "      <th></th>\n",
              "      <th></th>\n",
              "      <th></th>\n",
              "      <th></th>\n",
              "      <th></th>\n",
              "      <th></th>\n",
              "      <th></th>\n",
              "      <th></th>\n",
              "      <th></th>\n",
              "      <th></th>\n",
              "      <th></th>\n",
              "      <th></th>\n",
              "      <th></th>\n",
              "      <th></th>\n",
              "    </tr>\n",
              "  </thead>\n",
              "  <tbody>\n",
              "    <tr>\n",
              "      <th>2016-03-01</th>\n",
              "      <td>22</td>\n",
              "      <td>47</td>\n",
              "      <td>4.225225</td>\n",
              "      <td>1</td>\n",
              "      <td>493</td>\n",
              "      <td>3</td>\n",
              "      <td>2016</td>\n",
              "      <td>1164.0</td>\n",
              "      <td>1070.0</td>\n",
              "      <td>4359.0</td>\n",
              "      <td>3180.0</td>\n",
              "      <td>1059.0</td>\n",
              "      <td>5149.0</td>\n",
              "      <td>48.0</td>\n",
              "      <td>54.0</td>\n",
              "      <td>2053.2</td>\n",
              "      <td>493.0</td>\n",
              "      <td>4359.0</td>\n",
              "    </tr>\n",
              "    <tr>\n",
              "      <th>2016-03-01</th>\n",
              "      <td>14</td>\n",
              "      <td>23</td>\n",
              "      <td>3.985075</td>\n",
              "      <td>2</td>\n",
              "      <td>1059</td>\n",
              "      <td>3</td>\n",
              "      <td>2016</td>\n",
              "      <td>493.0</td>\n",
              "      <td>1164.0</td>\n",
              "      <td>1070.0</td>\n",
              "      <td>4359.0</td>\n",
              "      <td>5149.0</td>\n",
              "      <td>48.0</td>\n",
              "      <td>54.0</td>\n",
              "      <td>57.0</td>\n",
              "      <td>1629.0</td>\n",
              "      <td>493.0</td>\n",
              "      <td>4359.0</td>\n",
              "    </tr>\n",
              "    <tr>\n",
              "      <th>2016-03-01</th>\n",
              "      <td>15</td>\n",
              "      <td>30</td>\n",
              "      <td>4.544379</td>\n",
              "      <td>4</td>\n",
              "      <td>5149</td>\n",
              "      <td>3</td>\n",
              "      <td>2016</td>\n",
              "      <td>1059.0</td>\n",
              "      <td>493.0</td>\n",
              "      <td>1164.0</td>\n",
              "      <td>1070.0</td>\n",
              "      <td>48.0</td>\n",
              "      <td>54.0</td>\n",
              "      <td>57.0</td>\n",
              "      <td>57.0</td>\n",
              "      <td>1787.0</td>\n",
              "      <td>493.0</td>\n",
              "      <td>5149.0</td>\n",
              "    </tr>\n",
              "    <tr>\n",
              "      <th>2016-04-01</th>\n",
              "      <td>21</td>\n",
              "      <td>59</td>\n",
              "      <td>4.968750</td>\n",
              "      <td>6</td>\n",
              "      <td>48</td>\n",
              "      <td>4</td>\n",
              "      <td>2016</td>\n",
              "      <td>5149.0</td>\n",
              "      <td>1059.0</td>\n",
              "      <td>493.0</td>\n",
              "      <td>1164.0</td>\n",
              "      <td>54.0</td>\n",
              "      <td>57.0</td>\n",
              "      <td>57.0</td>\n",
              "      <td>513.0</td>\n",
              "      <td>1582.6</td>\n",
              "      <td>48.0</td>\n",
              "      <td>5149.0</td>\n",
              "    </tr>\n",
              "    <tr>\n",
              "      <th>2016-04-01</th>\n",
              "      <td>26</td>\n",
              "      <td>27</td>\n",
              "      <td>3.209877</td>\n",
              "      <td>6</td>\n",
              "      <td>54</td>\n",
              "      <td>4</td>\n",
              "      <td>2016</td>\n",
              "      <td>48.0</td>\n",
              "      <td>5149.0</td>\n",
              "      <td>1059.0</td>\n",
              "      <td>493.0</td>\n",
              "      <td>57.0</td>\n",
              "      <td>57.0</td>\n",
              "      <td>513.0</td>\n",
              "      <td>519.0</td>\n",
              "      <td>1360.6</td>\n",
              "      <td>48.0</td>\n",
              "      <td>5149.0</td>\n",
              "    </tr>\n",
              "  </tbody>\n",
              "</table>\n",
              "</div>"
            ],
            "text/plain": [
              "            SalesAgentEmailID  ContactEmailID  ...  rolling_min  rolling_max\n",
              "year_month                                     ...                          \n",
              "2016-03-01                 22              47  ...        493.0       4359.0\n",
              "2016-03-01                 14              23  ...        493.0       4359.0\n",
              "2016-03-01                 15              30  ...        493.0       5149.0\n",
              "2016-04-01                 21              59  ...         48.0       5149.0\n",
              "2016-04-01                 26              27  ...         48.0       5149.0\n",
              "\n",
              "[5 rows x 18 columns]"
            ]
          },
          "metadata": {
            "tags": []
          },
          "execution_count": 90
        }
      ]
    },
    {
      "cell_type": "code",
      "metadata": {
        "id": "euhLwd88zXu6",
        "colab": {
          "base_uri": "https://localhost:8080/"
        },
        "outputId": "c9422d5c-925b-4fb9-8135-348881023970"
      },
      "source": [
        "!pip install xgboost"
      ],
      "execution_count": null,
      "outputs": [
        {
          "output_type": "stream",
          "text": [
            "Requirement already satisfied: xgboost in /usr/local/lib/python3.6/dist-packages (0.90)\n",
            "Requirement already satisfied: numpy in /usr/local/lib/python3.6/dist-packages (from xgboost) (1.18.5)\n",
            "Requirement already satisfied: scipy in /usr/local/lib/python3.6/dist-packages (from xgboost) (1.4.1)\n"
          ],
          "name": "stdout"
        }
      ]
    },
    {
      "cell_type": "code",
      "metadata": {
        "id": "BKELieuTzs3-"
      },
      "source": [
        "from xgboost import XGBRegressor"
      ],
      "execution_count": null,
      "outputs": []
    },
    {
      "cell_type": "code",
      "metadata": {
        "id": "vBbyEP-O0dyJ"
      },
      "source": [
        "# Train data is 90% and test data is 10%\n",
        "\n",
        "train_size = int(len(data_xgboost) * 0.9)\n",
        "test_size = len(data_xgboost) - train_size"
      ],
      "execution_count": null,
      "outputs": []
    },
    {
      "cell_type": "code",
      "metadata": {
        "id": "e81iAg390wI4",
        "colab": {
          "base_uri": "https://localhost:8080/"
        },
        "outputId": "38585225-d49c-4769-839c-dcd878ee0205"
      },
      "source": [
        "train, test = data_xgboost.iloc[0:train_size,:] , data_xgboost.iloc[train_size:len(data_lstm),:]\n",
        "\n",
        "print(len(train), len(test))"
      ],
      "execution_count": null,
      "outputs": [
        {
          "output_type": "stream",
          "text": [
            "3807 423\n"
          ],
          "name": "stdout"
        }
      ]
    },
    {
      "cell_type": "code",
      "metadata": {
        "id": "5ilInBrk04F4",
        "colab": {
          "base_uri": "https://localhost:8080/"
        },
        "outputId": "543fa911-e245-40d7-b811-411d45edef12"
      },
      "source": [
        "f_columns = [\"SalesAgentEmailID\",\"ContactEmailID\",\"month\",\"year\",\"Product\",\"sentiment_scores\",\"lag_1\",\"lag_2\",\"lag_3\",\"lag_4\",\"rolling_avg\",\"rolling_min\",\"rolling_max\",\"lag_(-1)\",\"lag_(-2)\",\"lag_(-3)\",\"lag_(-4)\"]\n",
        "f_transformer = RobustScaler()\n",
        "f_transformer = f_transformer.fit(train[f_columns].to_numpy())\n",
        "train.loc[:, f_columns] = f_transformer.transform(\n",
        "  train[f_columns].to_numpy()\n",
        ")\n",
        "test.loc[:, f_columns] = f_transformer.transform(\n",
        "  test[f_columns].to_numpy()\n",
        ")"
      ],
      "execution_count": null,
      "outputs": [
        {
          "output_type": "stream",
          "text": [
            "/usr/local/lib/python3.6/dist-packages/pandas/core/indexing.py:1734: SettingWithCopyWarning: \n",
            "A value is trying to be set on a copy of a slice from a DataFrame.\n",
            "Try using .loc[row_indexer,col_indexer] = value instead\n",
            "\n",
            "See the caveats in the documentation: https://pandas.pydata.org/pandas-docs/stable/user_guide/indexing.html#returning-a-view-versus-a-copy\n",
            "  isetter(loc, value[:, i].tolist())\n",
            "/usr/local/lib/python3.6/dist-packages/pandas/core/indexing.py:1734: SettingWithCopyWarning: \n",
            "A value is trying to be set on a copy of a slice from a DataFrame.\n",
            "Try using .loc[row_indexer,col_indexer] = value instead\n",
            "\n",
            "See the caveats in the documentation: https://pandas.pydata.org/pandas-docs/stable/user_guide/indexing.html#returning-a-view-versus-a-copy\n",
            "  isetter(loc, value[:, i].tolist())\n"
          ],
          "name": "stderr"
        }
      ]
    },
    {
      "cell_type": "code",
      "metadata": {
        "id": "0C9jItN_0_Vo",
        "colab": {
          "base_uri": "https://localhost:8080/"
        },
        "outputId": "3935bad6-848c-4207-f871-bfff44a85690"
      },
      "source": [
        "cnt_transformer = RobustScaler()\n",
        "\n",
        "cnt_transformer = cnt_transformer.fit(train[['Close_Value']])\n",
        "train['Close_Value'] = cnt_transformer.transform(train[['Close_Value']])\n",
        "test['Close_Value'] = cnt_transformer.transform(test[['Close_Value']])"
      ],
      "execution_count": null,
      "outputs": [
        {
          "output_type": "stream",
          "text": [
            "/usr/local/lib/python3.6/dist-packages/ipykernel_launcher.py:4: SettingWithCopyWarning: \n",
            "A value is trying to be set on a copy of a slice from a DataFrame.\n",
            "Try using .loc[row_indexer,col_indexer] = value instead\n",
            "\n",
            "See the caveats in the documentation: https://pandas.pydata.org/pandas-docs/stable/user_guide/indexing.html#returning-a-view-versus-a-copy\n",
            "  after removing the cwd from sys.path.\n",
            "/usr/local/lib/python3.6/dist-packages/ipykernel_launcher.py:5: SettingWithCopyWarning: \n",
            "A value is trying to be set on a copy of a slice from a DataFrame.\n",
            "Try using .loc[row_indexer,col_indexer] = value instead\n",
            "\n",
            "See the caveats in the documentation: https://pandas.pydata.org/pandas-docs/stable/user_guide/indexing.html#returning-a-view-versus-a-copy\n",
            "  \"\"\"\n"
          ],
          "name": "stderr"
        }
      ]
    },
    {
      "cell_type": "code",
      "metadata": {
        "id": "k2Wf_te01Jr-"
      },
      "source": [
        "x_train = train[[\"SalesAgentEmailID\",\"ContactEmailID\",\"month\",\"year\",\"Product\",\"sentiment_scores\",\"lag_1\",\"lag_2\",\"lag_3\",\"lag_4\",\"rolling_avg\",\"rolling_min\",\"rolling_max\",\"lag_(-1)\",\"lag_(-2)\",\"lag_(-3)\",\"lag_(-4)\"]]\n",
        "y_train = train[[\"Close_Value\"]]\n",
        "\n",
        "x_test = test[[\"SalesAgentEmailID\",\"ContactEmailID\",\"month\",\"year\",\"Product\",\"sentiment_scores\",\"lag_1\",\"lag_2\",\"lag_3\",\"lag_4\",\"rolling_avg\",\"rolling_min\",\"rolling_max\",\"lag_(-1)\",\"lag_(-2)\",\"lag_(-3)\",\"lag_(-4)\"]]\n",
        "y_test = test[[\"Close_Value\"]]"
      ],
      "execution_count": null,
      "outputs": []
    },
    {
      "cell_type": "code",
      "metadata": {
        "id": "eG-3ZPlG1Kxi",
        "colab": {
          "base_uri": "https://localhost:8080/"
        },
        "outputId": "3dd7c904-cf1a-4514-94b6-729835adfabc"
      },
      "source": [
        "print(x_train.shape, y_train.shape)\n",
        "print(x_test.shape, y_test.shape)"
      ],
      "execution_count": null,
      "outputs": [
        {
          "output_type": "stream",
          "text": [
            "(3807, 17) (3807, 1)\n",
            "(423, 17) (423, 1)\n"
          ],
          "name": "stdout"
        }
      ]
    },
    {
      "cell_type": "code",
      "metadata": {
        "id": "d93hBe3QzSr6",
        "colab": {
          "base_uri": "https://localhost:8080/"
        },
        "outputId": "ca19e7f2-49b2-4e14-851d-c3a9455500d1"
      },
      "source": [
        "model = XGBRegressor(objective='reg:squarederror', n_estimators=100)\n",
        "model.fit(x_train, y_train)"
      ],
      "execution_count": null,
      "outputs": [
        {
          "output_type": "execute_result",
          "data": {
            "text/plain": [
              "XGBRegressor(base_score=0.5, booster='gbtree', colsample_bylevel=1,\n",
              "             colsample_bynode=1, colsample_bytree=1, gamma=0,\n",
              "             importance_type='gain', learning_rate=0.1, max_delta_step=0,\n",
              "             max_depth=3, min_child_weight=1, missing=None, n_estimators=100,\n",
              "             n_jobs=1, nthread=None, objective='reg:squarederror',\n",
              "             random_state=0, reg_alpha=0, reg_lambda=1, scale_pos_weight=1,\n",
              "             seed=None, silent=None, subsample=1, verbosity=1)"
            ]
          },
          "metadata": {
            "tags": []
          },
          "execution_count": 99
        }
      ]
    },
    {
      "cell_type": "code",
      "metadata": {
        "id": "s-xiHQyb1g2t"
      },
      "source": [
        "y_pred = model.predict(x_test)"
      ],
      "execution_count": null,
      "outputs": []
    },
    {
      "cell_type": "code",
      "metadata": {
        "id": "1qQmFAqF4BBp",
        "colab": {
          "base_uri": "https://localhost:8080/",
          "height": 266
        },
        "outputId": "a49f6dab-90cf-46ab-cdc5-8e7920ccb2a9"
      },
      "source": [
        "plt.plot(y_test.to_numpy(),label='Expected')\n",
        "plt.plot(y_pred, label='Predicted')\n",
        "plt.legend();"
      ],
      "execution_count": null,
      "outputs": [
        {
          "output_type": "display_data",
          "data": {
            "image/png": "[encoded data removed]",
            "text/plain": [
              "<Figure size 432x288 with 1 Axes>"
            ]
          },
          "metadata": {
            "tags": [],
            "needs_background": "light"
          }
        }
      ]
    },
    {
      "cell_type": "code",
      "metadata": {
        "id": "Jq3pjOes3Unj",
        "colab": {
          "base_uri": "https://localhost:8080/"
        },
        "outputId": "718836d0-ee4a-46e5-87c7-7c640054fd77"
      },
      "source": [
        "def rmse(predictions, targets):\n",
        "    return np.sqrt(((predictions - targets) ** 2).mean())\n",
        "\n",
        "rmse_val = rmse(np.array(y_pred), np.array(y_test))\n",
        "print(\"rmse error is: \" + str(rmse_val))"
      ],
      "execution_count": null,
      "outputs": [
        {
          "output_type": "stream",
          "text": [
            "rmse error is: 0.8560390551193241\n"
          ],
          "name": "stdout"
        }
      ]
    },
    {
      "cell_type": "markdown",
      "metadata": {
        "id": "Fy8LpMwKDiSi"
      },
      "source": [
        "\n",
        "\n",
        "# Forecasting "
      ]
    },
    {
      "cell_type": "markdown",
      "metadata": {
        "id": "KApVMVvKkRR2"
      },
      "source": [
        "We are choosing LSTM model for forecasting as it has the least RMSE value"
      ]
    },
    {
      "cell_type": "code",
      "metadata": {
        "colab": {
          "base_uri": "https://localhost:8080/",
          "height": 267
        },
        "id": "wYNb__YJZ3HV",
        "outputId": "d7f4ccb6-6cdb-439e-a074-5812835e9869"
      },
      "source": [
        "data_lstm.head()"
      ],
      "execution_count": null,
      "outputs": [
        {
          "output_type": "execute_result",
          "data": {
            "text/html": [
              "<div>\n",
              "<style scoped>\n",
              "    .dataframe tbody tr th:only-of-type {\n",
              "        vertical-align: middle;\n",
              "    }\n",
              "\n",
              "    .dataframe tbody tr th {\n",
              "        vertical-align: top;\n",
              "    }\n",
              "\n",
              "    .dataframe thead th {\n",
              "        text-align: right;\n",
              "    }\n",
              "</style>\n",
              "<table border=\"1\" class=\"dataframe\">\n",
              "  <thead>\n",
              "    <tr style=\"text-align: right;\">\n",
              "      <th></th>\n",
              "      <th>SalesAgentEmailID</th>\n",
              "      <th>ContactEmailID</th>\n",
              "      <th>sentiment_scores</th>\n",
              "      <th>Product</th>\n",
              "      <th>Close_Value</th>\n",
              "      <th>month</th>\n",
              "      <th>year</th>\n",
              "      <th>lag_1</th>\n",
              "      <th>lag_2</th>\n",
              "      <th>lag_3</th>\n",
              "      <th>lag_4</th>\n",
              "      <th>lag_(-1)</th>\n",
              "      <th>lag_(-2)</th>\n",
              "      <th>lag_(-3)</th>\n",
              "      <th>lag_(-4)</th>\n",
              "      <th>rolling_avg</th>\n",
              "      <th>rolling_min</th>\n",
              "      <th>rolling_max</th>\n",
              "    </tr>\n",
              "    <tr>\n",
              "      <th>year_month</th>\n",
              "      <th></th>\n",
              "      <th></th>\n",
              "      <th></th>\n",
              "      <th></th>\n",
              "      <th></th>\n",
              "      <th></th>\n",
              "      <th></th>\n",
              "      <th></th>\n",
              "      <th></th>\n",
              "      <th></th>\n",
              "      <th></th>\n",
              "      <th></th>\n",
              "      <th></th>\n",
              "      <th></th>\n",
              "      <th></th>\n",
              "      <th></th>\n",
              "      <th></th>\n",
              "      <th></th>\n",
              "    </tr>\n",
              "  </thead>\n",
              "  <tbody>\n",
              "    <tr>\n",
              "      <th>2016-03-01</th>\n",
              "      <td>22</td>\n",
              "      <td>47</td>\n",
              "      <td>0.481551</td>\n",
              "      <td>1</td>\n",
              "      <td>493</td>\n",
              "      <td>3</td>\n",
              "      <td>2016</td>\n",
              "      <td>0.016480</td>\n",
              "      <td>-0.007725</td>\n",
              "      <td>0.838934</td>\n",
              "      <td>0.535342</td>\n",
              "      <td>-0.010557</td>\n",
              "      <td>1.042616</td>\n",
              "      <td>-0.271204</td>\n",
              "      <td>-0.269657</td>\n",
              "      <td>0.237923</td>\n",
              "      <td>-0.152738</td>\n",
              "      <td>0.764578</td>\n",
              "    </tr>\n",
              "    <tr>\n",
              "      <th>2016-03-01</th>\n",
              "      <td>14</td>\n",
              "      <td>23</td>\n",
              "      <td>0.167369</td>\n",
              "      <td>2</td>\n",
              "      <td>1059</td>\n",
              "      <td>3</td>\n",
              "      <td>2016</td>\n",
              "      <td>-0.156302</td>\n",
              "      <td>0.016480</td>\n",
              "      <td>-0.007982</td>\n",
              "      <td>0.838934</td>\n",
              "      <td>1.042616</td>\n",
              "      <td>-0.270890</td>\n",
              "      <td>-0.269657</td>\n",
              "      <td>-0.268884</td>\n",
              "      <td>0.127330</td>\n",
              "      <td>-0.152738</td>\n",
              "      <td>0.764578</td>\n",
              "    </tr>\n",
              "    <tr>\n",
              "      <th>2016-03-01</th>\n",
              "      <td>15</td>\n",
              "      <td>30</td>\n",
              "      <td>0.899090</td>\n",
              "      <td>4</td>\n",
              "      <td>5149</td>\n",
              "      <td>3</td>\n",
              "      <td>2016</td>\n",
              "      <td>-0.010557</td>\n",
              "      <td>-0.156302</td>\n",
              "      <td>0.016222</td>\n",
              "      <td>-0.007982</td>\n",
              "      <td>-0.270890</td>\n",
              "      <td>-0.269345</td>\n",
              "      <td>-0.268884</td>\n",
              "      <td>-0.268884</td>\n",
              "      <td>0.168522</td>\n",
              "      <td>-0.152738</td>\n",
              "      <td>0.954940</td>\n",
              "    </tr>\n",
              "    <tr>\n",
              "      <th>2016-04-01</th>\n",
              "      <td>21</td>\n",
              "      <td>59</td>\n",
              "      <td>1.454283</td>\n",
              "      <td>6</td>\n",
              "      <td>48</td>\n",
              "      <td>4</td>\n",
              "      <td>2016</td>\n",
              "      <td>1.042616</td>\n",
              "      <td>-0.010557</td>\n",
              "      <td>-0.156560</td>\n",
              "      <td>0.016222</td>\n",
              "      <td>-0.269345</td>\n",
              "      <td>-0.268572</td>\n",
              "      <td>-0.268884</td>\n",
              "      <td>-0.151328</td>\n",
              "      <td>0.115233</td>\n",
              "      <td>-0.280980</td>\n",
              "      <td>0.954940</td>\n",
              "    </tr>\n",
              "    <tr>\n",
              "      <th>2016-04-01</th>\n",
              "      <td>26</td>\n",
              "      <td>27</td>\n",
              "      <td>-0.846800</td>\n",
              "      <td>6</td>\n",
              "      <td>54</td>\n",
              "      <td>4</td>\n",
              "      <td>2016</td>\n",
              "      <td>-0.270890</td>\n",
              "      <td>1.042616</td>\n",
              "      <td>-0.010815</td>\n",
              "      <td>-0.156560</td>\n",
              "      <td>-0.268572</td>\n",
              "      <td>-0.268572</td>\n",
              "      <td>-0.151328</td>\n",
              "      <td>-0.149781</td>\n",
              "      <td>0.057356</td>\n",
              "      <td>-0.280980</td>\n",
              "      <td>0.954940</td>\n",
              "    </tr>\n",
              "  </tbody>\n",
              "</table>\n",
              "</div>"
            ],
            "text/plain": [
              "            SalesAgentEmailID  ContactEmailID  ...  rolling_min  rolling_max\n",
              "year_month                                     ...                          \n",
              "2016-03-01                 22              47  ...    -0.152738     0.764578\n",
              "2016-03-01                 14              23  ...    -0.152738     0.764578\n",
              "2016-03-01                 15              30  ...    -0.152738     0.954940\n",
              "2016-04-01                 21              59  ...    -0.280980     0.954940\n",
              "2016-04-01                 26              27  ...    -0.280980     0.954940\n",
              "\n",
              "[5 rows x 18 columns]"
            ]
          },
          "metadata": {
            "tags": []
          },
          "execution_count": 123
        }
      ]
    },
    {
      "cell_type": "code",
      "metadata": {
        "id": "k7QAfyFeaNqG"
      },
      "source": [
        "data = data_lstm.reset_index(level='year_month')"
      ],
      "execution_count": null,
      "outputs": []
    },
    {
      "cell_type": "code",
      "metadata": {
        "colab": {
          "base_uri": "https://localhost:8080/",
          "height": 234
        },
        "id": "CeyGPzRMaWMk",
        "outputId": "a000939f-6deb-4dc6-dd3d-3c6948a9d783"
      },
      "source": [
        "data.head()"
      ],
      "execution_count": null,
      "outputs": [
        {
          "output_type": "execute_result",
          "data": {
            "text/html": [
              "<div>\n",
              "<style scoped>\n",
              "    .dataframe tbody tr th:only-of-type {\n",
              "        vertical-align: middle;\n",
              "    }\n",
              "\n",
              "    .dataframe tbody tr th {\n",
              "        vertical-align: top;\n",
              "    }\n",
              "\n",
              "    .dataframe thead th {\n",
              "        text-align: right;\n",
              "    }\n",
              "</style>\n",
              "<table border=\"1\" class=\"dataframe\">\n",
              "  <thead>\n",
              "    <tr style=\"text-align: right;\">\n",
              "      <th></th>\n",
              "      <th>year_month</th>\n",
              "      <th>SalesAgentEmailID</th>\n",
              "      <th>ContactEmailID</th>\n",
              "      <th>sentiment_scores</th>\n",
              "      <th>Product</th>\n",
              "      <th>Close_Value</th>\n",
              "      <th>month</th>\n",
              "      <th>year</th>\n",
              "      <th>lag_1</th>\n",
              "      <th>lag_2</th>\n",
              "      <th>lag_3</th>\n",
              "      <th>lag_4</th>\n",
              "      <th>lag_(-1)</th>\n",
              "      <th>lag_(-2)</th>\n",
              "      <th>lag_(-3)</th>\n",
              "      <th>lag_(-4)</th>\n",
              "      <th>rolling_avg</th>\n",
              "      <th>rolling_min</th>\n",
              "      <th>rolling_max</th>\n",
              "    </tr>\n",
              "  </thead>\n",
              "  <tbody>\n",
              "    <tr>\n",
              "      <th>0</th>\n",
              "      <td>2016-03-01</td>\n",
              "      <td>22</td>\n",
              "      <td>47</td>\n",
              "      <td>0.481551</td>\n",
              "      <td>1</td>\n",
              "      <td>493</td>\n",
              "      <td>3</td>\n",
              "      <td>2016</td>\n",
              "      <td>0.016480</td>\n",
              "      <td>-0.007725</td>\n",
              "      <td>0.838934</td>\n",
              "      <td>0.535342</td>\n",
              "      <td>-0.010557</td>\n",
              "      <td>1.042616</td>\n",
              "      <td>-0.271204</td>\n",
              "      <td>-0.269657</td>\n",
              "      <td>0.237923</td>\n",
              "      <td>-0.152738</td>\n",
              "      <td>0.764578</td>\n",
              "    </tr>\n",
              "    <tr>\n",
              "      <th>1</th>\n",
              "      <td>2016-03-01</td>\n",
              "      <td>14</td>\n",
              "      <td>23</td>\n",
              "      <td>0.167369</td>\n",
              "      <td>2</td>\n",
              "      <td>1059</td>\n",
              "      <td>3</td>\n",
              "      <td>2016</td>\n",
              "      <td>-0.156302</td>\n",
              "      <td>0.016480</td>\n",
              "      <td>-0.007982</td>\n",
              "      <td>0.838934</td>\n",
              "      <td>1.042616</td>\n",
              "      <td>-0.270890</td>\n",
              "      <td>-0.269657</td>\n",
              "      <td>-0.268884</td>\n",
              "      <td>0.127330</td>\n",
              "      <td>-0.152738</td>\n",
              "      <td>0.764578</td>\n",
              "    </tr>\n",
              "    <tr>\n",
              "      <th>2</th>\n",
              "      <td>2016-03-01</td>\n",
              "      <td>15</td>\n",
              "      <td>30</td>\n",
              "      <td>0.899090</td>\n",
              "      <td>4</td>\n",
              "      <td>5149</td>\n",
              "      <td>3</td>\n",
              "      <td>2016</td>\n",
              "      <td>-0.010557</td>\n",
              "      <td>-0.156302</td>\n",
              "      <td>0.016222</td>\n",
              "      <td>-0.007982</td>\n",
              "      <td>-0.270890</td>\n",
              "      <td>-0.269345</td>\n",
              "      <td>-0.268884</td>\n",
              "      <td>-0.268884</td>\n",
              "      <td>0.168522</td>\n",
              "      <td>-0.152738</td>\n",
              "      <td>0.954940</td>\n",
              "    </tr>\n",
              "    <tr>\n",
              "      <th>3</th>\n",
              "      <td>2016-04-01</td>\n",
              "      <td>21</td>\n",
              "      <td>59</td>\n",
              "      <td>1.454283</td>\n",
              "      <td>6</td>\n",
              "      <td>48</td>\n",
              "      <td>4</td>\n",
              "      <td>2016</td>\n",
              "      <td>1.042616</td>\n",
              "      <td>-0.010557</td>\n",
              "      <td>-0.156560</td>\n",
              "      <td>0.016222</td>\n",
              "      <td>-0.269345</td>\n",
              "      <td>-0.268572</td>\n",
              "      <td>-0.268884</td>\n",
              "      <td>-0.151328</td>\n",
              "      <td>0.115233</td>\n",
              "      <td>-0.280980</td>\n",
              "      <td>0.954940</td>\n",
              "    </tr>\n",
              "    <tr>\n",
              "      <th>4</th>\n",
              "      <td>2016-04-01</td>\n",
              "      <td>26</td>\n",
              "      <td>27</td>\n",
              "      <td>-0.846800</td>\n",
              "      <td>6</td>\n",
              "      <td>54</td>\n",
              "      <td>4</td>\n",
              "      <td>2016</td>\n",
              "      <td>-0.270890</td>\n",
              "      <td>1.042616</td>\n",
              "      <td>-0.010815</td>\n",
              "      <td>-0.156560</td>\n",
              "      <td>-0.268572</td>\n",
              "      <td>-0.268572</td>\n",
              "      <td>-0.151328</td>\n",
              "      <td>-0.149781</td>\n",
              "      <td>0.057356</td>\n",
              "      <td>-0.280980</td>\n",
              "      <td>0.954940</td>\n",
              "    </tr>\n",
              "  </tbody>\n",
              "</table>\n",
              "</div>"
            ],
            "text/plain": [
              "  year_month  SalesAgentEmailID  ...  rolling_min  rolling_max\n",
              "0 2016-03-01                 22  ...    -0.152738     0.764578\n",
              "1 2016-03-01                 14  ...    -0.152738     0.764578\n",
              "2 2016-03-01                 15  ...    -0.152738     0.954940\n",
              "3 2016-04-01                 21  ...    -0.280980     0.954940\n",
              "4 2016-04-01                 26  ...    -0.280980     0.954940\n",
              "\n",
              "[5 rows x 19 columns]"
            ]
          },
          "metadata": {
            "tags": []
          },
          "execution_count": 125
        }
      ]
    },
    {
      "cell_type": "code",
      "metadata": {
        "id": "FLUFQOw8b-go"
      },
      "source": [
        "f_columns = [\"SalesAgentEmailID\",\"ContactEmailID\",\"month\",\"year\",\"Product\",\"sentiment_scores\",\"lag_1\",\"lag_2\",\"lag_3\",\"lag_4\",\"rolling_avg\",\"rolling_min\",\"rolling_max\",\"lag_(-1)\",\"lag_(-2)\",\"lag_(-3)\",\"lag_(-4)\"]\n",
        "f_transformer = RobustScaler()\n",
        "f_transformer = f_transformer.fit(data[f_columns].to_numpy())\n",
        "data.loc[:, f_columns] = f_transformer.transform(\n",
        "  data[f_columns].to_numpy()\n",
        ")"
      ],
      "execution_count": null,
      "outputs": []
    },
    {
      "cell_type": "code",
      "metadata": {
        "id": "Ydguo69ncP9J"
      },
      "source": [
        "cnt_transformer = RobustScaler()\n",
        "\n",
        "cnt_transformer = cnt_transformer.fit(data[['Close_Value']])\n",
        "data['Close_Value'] = cnt_transformer.transform(data[['Close_Value']])"
      ],
      "execution_count": null,
      "outputs": []
    },
    {
      "cell_type": "code",
      "metadata": {
        "colab": {
          "base_uri": "https://localhost:8080/",
          "height": 234
        },
        "id": "SDBElfhvcV6s",
        "outputId": "b471e56b-5167-4970-a6b5-db63f4fbe038"
      },
      "source": [
        "data.head()"
      ],
      "execution_count": null,
      "outputs": [
        {
          "output_type": "execute_result",
          "data": {
            "text/html": [
              "<div>\n",
              "<style scoped>\n",
              "    .dataframe tbody tr th:only-of-type {\n",
              "        vertical-align: middle;\n",
              "    }\n",
              "\n",
              "    .dataframe tbody tr th {\n",
              "        vertical-align: top;\n",
              "    }\n",
              "\n",
              "    .dataframe thead th {\n",
              "        text-align: right;\n",
              "    }\n",
              "</style>\n",
              "<table border=\"1\" class=\"dataframe\">\n",
              "  <thead>\n",
              "    <tr style=\"text-align: right;\">\n",
              "      <th></th>\n",
              "      <th>year_month</th>\n",
              "      <th>SalesAgentEmailID</th>\n",
              "      <th>ContactEmailID</th>\n",
              "      <th>sentiment_scores</th>\n",
              "      <th>Product</th>\n",
              "      <th>Close_Value</th>\n",
              "      <th>month</th>\n",
              "      <th>year</th>\n",
              "      <th>lag_1</th>\n",
              "      <th>lag_2</th>\n",
              "      <th>lag_3</th>\n",
              "      <th>lag_4</th>\n",
              "      <th>lag_(-1)</th>\n",
              "      <th>lag_(-2)</th>\n",
              "      <th>lag_(-3)</th>\n",
              "      <th>lag_(-4)</th>\n",
              "      <th>rolling_avg</th>\n",
              "      <th>rolling_min</th>\n",
              "      <th>rolling_max</th>\n",
              "    </tr>\n",
              "  </thead>\n",
              "  <tbody>\n",
              "    <tr>\n",
              "      <th>0</th>\n",
              "      <td>2016-03-01</td>\n",
              "      <td>0.533333</td>\n",
              "      <td>0.195122</td>\n",
              "      <td>0.484982</td>\n",
              "      <td>-1.000000</td>\n",
              "      <td>-0.159069</td>\n",
              "      <td>-0.833333</td>\n",
              "      <td>-1.0</td>\n",
              "      <td>0.012536</td>\n",
              "      <td>-0.011387</td>\n",
              "      <td>0.830752</td>\n",
              "      <td>0.529208</td>\n",
              "      <td>-0.014450</td>\n",
              "      <td>1.030934</td>\n",
              "      <td>-0.273169</td>\n",
              "      <td>-0.271624</td>\n",
              "      <td>0.230812</td>\n",
              "      <td>-0.158057</td>\n",
              "      <td>0.757795</td>\n",
              "    </tr>\n",
              "    <tr>\n",
              "      <th>1</th>\n",
              "      <td>2016-03-01</td>\n",
              "      <td>0.000000</td>\n",
              "      <td>-0.390244</td>\n",
              "      <td>0.168562</td>\n",
              "      <td>-0.666667</td>\n",
              "      <td>-0.014321</td>\n",
              "      <td>-0.833333</td>\n",
              "      <td>-1.0</td>\n",
              "      <td>-0.159130</td>\n",
              "      <td>0.012666</td>\n",
              "      <td>-0.011394</td>\n",
              "      <td>0.831284</td>\n",
              "      <td>1.031586</td>\n",
              "      <td>-0.273169</td>\n",
              "      <td>-0.271635</td>\n",
              "      <td>-0.270857</td>\n",
              "      <td>0.120466</td>\n",
              "      <td>-0.158057</td>\n",
              "      <td>0.757795</td>\n",
              "    </tr>\n",
              "    <tr>\n",
              "      <th>2</th>\n",
              "      <td>2016-03-01</td>\n",
              "      <td>0.066667</td>\n",
              "      <td>-0.219512</td>\n",
              "      <td>0.905496</td>\n",
              "      <td>0.000000</td>\n",
              "      <td>1.031648</td>\n",
              "      <td>-0.833333</td>\n",
              "      <td>-1.0</td>\n",
              "      <td>-0.014327</td>\n",
              "      <td>-0.159033</td>\n",
              "      <td>0.012674</td>\n",
              "      <td>-0.011401</td>\n",
              "      <td>-0.273018</td>\n",
              "      <td>-0.271635</td>\n",
              "      <td>-0.270868</td>\n",
              "      <td>-0.270857</td>\n",
              "      <td>0.161566</td>\n",
              "      <td>-0.158057</td>\n",
              "      <td>0.947996</td>\n",
              "    </tr>\n",
              "    <tr>\n",
              "      <th>3</th>\n",
              "      <td>2016-04-01</td>\n",
              "      <td>0.466667</td>\n",
              "      <td>0.487805</td>\n",
              "      <td>1.464644</td>\n",
              "      <td>0.666667</td>\n",
              "      <td>-0.272873</td>\n",
              "      <td>-0.666667</td>\n",
              "      <td>-1.0</td>\n",
              "      <td>1.032043</td>\n",
              "      <td>-0.014202</td>\n",
              "      <td>-0.159135</td>\n",
              "      <td>0.012683</td>\n",
              "      <td>-0.271483</td>\n",
              "      <td>-0.270868</td>\n",
              "      <td>-0.270868</td>\n",
              "      <td>-0.154338</td>\n",
              "      <td>0.108396</td>\n",
              "      <td>-0.285940</td>\n",
              "      <td>0.947996</td>\n",
              "    </tr>\n",
              "    <tr>\n",
              "      <th>4</th>\n",
              "      <td>2016-04-01</td>\n",
              "      <td>0.800000</td>\n",
              "      <td>-0.292683</td>\n",
              "      <td>-0.852833</td>\n",
              "      <td>0.666667</td>\n",
              "      <td>-0.271338</td>\n",
              "      <td>-0.666667</td>\n",
              "      <td>-1.0</td>\n",
              "      <td>-0.272977</td>\n",
              "      <td>1.032369</td>\n",
              "      <td>-0.014211</td>\n",
              "      <td>-0.159236</td>\n",
              "      <td>-0.270716</td>\n",
              "      <td>-0.270868</td>\n",
              "      <td>-0.154289</td>\n",
              "      <td>-0.152804</td>\n",
              "      <td>0.050647</td>\n",
              "      <td>-0.285940</td>\n",
              "      <td>0.947996</td>\n",
              "    </tr>\n",
              "  </tbody>\n",
              "</table>\n",
              "</div>"
            ],
            "text/plain": [
              "  year_month  SalesAgentEmailID  ...  rolling_min  rolling_max\n",
              "0 2016-03-01           0.533333  ...    -0.158057     0.757795\n",
              "1 2016-03-01           0.000000  ...    -0.158057     0.757795\n",
              "2 2016-03-01           0.066667  ...    -0.158057     0.947996\n",
              "3 2016-04-01           0.466667  ...    -0.285940     0.947996\n",
              "4 2016-04-01           0.800000  ...    -0.285940     0.947996\n",
              "\n",
              "[5 rows x 19 columns]"
            ]
          },
          "metadata": {
            "tags": []
          },
          "execution_count": 135
        }
      ]
    },
    {
      "cell_type": "markdown",
      "metadata": {
        "id": "ck_Dkn5ZpP5Z"
      },
      "source": [
        "Given current date : June 2019"
      ]
    },
    {
      "cell_type": "code",
      "metadata": {
        "id": "0siT0HB4a8-V"
      },
      "source": [
        "# Forecast for current month \n",
        "\n",
        "data_current_month = data[data['year_month'].between('2019-06-01', '2019-06-30')]"
      ],
      "execution_count": null,
      "outputs": []
    },
    {
      "cell_type": "code",
      "metadata": {
        "colab": {
          "base_uri": "https://localhost:8080/",
          "height": 234
        },
        "id": "4HiwxvDsbhcE",
        "outputId": "a2b382fe-de73-496c-d742-54bf92058034"
      },
      "source": [
        "data_current_month.head()"
      ],
      "execution_count": null,
      "outputs": [
        {
          "output_type": "execute_result",
          "data": {
            "text/html": [
              "<div>\n",
              "<style scoped>\n",
              "    .dataframe tbody tr th:only-of-type {\n",
              "        vertical-align: middle;\n",
              "    }\n",
              "\n",
              "    .dataframe tbody tr th {\n",
              "        vertical-align: top;\n",
              "    }\n",
              "\n",
              "    .dataframe thead th {\n",
              "        text-align: right;\n",
              "    }\n",
              "</style>\n",
              "<table border=\"1\" class=\"dataframe\">\n",
              "  <thead>\n",
              "    <tr style=\"text-align: right;\">\n",
              "      <th></th>\n",
              "      <th>year_month</th>\n",
              "      <th>SalesAgentEmailID</th>\n",
              "      <th>ContactEmailID</th>\n",
              "      <th>sentiment_scores</th>\n",
              "      <th>Product</th>\n",
              "      <th>Close_Value</th>\n",
              "      <th>month</th>\n",
              "      <th>year</th>\n",
              "      <th>lag_1</th>\n",
              "      <th>lag_2</th>\n",
              "      <th>lag_3</th>\n",
              "      <th>lag_4</th>\n",
              "      <th>lag_(-1)</th>\n",
              "      <th>lag_(-2)</th>\n",
              "      <th>lag_(-3)</th>\n",
              "      <th>lag_(-4)</th>\n",
              "      <th>rolling_avg</th>\n",
              "      <th>rolling_min</th>\n",
              "      <th>rolling_max</th>\n",
              "    </tr>\n",
              "  </thead>\n",
              "  <tbody>\n",
              "    <tr>\n",
              "      <th>3609</th>\n",
              "      <td>2019-06-01</td>\n",
              "      <td>0.133333</td>\n",
              "      <td>-0.463415</td>\n",
              "      <td>-0.941137</td>\n",
              "      <td>0.666667</td>\n",
              "      <td>-0.271850</td>\n",
              "      <td>-0.333333</td>\n",
              "      <td>0.5</td>\n",
              "      <td>1.391238</td>\n",
              "      <td>1.292605</td>\n",
              "      <td>1.215337</td>\n",
              "      <td>1.191007</td>\n",
              "      <td>-0.271483</td>\n",
              "      <td>-0.271635</td>\n",
              "      <td>-0.271379</td>\n",
              "      <td>-0.270857</td>\n",
              "      <td>0.965884</td>\n",
              "      <td>-0.284791</td>\n",
              "      <td>1.286024</td>\n",
              "    </tr>\n",
              "    <tr>\n",
              "      <th>3610</th>\n",
              "      <td>2019-06-01</td>\n",
              "      <td>0.733333</td>\n",
              "      <td>-0.365854</td>\n",
              "      <td>-0.784574</td>\n",
              "      <td>0.666667</td>\n",
              "      <td>-0.271338</td>\n",
              "      <td>-0.333333</td>\n",
              "      <td>0.5</td>\n",
              "      <td>-0.271954</td>\n",
              "      <td>1.391633</td>\n",
              "      <td>1.293432</td>\n",
              "      <td>1.216116</td>\n",
              "      <td>-0.271483</td>\n",
              "      <td>-0.271379</td>\n",
              "      <td>-0.270868</td>\n",
              "      <td>-0.270857</td>\n",
              "      <td>0.668869</td>\n",
              "      <td>-0.284791</td>\n",
              "      <td>1.286024</td>\n",
              "    </tr>\n",
              "    <tr>\n",
              "      <th>3611</th>\n",
              "      <td>2019-06-01</td>\n",
              "      <td>-0.400000</td>\n",
              "      <td>-0.390244</td>\n",
              "      <td>1.460385</td>\n",
              "      <td>0.666667</td>\n",
              "      <td>-0.271338</td>\n",
              "      <td>-0.333333</td>\n",
              "      <td>0.5</td>\n",
              "      <td>-0.271442</td>\n",
              "      <td>-0.271878</td>\n",
              "      <td>1.392523</td>\n",
              "      <td>1.294261</td>\n",
              "      <td>-0.271228</td>\n",
              "      <td>-0.270868</td>\n",
              "      <td>-0.270868</td>\n",
              "      <td>-0.270346</td>\n",
              "      <td>0.366756</td>\n",
              "      <td>-0.284791</td>\n",
              "      <td>1.286024</td>\n",
              "    </tr>\n",
              "    <tr>\n",
              "      <th>3612</th>\n",
              "      <td>2019-06-01</td>\n",
              "      <td>0.133333</td>\n",
              "      <td>-0.317073</td>\n",
              "      <td>-0.041828</td>\n",
              "      <td>0.666667</td>\n",
              "      <td>-0.271082</td>\n",
              "      <td>-0.333333</td>\n",
              "      <td>0.5</td>\n",
              "      <td>-0.271442</td>\n",
              "      <td>-0.271366</td>\n",
              "      <td>-0.272052</td>\n",
              "      <td>1.393415</td>\n",
              "      <td>-0.270716</td>\n",
              "      <td>-0.270868</td>\n",
              "      <td>-0.270357</td>\n",
              "      <td>-0.270346</td>\n",
              "      <td>0.048826</td>\n",
              "      <td>-0.284791</td>\n",
              "      <td>1.286024</td>\n",
              "    </tr>\n",
              "    <tr>\n",
              "      <th>3613</th>\n",
              "      <td>2019-06-01</td>\n",
              "      <td>0.600000</td>\n",
              "      <td>0.121951</td>\n",
              "      <td>3.306527</td>\n",
              "      <td>0.666667</td>\n",
              "      <td>-0.270571</td>\n",
              "      <td>-0.333333</td>\n",
              "      <td>0.5</td>\n",
              "      <td>-0.271186</td>\n",
              "      <td>-0.271366</td>\n",
              "      <td>-0.271540</td>\n",
              "      <td>-0.272226</td>\n",
              "      <td>-0.270716</td>\n",
              "      <td>-0.270357</td>\n",
              "      <td>-0.270357</td>\n",
              "      <td>-0.270091</td>\n",
              "      <td>-0.289133</td>\n",
              "      <td>-0.284791</td>\n",
              "      <td>-0.277958</td>\n",
              "    </tr>\n",
              "  </tbody>\n",
              "</table>\n",
              "</div>"
            ],
            "text/plain": [
              "     year_month  SalesAgentEmailID  ...  rolling_min  rolling_max\n",
              "3609 2019-06-01           0.133333  ...    -0.284791     1.286024\n",
              "3610 2019-06-01           0.733333  ...    -0.284791     1.286024\n",
              "3611 2019-06-01          -0.400000  ...    -0.284791     1.286024\n",
              "3612 2019-06-01           0.133333  ...    -0.284791     1.286024\n",
              "3613 2019-06-01           0.600000  ...    -0.284791    -0.277958\n",
              "\n",
              "[5 rows x 19 columns]"
            ]
          },
          "metadata": {
            "tags": []
          },
          "execution_count": 137
        }
      ]
    },
    {
      "cell_type": "code",
      "metadata": {
        "id": "nsm--UZHchgl"
      },
      "source": [
        "x_test = data_current_month[[\"SalesAgentEmailID\",\"ContactEmailID\",\"month\",\"year\",\"Product\",\"sentiment_scores\",\"lag_1\",\"lag_2\",\"lag_3\",\"lag_4\",\"rolling_avg\",\"rolling_min\",\"rolling_max\",\"lag_(-1)\",\"lag_(-2)\",\"lag_(-3)\",\"lag_(-4)\"]]\n",
        "y_test = data_current_month[['Close_Value']]"
      ],
      "execution_count": null,
      "outputs": []
    },
    {
      "cell_type": "code",
      "metadata": {
        "id": "xLx9Nuw5ha_n"
      },
      "source": [
        "x_test=x_test.values.reshape(x_test.shape[0],x_test.shape[1],1)"
      ],
      "execution_count": null,
      "outputs": []
    },
    {
      "cell_type": "code",
      "metadata": {
        "id": "64P8ZAl5emvX"
      },
      "source": [
        "y_pred = model.predict(x_test)"
      ],
      "execution_count": null,
      "outputs": []
    },
    {
      "cell_type": "code",
      "metadata": {
        "id": "JB32XKIod7xl"
      },
      "source": [
        "y_test_inv = cnt_transformer.inverse_transform(y_test.values.reshape(1,-1))\n",
        "y_pred_inv = cnt_transformer.inverse_transform(y_pred)"
      ],
      "execution_count": null,
      "outputs": []
    },
    {
      "cell_type": "code",
      "metadata": {
        "colab": {
          "base_uri": "https://localhost:8080/",
          "height": 265
        },
        "id": "uBTw21sxeAqk",
        "outputId": "8d64cf2f-614f-4980-c53f-2e8c1c259576"
      },
      "source": [
        "plt.plot(y_test_inv.flatten(),label = 'true')\n",
        "plt.plot(y_pred_inv.flatten(), 'r',label = 'predicted')\n",
        "plt.legend();"
      ],
      "execution_count": null,
      "outputs": [
        {
          "output_type": "display_data",
          "data": {
            "image/png": "[encoded data removed]",
            "text/plain": [
              "<Figure size 432x288 with 1 Axes>"
            ]
          },
          "metadata": {
            "tags": [],
            "needs_background": "light"
          }
        }
      ]
    },
    {
      "cell_type": "code",
      "metadata": {
        "colab": {
          "base_uri": "https://localhost:8080/"
        },
        "id": "klS6VROni8DB",
        "outputId": "c34fb436-2ed4-4b22-f2c1-923a29129a40"
      },
      "source": [
        "def rmse(predictions, targets):\n",
        "    return np.sqrt(((predictions - targets) ** 2).mean())\n",
        "\n",
        "rmse_val = rmse(np.array(y_pred), np.array(y_test))\n",
        "print(\"rmse error for current month is: \" + str(rmse_val))"
      ],
      "execution_count": null,
      "outputs": [
        {
          "output_type": "stream",
          "text": [
            "rmse error for current month is: 0.12454947295776107\n"
          ],
          "name": "stdout"
        }
      ]
    },
    {
      "cell_type": "code",
      "metadata": {
        "id": "7LWNUiULiGLP"
      },
      "source": [
        "# Forecast for the current quarter\n",
        "\n",
        "data_current_quarter = data[data['year_month'].between('2019-06-01', '2019-08-30')]"
      ],
      "execution_count": null,
      "outputs": []
    },
    {
      "cell_type": "code",
      "metadata": {
        "colab": {
          "base_uri": "https://localhost:8080/",
          "height": 234
        },
        "id": "-KXyguCriYM9",
        "outputId": "88699ff1-f56b-491b-ebb2-130681f62210"
      },
      "source": [
        "data_current_quarter.tail()"
      ],
      "execution_count": null,
      "outputs": [
        {
          "output_type": "execute_result",
          "data": {
            "text/html": [
              "<div>\n",
              "<style scoped>\n",
              "    .dataframe tbody tr th:only-of-type {\n",
              "        vertical-align: middle;\n",
              "    }\n",
              "\n",
              "    .dataframe tbody tr th {\n",
              "        vertical-align: top;\n",
              "    }\n",
              "\n",
              "    .dataframe thead th {\n",
              "        text-align: right;\n",
              "    }\n",
              "</style>\n",
              "<table border=\"1\" class=\"dataframe\">\n",
              "  <thead>\n",
              "    <tr style=\"text-align: right;\">\n",
              "      <th></th>\n",
              "      <th>year_month</th>\n",
              "      <th>SalesAgentEmailID</th>\n",
              "      <th>ContactEmailID</th>\n",
              "      <th>sentiment_scores</th>\n",
              "      <th>Product</th>\n",
              "      <th>Close_Value</th>\n",
              "      <th>month</th>\n",
              "      <th>year</th>\n",
              "      <th>lag_1</th>\n",
              "      <th>lag_2</th>\n",
              "      <th>lag_3</th>\n",
              "      <th>lag_4</th>\n",
              "      <th>lag_(-1)</th>\n",
              "      <th>lag_(-2)</th>\n",
              "      <th>lag_(-3)</th>\n",
              "      <th>lag_(-4)</th>\n",
              "      <th>rolling_avg</th>\n",
              "      <th>rolling_min</th>\n",
              "      <th>rolling_max</th>\n",
              "    </tr>\n",
              "  </thead>\n",
              "  <tbody>\n",
              "    <tr>\n",
              "      <th>3880</th>\n",
              "      <td>2019-08-01</td>\n",
              "      <td>1.000000</td>\n",
              "      <td>-0.536585</td>\n",
              "      <td>-0.662560</td>\n",
              "      <td>0.000000</td>\n",
              "      <td>1.266927</td>\n",
              "      <td>0.0</td>\n",
              "      <td>0.5</td>\n",
              "      <td>1.121842</td>\n",
              "      <td>1.101714</td>\n",
              "      <td>1.099347</td>\n",
              "      <td>1.080323</td>\n",
              "      <td>1.269437</td>\n",
              "      <td>1.293749</td>\n",
              "      <td>1.315736</td>\n",
              "      <td>1.417912</td>\n",
              "      <td>1.139286</td>\n",
              "      <td>1.232272</td>\n",
              "      <td>1.169496</td>\n",
              "    </tr>\n",
              "    <tr>\n",
              "      <th>3881</th>\n",
              "      <td>2019-08-01</td>\n",
              "      <td>0.800000</td>\n",
              "      <td>-0.219512</td>\n",
              "      <td>0.527813</td>\n",
              "      <td>-0.333333</td>\n",
              "      <td>1.269484</td>\n",
              "      <td>0.0</td>\n",
              "      <td>0.5</td>\n",
              "      <td>1.267413</td>\n",
              "      <td>1.122185</td>\n",
              "      <td>1.102420</td>\n",
              "      <td>1.100051</td>\n",
              "      <td>1.294501</td>\n",
              "      <td>1.315736</td>\n",
              "      <td>1.418765</td>\n",
              "      <td>-0.272646</td>\n",
              "      <td>1.178201</td>\n",
              "      <td>1.254400</td>\n",
              "      <td>1.171903</td>\n",
              "    </tr>\n",
              "    <tr>\n",
              "      <th>3882</th>\n",
              "      <td>2019-08-01</td>\n",
              "      <td>-0.333333</td>\n",
              "      <td>-0.487805</td>\n",
              "      <td>-1.129364</td>\n",
              "      <td>-0.333333</td>\n",
              "      <td>1.294546</td>\n",
              "      <td>0.0</td>\n",
              "      <td>0.5</td>\n",
              "      <td>1.269971</td>\n",
              "      <td>1.267784</td>\n",
              "      <td>1.122904</td>\n",
              "      <td>1.103126</td>\n",
              "      <td>1.316496</td>\n",
              "      <td>1.418765</td>\n",
              "      <td>-0.272658</td>\n",
              "      <td>-0.272646</td>\n",
              "      <td>1.218209</td>\n",
              "      <td>1.257849</td>\n",
              "      <td>1.195498</td>\n",
              "    </tr>\n",
              "    <tr>\n",
              "      <th>3883</th>\n",
              "      <td>2019-08-01</td>\n",
              "      <td>0.933333</td>\n",
              "      <td>0.341463</td>\n",
              "      <td>-0.058821</td>\n",
              "      <td>-0.333333</td>\n",
              "      <td>1.316540</td>\n",
              "      <td>0.0</td>\n",
              "      <td>0.5</td>\n",
              "      <td>1.295043</td>\n",
              "      <td>1.270343</td>\n",
              "      <td>1.268596</td>\n",
              "      <td>1.123623</td>\n",
              "      <td>1.419565</td>\n",
              "      <td>-0.272658</td>\n",
              "      <td>-0.272658</td>\n",
              "      <td>-0.272135</td>\n",
              "      <td>1.262067</td>\n",
              "      <td>1.280839</td>\n",
              "      <td>1.216203</td>\n",
              "    </tr>\n",
              "    <tr>\n",
              "      <th>3884</th>\n",
              "      <td>2019-08-01</td>\n",
              "      <td>-0.400000</td>\n",
              "      <td>-0.292683</td>\n",
              "      <td>-1.074464</td>\n",
              "      <td>-0.333333</td>\n",
              "      <td>1.419602</td>\n",
              "      <td>0.0</td>\n",
              "      <td>0.5</td>\n",
              "      <td>1.317045</td>\n",
              "      <td>1.295420</td>\n",
              "      <td>1.271156</td>\n",
              "      <td>1.269408</td>\n",
              "      <td>-0.272506</td>\n",
              "      <td>-0.272658</td>\n",
              "      <td>-0.272146</td>\n",
              "      <td>-0.270857</td>\n",
              "      <td>1.322729</td>\n",
              "      <td>1.444357</td>\n",
              "      <td>1.313230</td>\n",
              "    </tr>\n",
              "  </tbody>\n",
              "</table>\n",
              "</div>"
            ],
            "text/plain": [
              "     year_month  SalesAgentEmailID  ...  rolling_min  rolling_max\n",
              "3880 2019-08-01           1.000000  ...     1.232272     1.169496\n",
              "3881 2019-08-01           0.800000  ...     1.254400     1.171903\n",
              "3882 2019-08-01          -0.333333  ...     1.257849     1.195498\n",
              "3883 2019-08-01           0.933333  ...     1.280839     1.216203\n",
              "3884 2019-08-01          -0.400000  ...     1.444357     1.313230\n",
              "\n",
              "[5 rows x 19 columns]"
            ]
          },
          "metadata": {
            "tags": []
          },
          "execution_count": 162
        }
      ]
    },
    {
      "cell_type": "code",
      "metadata": {
        "id": "CSA1p3efii8I"
      },
      "source": [
        "x_test = data_current_quarter[[\"SalesAgentEmailID\",\"ContactEmailID\",\"month\",\"year\",\"Product\",\"sentiment_scores\",\"lag_1\",\"lag_2\",\"lag_3\",\"lag_4\",\"rolling_avg\",\"rolling_min\",\"rolling_max\",\"lag_(-1)\",\"lag_(-2)\",\"lag_(-3)\",\"lag_(-4)\"]]\n",
        "y_test = data_current_quarter[['Close_Value']]"
      ],
      "execution_count": null,
      "outputs": []
    },
    {
      "cell_type": "code",
      "metadata": {
        "id": "mBwG8aFviqXJ"
      },
      "source": [
        "x_test=x_test.values.reshape(x_test.shape[0],x_test.shape[1],1)"
      ],
      "execution_count": null,
      "outputs": []
    },
    {
      "cell_type": "code",
      "metadata": {
        "id": "Ry9E2E9Iiq5F"
      },
      "source": [
        "y_pred = model.predict(x_test)"
      ],
      "execution_count": null,
      "outputs": []
    },
    {
      "cell_type": "code",
      "metadata": {
        "id": "T1bPp2dJis8w"
      },
      "source": [
        "y_test_inv = cnt_transformer.inverse_transform(y_test.values.reshape(1,-1))\n",
        "y_pred_inv = cnt_transformer.inverse_transform(y_pred)"
      ],
      "execution_count": null,
      "outputs": []
    },
    {
      "cell_type": "code",
      "metadata": {
        "colab": {
          "base_uri": "https://localhost:8080/",
          "height": 265
        },
        "id": "tnJZEKwViu27",
        "outputId": "3fd46e3c-5b54-434f-df2b-a6fcbf947d68"
      },
      "source": [
        "plt.plot(y_test_inv.flatten(),label = 'true')\n",
        "plt.plot(y_pred_inv.flatten(), 'r',label = 'predicted')\n",
        "plt.legend();"
      ],
      "execution_count": null,
      "outputs": [
        {
          "output_type": "display_data",
          "data": {
            "image/png": "[encoded data removed]",
            "text/plain": [
              "<Figure size 432x288 with 1 Axes>"
            ]
          },
          "metadata": {
            "tags": [],
            "needs_background": "light"
          }
        }
      ]
    },
    {
      "cell_type": "code",
      "metadata": {
        "colab": {
          "base_uri": "https://localhost:8080/"
        },
        "id": "JGL2ioOWiyFI",
        "outputId": "ab85bf11-85c3-4c8c-d4ee-f8dcff1e8239"
      },
      "source": [
        "def rmse(predictions, targets):\n",
        "    return np.sqrt(((predictions - targets) ** 2).mean())\n",
        "\n",
        "rmse_val = rmse(np.array(y_pred), np.array(y_test))\n",
        "print(\"rmse error for current quarter is: \" + str(rmse_val))"
      ],
      "execution_count": null,
      "outputs": [
        {
          "output_type": "stream",
          "text": [
            "rmse error for current quarter is: 0.11464377720470002\n"
          ],
          "name": "stdout"
        }
      ]
    },
    {
      "cell_type": "code",
      "metadata": {
        "id": "1xMFgmQojJae"
      },
      "source": [
        "# Forecast for the current financial year\n",
        "\n",
        "data_current_financial_year = data[data['year_month'].between('2019-06-01', '2019-12-31')]"
      ],
      "execution_count": null,
      "outputs": []
    },
    {
      "cell_type": "code",
      "metadata": {
        "colab": {
          "base_uri": "https://localhost:8080/",
          "height": 234
        },
        "id": "JT5ChDZqjbi6",
        "outputId": "99e06878-40ad-4540-8d17-7cf45a4fb019"
      },
      "source": [
        "data_current_financial_year.tail()"
      ],
      "execution_count": null,
      "outputs": [
        {
          "output_type": "execute_result",
          "data": {
            "text/html": [
              "<div>\n",
              "<style scoped>\n",
              "    .dataframe tbody tr th:only-of-type {\n",
              "        vertical-align: middle;\n",
              "    }\n",
              "\n",
              "    .dataframe tbody tr th {\n",
              "        vertical-align: top;\n",
              "    }\n",
              "\n",
              "    .dataframe thead th {\n",
              "        text-align: right;\n",
              "    }\n",
              "</style>\n",
              "<table border=\"1\" class=\"dataframe\">\n",
              "  <thead>\n",
              "    <tr style=\"text-align: right;\">\n",
              "      <th></th>\n",
              "      <th>year_month</th>\n",
              "      <th>SalesAgentEmailID</th>\n",
              "      <th>ContactEmailID</th>\n",
              "      <th>sentiment_scores</th>\n",
              "      <th>Product</th>\n",
              "      <th>Close_Value</th>\n",
              "      <th>month</th>\n",
              "      <th>year</th>\n",
              "      <th>lag_1</th>\n",
              "      <th>lag_2</th>\n",
              "      <th>lag_3</th>\n",
              "      <th>lag_4</th>\n",
              "      <th>lag_(-1)</th>\n",
              "      <th>lag_(-2)</th>\n",
              "      <th>lag_(-3)</th>\n",
              "      <th>lag_(-4)</th>\n",
              "      <th>rolling_avg</th>\n",
              "      <th>rolling_min</th>\n",
              "      <th>rolling_max</th>\n",
              "    </tr>\n",
              "  </thead>\n",
              "  <tbody>\n",
              "    <tr>\n",
              "      <th>4225</th>\n",
              "      <td>2019-12-01</td>\n",
              "      <td>0.733333</td>\n",
              "      <td>-0.195122</td>\n",
              "      <td>0.759713</td>\n",
              "      <td>-0.333333</td>\n",
              "      <td>1.136244</td>\n",
              "      <td>0.666667</td>\n",
              "      <td>0.5</td>\n",
              "      <td>1.133099</td>\n",
              "      <td>1.109647</td>\n",
              "      <td>1.099347</td>\n",
              "      <td>1.098258</td>\n",
              "      <td>1.140281</td>\n",
              "      <td>1.164643</td>\n",
              "      <td>1.193788</td>\n",
              "      <td>1.214003</td>\n",
              "      <td>1.120245</td>\n",
              "      <td>1.252389</td>\n",
              "      <td>1.046467</td>\n",
              "    </tr>\n",
              "    <tr>\n",
              "      <th>4226</th>\n",
              "      <td>2019-12-01</td>\n",
              "      <td>0.666667</td>\n",
              "      <td>0.170732</td>\n",
              "      <td>1.159084</td>\n",
              "      <td>0.000000</td>\n",
              "      <td>1.140336</td>\n",
              "      <td>0.666667</td>\n",
              "      <td>0.5</td>\n",
              "      <td>1.136681</td>\n",
              "      <td>1.133444</td>\n",
              "      <td>1.110357</td>\n",
              "      <td>1.100051</td>\n",
              "      <td>1.165345</td>\n",
              "      <td>1.193788</td>\n",
              "      <td>1.214751</td>\n",
              "      <td>1.217325</td>\n",
              "      <td>1.129245</td>\n",
              "      <td>1.254400</td>\n",
              "      <td>1.050319</td>\n",
              "    </tr>\n",
              "    <tr>\n",
              "      <th>4227</th>\n",
              "      <td>2019-12-01</td>\n",
              "      <td>0.000000</td>\n",
              "      <td>-0.878049</td>\n",
              "      <td>1.331592</td>\n",
              "      <td>0.000000</td>\n",
              "      <td>1.165399</td>\n",
              "      <td>0.666667</td>\n",
              "      <td>0.5</td>\n",
              "      <td>1.140774</td>\n",
              "      <td>1.137027</td>\n",
              "      <td>1.134170</td>\n",
              "      <td>1.111068</td>\n",
              "      <td>1.194501</td>\n",
              "      <td>1.214751</td>\n",
              "      <td>1.218075</td>\n",
              "      <td>1.257442</td>\n",
              "      <td>1.142980</td>\n",
              "      <td>1.266758</td>\n",
              "      <td>1.073914</td>\n",
              "    </tr>\n",
              "    <tr>\n",
              "      <th>4228</th>\n",
              "      <td>2019-12-01</td>\n",
              "      <td>-0.533333</td>\n",
              "      <td>1.048780</td>\n",
              "      <td>-0.374796</td>\n",
              "      <td>-0.333333</td>\n",
              "      <td>1.194553</td>\n",
              "      <td>0.666667</td>\n",
              "      <td>0.5</td>\n",
              "      <td>1.165846</td>\n",
              "      <td>1.141121</td>\n",
              "      <td>1.137754</td>\n",
              "      <td>1.134896</td>\n",
              "      <td>1.215473</td>\n",
              "      <td>1.218075</td>\n",
              "      <td>1.258213</td>\n",
              "      <td>1.283761</td>\n",
              "      <td>1.160408</td>\n",
              "      <td>1.293484</td>\n",
              "      <td>1.101360</td>\n",
              "    </tr>\n",
              "    <tr>\n",
              "      <th>4229</th>\n",
              "      <td>2019-12-01</td>\n",
              "      <td>-0.666667</td>\n",
              "      <td>0.463415</td>\n",
              "      <td>-0.274710</td>\n",
              "      <td>0.000000</td>\n",
              "      <td>1.215523</td>\n",
              "      <td>0.666667</td>\n",
              "      <td>0.5</td>\n",
              "      <td>1.195011</td>\n",
              "      <td>1.166198</td>\n",
              "      <td>1.141851</td>\n",
              "      <td>1.138483</td>\n",
              "      <td>1.218798</td>\n",
              "      <td>1.258213</td>\n",
              "      <td>1.284546</td>\n",
              "      <td>1.431455</td>\n",
              "      <td>1.177265</td>\n",
              "      <td>1.297507</td>\n",
              "      <td>1.121103</td>\n",
              "    </tr>\n",
              "  </tbody>\n",
              "</table>\n",
              "</div>"
            ],
            "text/plain": [
              "     year_month  SalesAgentEmailID  ...  rolling_min  rolling_max\n",
              "4225 2019-12-01           0.733333  ...     1.252389     1.046467\n",
              "4226 2019-12-01           0.666667  ...     1.254400     1.050319\n",
              "4227 2019-12-01           0.000000  ...     1.266758     1.073914\n",
              "4228 2019-12-01          -0.533333  ...     1.293484     1.101360\n",
              "4229 2019-12-01          -0.666667  ...     1.297507     1.121103\n",
              "\n",
              "[5 rows x 19 columns]"
            ]
          },
          "metadata": {
            "tags": []
          },
          "execution_count": 179
        }
      ]
    },
    {
      "cell_type": "code",
      "metadata": {
        "id": "un1zR8oijlF7"
      },
      "source": [
        "x_test = data_current_financial_year[[\"SalesAgentEmailID\",\"ContactEmailID\",\"month\",\"year\",\"Product\",\"sentiment_scores\",\"lag_1\",\"lag_2\",\"lag_3\",\"lag_4\",\"rolling_avg\",\"rolling_min\",\"rolling_max\",\"lag_(-1)\",\"lag_(-2)\",\"lag_(-3)\",\"lag_(-4)\"]]\n",
        "y_test = data_current_financial_year[['Close_Value']]"
      ],
      "execution_count": null,
      "outputs": []
    },
    {
      "cell_type": "code",
      "metadata": {
        "id": "XBeqVDx_jlvl"
      },
      "source": [
        "x_test=x_test.values.reshape(x_test.shape[0],x_test.shape[1],1)"
      ],
      "execution_count": null,
      "outputs": []
    },
    {
      "cell_type": "code",
      "metadata": {
        "id": "uTZtdq_ijnqb"
      },
      "source": [
        "y_pred = model.predict(x_test)"
      ],
      "execution_count": null,
      "outputs": []
    },
    {
      "cell_type": "code",
      "metadata": {
        "id": "eOnbPFVBjp0C"
      },
      "source": [
        "y_test_inv = cnt_transformer.inverse_transform(y_test.values.reshape(1,-1))\n",
        "y_pred_inv = cnt_transformer.inverse_transform(y_pred)"
      ],
      "execution_count": null,
      "outputs": []
    },
    {
      "cell_type": "code",
      "metadata": {
        "colab": {
          "base_uri": "https://localhost:8080/",
          "height": 265
        },
        "id": "Qct-xXXkjsUI",
        "outputId": "034fe5fa-5dee-4fc5-a741-b05ec426b410"
      },
      "source": [
        "plt.plot(y_test_inv.flatten(),label = 'true')\n",
        "plt.plot(y_pred_inv.flatten(), 'r',label = 'predicted')\n",
        "plt.legend();"
      ],
      "execution_count": null,
      "outputs": [
        {
          "output_type": "display_data",
          "data": {
            "image/png": "[encoded data removed]",
            "text/plain": [
              "<Figure size 432x288 with 1 Axes>"
            ]
          },
          "metadata": {
            "tags": [],
            "needs_background": "light"
          }
        }
      ]
    },
    {
      "cell_type": "code",
      "metadata": {
        "colab": {
          "base_uri": "https://localhost:8080/"
        },
        "id": "N0X95t2Jju03",
        "outputId": "ca0c90af-c63f-43ee-bd7c-7b022406bbe8"
      },
      "source": [
        "def rmse(predictions, targets):\n",
        "    return np.sqrt(((predictions - targets) ** 2).mean())\n",
        "\n",
        "rmse_val = rmse(np.array(y_pred), np.array(y_test))\n",
        "print(\"rmse error for current financial year is: \" + str(rmse_val))"
      ],
      "execution_count": null,
      "outputs": [
        {
          "output_type": "stream",
          "text": [
            "rmse error for current financial year is: 0.1009921385624368\n"
          ],
          "name": "stdout"
        }
      ]
    }
  ]
}